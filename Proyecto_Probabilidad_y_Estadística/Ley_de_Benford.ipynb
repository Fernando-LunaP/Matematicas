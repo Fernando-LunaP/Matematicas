{
 "cells": [
  {
   "cell_type": "code",
   "execution_count": 160,
   "metadata": {},
   "outputs": [],
   "source": [
    "import pandas as pd\n",
    "import numpy as np\n",
    "import plotly.express as px\n",
    "import matplotlib.pyplot as plt\n",
    "import plotly.graph_objects as go"
   ]
  },
  {
   "cell_type": "markdown",
   "metadata": {},
   "source": [
    "Importamos nuestro dataset"
   ]
  },
  {
   "cell_type": "code",
   "execution_count": 197,
   "metadata": {},
   "outputs": [
    {
     "data": {
      "text/html": [
       "<div>\n",
       "<style scoped>\n",
       "    .dataframe tbody tr th:only-of-type {\n",
       "        vertical-align: middle;\n",
       "    }\n",
       "\n",
       "    .dataframe tbody tr th {\n",
       "        vertical-align: top;\n",
       "    }\n",
       "\n",
       "    .dataframe thead th {\n",
       "        text-align: right;\n",
       "    }\n",
       "</style>\n",
       "<table border=\"1\" class=\"dataframe\">\n",
       "  <thead>\n",
       "    <tr style=\"text-align: right;\">\n",
       "      <th></th>\n",
       "      <th>Fecha Entrada Registro</th>\n",
       "      <th>Importe Total</th>\n",
       "      <th>GRUPO DE GASTOS</th>\n",
       "      <th>SUBGRUPO</th>\n",
       "      <th>Denominación Factura</th>\n",
       "      <th>Denominación Acreedor</th>\n",
       "    </tr>\n",
       "  </thead>\n",
       "  <tbody>\n",
       "    <tr>\n",
       "      <th>0</th>\n",
       "      <td>09/02/2016</td>\n",
       "      <td>397.49</td>\n",
       "      <td>SEDE</td>\n",
       "      <td>SUMINISTROS</td>\n",
       "      <td>Suministro material eléct</td>\n",
       "      <td>MUÑOZ RADIO ELECTRICIDAD SL</td>\n",
       "    </tr>\n",
       "    <tr>\n",
       "      <th>1</th>\n",
       "      <td>12/02/2016</td>\n",
       "      <td>108.48</td>\n",
       "      <td>SEDE</td>\n",
       "      <td>SUMINISTROS</td>\n",
       "      <td>LATA BARNIZ POLIURETANO 5</td>\n",
       "      <td>FERRETERIA INDUSTRIAL ROMA SL</td>\n",
       "    </tr>\n",
       "    <tr>\n",
       "      <th>2</th>\n",
       "      <td>12/02/2016</td>\n",
       "      <td>570.78</td>\n",
       "      <td>ACTIVIDAD</td>\n",
       "      <td>MATERIAL INFORMÁTICO Y DE OFICINA</td>\n",
       "      <td>Suministro material de of</td>\n",
       "      <td>SEROF SA</td>\n",
       "    </tr>\n",
       "    <tr>\n",
       "      <th>3</th>\n",
       "      <td>22/02/2016</td>\n",
       "      <td>55.22</td>\n",
       "      <td>INDEMNIZACIONES POR RAZÓN DEL SERVICIO</td>\n",
       "      <td>DIETAS</td>\n",
       "      <td>Sevilla–Madrid–Sevilla</td>\n",
       "      <td>MANUEL MEDINA GUERRERO</td>\n",
       "    </tr>\n",
       "    <tr>\n",
       "      <th>4</th>\n",
       "      <td>23/02/2016</td>\n",
       "      <td>94.38</td>\n",
       "      <td>SEDE</td>\n",
       "      <td>MANTENIMIENTO</td>\n",
       "      <td>servicio manten.agua fuen</td>\n",
       "      <td>PURIFY HISPANIA SL</td>\n",
       "    </tr>\n",
       "    <tr>\n",
       "      <th>...</th>\n",
       "      <td>...</td>\n",
       "      <td>...</td>\n",
       "      <td>...</td>\n",
       "      <td>...</td>\n",
       "      <td>...</td>\n",
       "      <td>...</td>\n",
       "    </tr>\n",
       "    <tr>\n",
       "      <th>2127</th>\n",
       "      <td>25/03/2022</td>\n",
       "      <td>156,56</td>\n",
       "      <td>INDEMNIZACIÓN RAZÓN SERVICIO</td>\n",
       "      <td>DIETAS</td>\n",
       "      <td>VIAJE SEV–MADRID–SEV</td>\n",
       "      <td>JOSE LUIS FALCÓN PLIEGO</td>\n",
       "    </tr>\n",
       "    <tr>\n",
       "      <th>2128</th>\n",
       "      <td>28/03/2022</td>\n",
       "      <td>21,6</td>\n",
       "      <td>ACTIVIDAD DEL CONSEJO</td>\n",
       "      <td>DOCUMENTACIÓN Y PUBLICACIONES</td>\n",
       "      <td>I–ADMINISTRACIÓN PÚBLICA,</td>\n",
       "      <td>ESPASA CALPE SA</td>\n",
       "    </tr>\n",
       "    <tr>\n",
       "      <th>2129</th>\n",
       "      <td>28/03/2022</td>\n",
       "      <td>114,95</td>\n",
       "      <td>ACTIVIDAD DEL CONSEJO</td>\n",
       "      <td>GASTOS CONTENCIOSOS</td>\n",
       "      <td>MINUTA PROC.ORD. 303/2021</td>\n",
       "      <td>ELENA SÁNCHEZ DELGADO</td>\n",
       "    </tr>\n",
       "    <tr>\n",
       "      <th>2130</th>\n",
       "      <td>29/03/2022</td>\n",
       "      <td>152,9</td>\n",
       "      <td>INDEMNIZACIÓN RAZÓN SERVICIO</td>\n",
       "      <td>DIETAS</td>\n",
       "      <td>BILLETES AVE SEV–MAD–SEV</td>\n",
       "      <td>MANUEL GONZÁLEZ SECO</td>\n",
       "    </tr>\n",
       "    <tr>\n",
       "      <th>2131</th>\n",
       "      <td>31/03/2022</td>\n",
       "      <td>1312,5</td>\n",
       "      <td>ACTIVIDAD DEL CONSEJO</td>\n",
       "      <td>FORMACIÓN INTERNA</td>\n",
       "      <td>FORMACIÓN EN INGLÉS</td>\n",
       "      <td>ANNE VICTORIA BOYLE KATIE</td>\n",
       "    </tr>\n",
       "  </tbody>\n",
       "</table>\n",
       "<p>2132 rows × 6 columns</p>\n",
       "</div>"
      ],
      "text/plain": [
       "     Fecha Entrada Registro Importe Total  \\\n",
       "0                09/02/2016        397.49   \n",
       "1                12/02/2016        108.48   \n",
       "2                12/02/2016        570.78   \n",
       "3                22/02/2016         55.22   \n",
       "4                23/02/2016         94.38   \n",
       "...                     ...           ...   \n",
       "2127             25/03/2022        156,56   \n",
       "2128             28/03/2022          21,6   \n",
       "2129             28/03/2022        114,95   \n",
       "2130             29/03/2022         152,9   \n",
       "2131             31/03/2022        1312,5   \n",
       "\n",
       "                             GRUPO DE GASTOS  \\\n",
       "0                                       SEDE   \n",
       "1                                       SEDE   \n",
       "2                                  ACTIVIDAD   \n",
       "3     INDEMNIZACIONES POR RAZÓN DEL SERVICIO   \n",
       "4                                       SEDE   \n",
       "...                                      ...   \n",
       "2127            INDEMNIZACIÓN RAZÓN SERVICIO   \n",
       "2128                   ACTIVIDAD DEL CONSEJO   \n",
       "2129                   ACTIVIDAD DEL CONSEJO   \n",
       "2130            INDEMNIZACIÓN RAZÓN SERVICIO   \n",
       "2131                   ACTIVIDAD DEL CONSEJO   \n",
       "\n",
       "                               SUBGRUPO       Denominación Factura  \\\n",
       "0                           SUMINISTROS  Suministro material eléct   \n",
       "1                           SUMINISTROS  LATA BARNIZ POLIURETANO 5   \n",
       "2     MATERIAL INFORMÁTICO Y DE OFICINA  Suministro material de of   \n",
       "3                                DIETAS     Sevilla–Madrid–Sevilla   \n",
       "4                         MANTENIMIENTO  servicio manten.agua fuen   \n",
       "...                                 ...                        ...   \n",
       "2127                             DIETAS       VIAJE SEV–MADRID–SEV   \n",
       "2128      DOCUMENTACIÓN Y PUBLICACIONES  I–ADMINISTRACIÓN PÚBLICA,   \n",
       "2129                GASTOS CONTENCIOSOS  MINUTA PROC.ORD. 303/2021   \n",
       "2130                             DIETAS   BILLETES AVE SEV–MAD–SEV   \n",
       "2131                  FORMACIÓN INTERNA        FORMACIÓN EN INGLÉS   \n",
       "\n",
       "              Denominación Acreedor  \n",
       "0       MUÑOZ RADIO ELECTRICIDAD SL  \n",
       "1     FERRETERIA INDUSTRIAL ROMA SL  \n",
       "2                          SEROF SA  \n",
       "3            MANUEL MEDINA GUERRERO  \n",
       "4                PURIFY HISPANIA SL  \n",
       "...                             ...  \n",
       "2127        JOSE LUIS FALCÓN PLIEGO  \n",
       "2128                ESPASA CALPE SA  \n",
       "2129          ELENA SÁNCHEZ DELGADO  \n",
       "2130           MANUEL GONZÁLEZ SECO  \n",
       "2131      ANNE VICTORIA BOYLE KATIE  \n",
       "\n",
       "[2132 rows x 6 columns]"
      ]
     },
     "execution_count": 197,
     "metadata": {},
     "output_type": "execute_result"
    }
   ],
   "source": [
    "dataset = pd.read_csv('dataset_facturas.csv')\n",
    "dataset"
   ]
  },
  {
   "cell_type": "markdown",
   "metadata": {},
   "source": [
    "Extraemos el primer número"
   ]
  },
  {
   "cell_type": "code",
   "execution_count": 198,
   "metadata": {},
   "outputs": [
    {
     "data": {
      "text/html": [
       "<div>\n",
       "<style scoped>\n",
       "    .dataframe tbody tr th:only-of-type {\n",
       "        vertical-align: middle;\n",
       "    }\n",
       "\n",
       "    .dataframe tbody tr th {\n",
       "        vertical-align: top;\n",
       "    }\n",
       "\n",
       "    .dataframe thead th {\n",
       "        text-align: right;\n",
       "    }\n",
       "</style>\n",
       "<table border=\"1\" class=\"dataframe\">\n",
       "  <thead>\n",
       "    <tr style=\"text-align: right;\">\n",
       "      <th></th>\n",
       "      <th>Digitos</th>\n",
       "    </tr>\n",
       "  </thead>\n",
       "  <tbody>\n",
       "    <tr>\n",
       "      <th>0</th>\n",
       "      <td>3</td>\n",
       "    </tr>\n",
       "    <tr>\n",
       "      <th>1</th>\n",
       "      <td>1</td>\n",
       "    </tr>\n",
       "    <tr>\n",
       "      <th>2</th>\n",
       "      <td>5</td>\n",
       "    </tr>\n",
       "    <tr>\n",
       "      <th>3</th>\n",
       "      <td>5</td>\n",
       "    </tr>\n",
       "    <tr>\n",
       "      <th>4</th>\n",
       "      <td>9</td>\n",
       "    </tr>\n",
       "    <tr>\n",
       "      <th>...</th>\n",
       "      <td>...</td>\n",
       "    </tr>\n",
       "    <tr>\n",
       "      <th>2127</th>\n",
       "      <td>1</td>\n",
       "    </tr>\n",
       "    <tr>\n",
       "      <th>2128</th>\n",
       "      <td>2</td>\n",
       "    </tr>\n",
       "    <tr>\n",
       "      <th>2129</th>\n",
       "      <td>1</td>\n",
       "    </tr>\n",
       "    <tr>\n",
       "      <th>2130</th>\n",
       "      <td>1</td>\n",
       "    </tr>\n",
       "    <tr>\n",
       "      <th>2131</th>\n",
       "      <td>1</td>\n",
       "    </tr>\n",
       "  </tbody>\n",
       "</table>\n",
       "<p>2132 rows × 1 columns</p>\n",
       "</div>"
      ],
      "text/plain": [
       "     Digitos\n",
       "0          3\n",
       "1          1\n",
       "2          5\n",
       "3          5\n",
       "4          9\n",
       "...      ...\n",
       "2127       1\n",
       "2128       2\n",
       "2129       1\n",
       "2130       1\n",
       "2131       1\n",
       "\n",
       "[2132 rows x 1 columns]"
      ]
     },
     "execution_count": 198,
     "metadata": {},
     "output_type": "execute_result"
    }
   ],
   "source": [
    "df_digitos = pd.DataFrame(dataset['Importe Total'].str.slice(0, 1))\n",
    "df_digitos.columns = ['Digitos']\n",
    "df_digitos"
   ]
  },
  {
   "cell_type": "markdown",
   "metadata": {},
   "source": [
    "Realizamos la agrupación por dígitos para contar cuantas veces aparece cada número en nuestro conjunto de datos"
   ]
  },
  {
   "cell_type": "code",
   "execution_count": 199,
   "metadata": {},
   "outputs": [
    {
     "data": {
      "text/plain": [
       "array([684, 407, 260, 169, 114, 141, 123,  79, 154], dtype=int64)"
      ]
     },
     "execution_count": 199,
     "metadata": {},
     "output_type": "execute_result"
    }
   ],
   "source": [
    "df_digitos_agrup = np.array(df_digitos[df_digitos['Digitos']!='0'].groupby(['Digitos']).size())\n",
    "df_digitos_agrup"
   ]
  },
  {
   "cell_type": "code",
   "execution_count": 201,
   "metadata": {},
   "outputs": [
    {
     "data": {
      "text/plain": [
       "array([0.32082552, 0.19090056, 0.12195122, 0.07926829, 0.05347092,\n",
       "       0.06613508, 0.05769231, 0.03705441, 0.07223265])"
      ]
     },
     "execution_count": 201,
     "metadata": {},
     "output_type": "execute_result"
    }
   ],
   "source": [
    "frecuencia = df_digitos_agrup/2132\n",
    "frecuencia"
   ]
  },
  {
   "cell_type": "markdown",
   "metadata": {},
   "source": [
    "Obtenemos la probabilidad de ocurrencia de cada dígito"
   ]
  },
  {
   "cell_type": "code",
   "execution_count": 203,
   "metadata": {},
   "outputs": [
    {
     "data": {
      "text/html": [
       "<div>\n",
       "<style scoped>\n",
       "    .dataframe tbody tr th:only-of-type {\n",
       "        vertical-align: middle;\n",
       "    }\n",
       "\n",
       "    .dataframe tbody tr th {\n",
       "        vertical-align: top;\n",
       "    }\n",
       "\n",
       "    .dataframe thead tr th {\n",
       "        text-align: left;\n",
       "    }\n",
       "</style>\n",
       "<table border=\"1\" class=\"dataframe\">\n",
       "  <thead>\n",
       "    <tr>\n",
       "      <th></th>\n",
       "      <th>Digito</th>\n",
       "      <th>Probabilidad</th>\n",
       "      <th>Ocurrencia_calculada</th>\n",
       "      <th>Frecuencia</th>\n",
       "      <th>Ocurrencia_medida</th>\n",
       "    </tr>\n",
       "  </thead>\n",
       "  <tbody>\n",
       "    <tr>\n",
       "      <th>0</th>\n",
       "      <td>1.0</td>\n",
       "      <td>0.301030</td>\n",
       "      <td>641.795951</td>\n",
       "      <td>0.320826</td>\n",
       "      <td>684.0</td>\n",
       "    </tr>\n",
       "    <tr>\n",
       "      <th>1</th>\n",
       "      <td>2.0</td>\n",
       "      <td>0.176091</td>\n",
       "      <td>375.426564</td>\n",
       "      <td>0.190901</td>\n",
       "      <td>407.0</td>\n",
       "    </tr>\n",
       "    <tr>\n",
       "      <th>2</th>\n",
       "      <td>3.0</td>\n",
       "      <td>0.124939</td>\n",
       "      <td>266.369386</td>\n",
       "      <td>0.121951</td>\n",
       "      <td>260.0</td>\n",
       "    </tr>\n",
       "    <tr>\n",
       "      <th>3</th>\n",
       "      <td>4.0</td>\n",
       "      <td>0.096910</td>\n",
       "      <td>206.612148</td>\n",
       "      <td>0.079268</td>\n",
       "      <td>169.0</td>\n",
       "    </tr>\n",
       "    <tr>\n",
       "      <th>4</th>\n",
       "      <td>5.0</td>\n",
       "      <td>0.079181</td>\n",
       "      <td>168.814417</td>\n",
       "      <td>0.053471</td>\n",
       "      <td>114.0</td>\n",
       "    </tr>\n",
       "    <tr>\n",
       "      <th>5</th>\n",
       "      <td>6.0</td>\n",
       "      <td>0.066947</td>\n",
       "      <td>142.730555</td>\n",
       "      <td>0.066135</td>\n",
       "      <td>141.0</td>\n",
       "    </tr>\n",
       "    <tr>\n",
       "      <th>6</th>\n",
       "      <td>7.0</td>\n",
       "      <td>0.057992</td>\n",
       "      <td>123.638831</td>\n",
       "      <td>0.057692</td>\n",
       "      <td>123.0</td>\n",
       "    </tr>\n",
       "    <tr>\n",
       "      <th>7</th>\n",
       "      <td>8.0</td>\n",
       "      <td>0.051153</td>\n",
       "      <td>109.057178</td>\n",
       "      <td>0.037054</td>\n",
       "      <td>79.0</td>\n",
       "    </tr>\n",
       "    <tr>\n",
       "      <th>8</th>\n",
       "      <td>9.0</td>\n",
       "      <td>0.045757</td>\n",
       "      <td>97.554970</td>\n",
       "      <td>0.072233</td>\n",
       "      <td>154.0</td>\n",
       "    </tr>\n",
       "  </tbody>\n",
       "</table>\n",
       "</div>"
      ],
      "text/plain": [
       "  Digito Probabilidad Ocurrencia_calculada Frecuencia Ocurrencia_medida\n",
       "0    1.0     0.301030           641.795951   0.320826             684.0\n",
       "1    2.0     0.176091           375.426564   0.190901             407.0\n",
       "2    3.0     0.124939           266.369386   0.121951             260.0\n",
       "3    4.0     0.096910           206.612148   0.079268             169.0\n",
       "4    5.0     0.079181           168.814417   0.053471             114.0\n",
       "5    6.0     0.066947           142.730555   0.066135             141.0\n",
       "6    7.0     0.057992           123.638831   0.057692             123.0\n",
       "7    8.0     0.051153           109.057178   0.037054              79.0\n",
       "8    9.0     0.045757            97.554970   0.072233             154.0"
      ]
     },
     "execution_count": 203,
     "metadata": {},
     "output_type": "execute_result"
    }
   ],
   "source": [
    "digitos = np.arange(1,10)\n",
    "lista = []\n",
    "lista1 = []\n",
    "\n",
    "for i in range(len(digitos)):\n",
    "    lista.append(np.log10(1+(1/(i+1))))\n",
    "    lista1.append(np.log10(1+(1/(i+1))) * 2132)\n",
    "\n",
    "lista_prob = np.array(lista)\n",
    "lista_ocurr = np.array(lista1)\n",
    "prob_ocurr = np.column_stack((digitos, lista_prob, lista_ocurr, frecuencia, df_digitos_agrup))\n",
    "df_prob_ocurr = pd.DataFrame(prob_ocurr, columns=[['Digito', 'Probabilidad', 'Ocurrencia_calculada', 'Frecuencia', 'Ocurrencia_medida']])\n",
    "df_prob_ocurr"
   ]
  },
  {
   "cell_type": "markdown",
   "metadata": {},
   "source": [
    "Realizamos la gráfica"
   ]
  },
  {
   "cell_type": "code",
   "execution_count": 205,
   "metadata": {},
   "outputs": [
    {
     "data": {
      "image/png": "[encoded data removed]",
      "text/plain": [
       "<Figure size 1000x600 with 1 Axes>"
      ]
     },
     "metadata": {},
     "output_type": "display_data"
    }
   ],
   "source": [
    "plt.figure(figsize=(10,6))\n",
    "plt.plot(df_prob_ocurr.Digito, df_prob_ocurr.Ocurrencia_calculada)\n",
    "plt.plot(df_prob_ocurr.Digito, df_prob_ocurr.Ocurrencia_medida)\n",
    "plt.title('Ocurrencia esperada vs frecuencia absoluta observada')\n",
    "plt.legend([\"Ocurrencia esperada\", \"Frecuencia absoluta\"], loc =\"upper right\")\n",
    "plt.xlabel('Digito')\n",
    "plt.ylabel('Frecuencia absoluta')\n",
    "plt.savefig('Fig1')\n",
    "plt.show()"
   ]
  },
  {
   "cell_type": "markdown",
   "metadata": {},
   "source": [
    "Procedemos a realizar nuestra prueba de chi-cuadrada"
   ]
  },
  {
   "attachments": {},
   "cell_type": "markdown",
   "metadata": {},
   "source": [
    "Para esto utilizamos la fórmula $\\chi^2 = \\sum_{i} (observado_i - esperado_i)/esperado_i $"
   ]
  },
  {
   "cell_type": "code",
   "execution_count": 214,
   "metadata": {},
   "outputs": [
    {
     "name": "stdout",
     "output_type": "stream",
     "text": [
      "71.19556528584567\n"
     ]
    }
   ],
   "source": [
    "chi = ((df_digitos_agrup - lista_ocurr) * (df_digitos_agrup - lista_ocurr))/lista_ocurr\n",
    "suma = 0\n",
    "\n",
    "for i in chi:\n",
    "    suma = suma + i\n",
    "\n",
    "print(suma)"
   ]
  }
 ],
 "metadata": {
  "kernelspec": {
   "display_name": "Python 3.10.6 64-bit",
   "language": "python",
   "name": "python3"
  },
  "language_info": {
   "codemirror_mode": {
    "name": "ipython",
    "version": 3
   },
   "file_extension": ".py",
   "mimetype": "text/x-python",
   "name": "python",
   "nbconvert_exporter": "python",
   "pygments_lexer": "ipython3",
   "version": "3.10.6"
  },
  "orig_nbformat": 4,
  "vscode": {
   "interpreter": {
    "hash": "1cbadf7e30f156f4e0b68f4bca81fa70237e67691d6ebe573bb449e31d409fb8"
   }
  }
 },
 "nbformat": 4,
 "nbformat_minor": 2
}
