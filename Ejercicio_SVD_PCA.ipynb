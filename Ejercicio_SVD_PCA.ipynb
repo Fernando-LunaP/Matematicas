{
  "nbformat": 4,
  "nbformat_minor": 0,
  "metadata": {
    "colab": {
      "provenance": [],
      "authorship_tag": "ABX9TyPUC8mO5QNf7+39SWyf7aYS",
      "include_colab_link": true
    },
    "kernelspec": {
      "name": "python3",
      "display_name": "Python 3"
    },
    "language_info": {
      "name": "python"
    }
  },
  "cells": [
    {
      "cell_type": "markdown",
      "metadata": {
        "id": "view-in-github",
        "colab_type": "text"
      },
      "source": [
        "<a href=\"https://colab.research.google.com/github/Fernando-LunaP/Matematicas/blob/main/Ejercicio_SVD_PCA.ipynb\" target=\"_parent\"><img src=\"https://colab.research.google.com/assets/colab-badge.svg\" alt=\"Open In Colab\"/></a>"
      ]
    },
    {
      "cell_type": "markdown",
      "source": [
        "**Alumno:** Fernando Luna Ponce  \n",
        "**Asignatura:** Matemáticas para para Ciencia de Datos\n"
      ],
      "metadata": {
        "id": "Tw_FzdS6Rm75"
      }
    },
    {
      "cell_type": "code",
      "execution_count": 42,
      "metadata": {
        "id": "hUSXmsB7hBAp"
      },
      "outputs": [],
      "source": [
        "# generate related variables\n",
        "import numpy as np\n",
        "from numpy.random import randn\n",
        "from matplotlib import pyplot\n",
        "import matplotlib.pyplot as plt\n",
        "from IPython import display\n",
        "from sklearn.preprocessing import StandardScaler\n",
        "import pandas as pd\n",
        "import plotly.express as px\n",
        "import statsmodels.api as sm"
      ]
    },
    {
      "cell_type": "markdown",
      "source": [
        "# Creación de matriz A_std a partir de dos variables"
      ],
      "metadata": {
        "id": "fppGcT4ihJxS"
      }
    },
    {
      "cell_type": "markdown",
      "source": [
        "Vamos a tomar como como ejemplo el dataset USArrests que viene en la librería statsmodel que contiene el número de asaltos, asesinatos, violaciones por cada 100,000 habitantes, también incluye el porcentaje de población viviendo en áreas urbanas en cada uno de los Estados de USA."
      ],
      "metadata": {
        "id": "UJGDYeTuofKD"
      }
    },
    {
      "cell_type": "code",
      "source": [
        "USArrests = sm.datasets.get_rdataset(\"USArrests\", \"datasets\")\n",
        "X = USArrests.data\n",
        "X.info()"
      ],
      "metadata": {
        "colab": {
          "base_uri": "https://localhost:8080/"
        },
        "id": "T0ZXMr_4r6kc",
        "outputId": "746a5793-d15e-4b50-ee0f-dd5180831a40"
      },
      "execution_count": 43,
      "outputs": [
        {
          "output_type": "stream",
          "name": "stdout",
          "text": [
            "<class 'pandas.core.frame.DataFrame'>\n",
            "Index: 50 entries, Alabama to Wyoming\n",
            "Data columns (total 4 columns):\n",
            " #   Column    Non-Null Count  Dtype  \n",
            "---  ------    --------------  -----  \n",
            " 0   Murder    50 non-null     float64\n",
            " 1   Assault   50 non-null     int64  \n",
            " 2   UrbanPop  50 non-null     int64  \n",
            " 3   Rape      50 non-null     float64\n",
            "dtypes: float64(2), int64(2)\n",
            "memory usage: 2.0+ KB\n"
          ]
        }
      ]
    },
    {
      "cell_type": "code",
      "source": [
        "X.shape"
      ],
      "metadata": {
        "colab": {
          "base_uri": "https://localhost:8080/"
        },
        "id": "c32OM7dtoonC",
        "outputId": "dad4990a-9bed-4841-fbda-b028dfae0abe"
      },
      "execution_count": 44,
      "outputs": [
        {
          "output_type": "execute_result",
          "data": {
            "text/plain": [
              "(50, 4)"
            ]
          },
          "metadata": {},
          "execution_count": 44
        }
      ]
    },
    {
      "cell_type": "markdown",
      "source": [
        "Los aspectos principales cuando tenemos que hacer un PCA es analizar, la media y la varianza de cada una de sus columnas."
      ],
      "metadata": {
        "id": "Dvv9OBNhuhea"
      }
    },
    {
      "cell_type": "code",
      "source": [
        "print('Media de cada variable')\n",
        "X.mean(axis=0)"
      ],
      "metadata": {
        "colab": {
          "base_uri": "https://localhost:8080/"
        },
        "id": "DkcDllIGueZ9",
        "outputId": "2a046543-70f4-46cc-d3bb-370b27b08708"
      },
      "execution_count": 45,
      "outputs": [
        {
          "output_type": "stream",
          "name": "stdout",
          "text": [
            "Media de cada variable\n"
          ]
        },
        {
          "output_type": "execute_result",
          "data": {
            "text/plain": [
              "Murder        7.788\n",
              "Assault     170.760\n",
              "UrbanPop     65.540\n",
              "Rape         21.232\n",
              "dtype: float64"
            ]
          },
          "metadata": {},
          "execution_count": 45
        }
      ]
    },
    {
      "cell_type": "code",
      "source": [
        "print('Varianza de cada variable')\n",
        "X.var(axis=0)"
      ],
      "metadata": {
        "colab": {
          "base_uri": "https://localhost:8080/"
        },
        "id": "YOxCNtdEvKIA",
        "outputId": "c22af68b-28e5-44d1-dce4-a276c6ff93ed"
      },
      "execution_count": 46,
      "outputs": [
        {
          "output_type": "stream",
          "name": "stdout",
          "text": [
            "Varianza de cada variable\n"
          ]
        },
        {
          "output_type": "execute_result",
          "data": {
            "text/plain": [
              "Murder        18.970465\n",
              "Assault     6945.165714\n",
              "UrbanPop     209.518776\n",
              "Rape          87.729159\n",
              "dtype: float64"
            ]
          },
          "metadata": {},
          "execution_count": 46
        }
      ]
    },
    {
      "cell_type": "markdown",
      "source": [
        "El siguiente paso es realizar una estandarización de los datos para que estos tengan media igual a 0 y varianza igual a 1"
      ],
      "metadata": {
        "id": "kSAWHRQ3vdTz"
      }
    },
    {
      "cell_type": "code",
      "source": [
        "scaler = StandardScaler()\n",
        "X_std = scaler.fit_transform(X)\n",
        "for i in range(X_std.shape[1]):\n",
        "  print('Variable: ', X.columns[i])\n",
        "  print('Media: ', round(X_std[:, i].mean(), 4))\n",
        "  print('Varianza: ', round(X_std[:, i].var(), 4))\n",
        "  print('--------------------')"
      ],
      "metadata": {
        "colab": {
          "base_uri": "https://localhost:8080/"
        },
        "id": "KrcxVLeFhYYK",
        "outputId": "57ea27e6-5628-47c9-e8db-9891e007dcd1"
      },
      "execution_count": 47,
      "outputs": [
        {
          "output_type": "stream",
          "name": "stdout",
          "text": [
            "Variable:  Murder\n",
            "Media:  -0.0\n",
            "Varianza:  1.0\n",
            "--------------------\n",
            "Variable:  Assault\n",
            "Media:  0.0\n",
            "Varianza:  1.0\n",
            "--------------------\n",
            "Variable:  UrbanPop\n",
            "Media:  -0.0\n",
            "Varianza:  1.0\n",
            "--------------------\n",
            "Variable:  Rape\n",
            "Media:  0.0\n",
            "Varianza:  1.0\n",
            "--------------------\n"
          ]
        }
      ]
    },
    {
      "cell_type": "markdown",
      "source": [
        "Generamos nuestros dataframes"
      ],
      "metadata": {
        "id": "4xHZUorVl26Y"
      }
    },
    {
      "cell_type": "code",
      "source": [
        "# Dataframe A\n",
        "A = pd.DataFrame(X)\n",
        "# Dataframe A_std\n",
        "A_std = pd.DataFrame(X_std)\n",
        "# Dataframe A_centered\n",
        "A_centered = pd.DataFrame(X - X.mean())"
      ],
      "metadata": {
        "id": "JeSXKjBPh84v"
      },
      "execution_count": 48,
      "outputs": []
    },
    {
      "cell_type": "markdown",
      "source": [
        "Hacemos el scatterplot con las primeras dos columnas"
      ],
      "metadata": {
        "id": "mpDkk20tq4DX"
      }
    },
    {
      "cell_type": "code",
      "source": [
        "import plotly.graph_objects as go\n",
        "fig_1 = px.scatter(A, x=A.columns[0], y=A.columns[1],\n",
        "                  opacity=0.8,\n",
        "                   color_discrete_sequence=['blueviolet']\n",
        "                  )\n",
        "fig_2 = px.scatter(A_std, x=A_std.columns[0], y=A_std.columns[1], \n",
        "                    opacity=0.8,\n",
        "                   color_discrete_sequence=['orange']\n",
        "                   )\n",
        "fig_3 = px.scatter(A_centered, x=A_centered.columns[0], y=A_centered.columns[1], \n",
        "                   opacity=0.8,\n",
        "                   color_discrete_sequence=['gray']\n",
        "                   )\n",
        "fig = go.Figure(data=fig_1.data + fig_2.data + fig_3.data )\n",
        "fig.show()"
      ],
      "metadata": {
        "colab": {
          "base_uri": "https://localhost:8080/",
          "height": 542
        },
        "id": "gSccKX0o3iru",
        "outputId": "a306b0a6-eeb6-4605-d832-5c67cd8cf196"
      },
      "execution_count": 49,
      "outputs": [
        {
          "output_type": "display_data",
          "data": {
            "text/html": [
              "<html>\n",
              "<head><meta charset=\"utf-8\" /></head>\n",
              "<body>\n",
              "    <div>            <script src=\"https://cdnjs.cloudflare.com/ajax/libs/mathjax/2.7.5/MathJax.js?config=TeX-AMS-MML_SVG\"></script><script type=\"text/javascript\">if (window.MathJax) {MathJax.Hub.Config({SVG: {font: \"STIX-Web\"}});}</script>                <script type=\"text/javascript\">window.PlotlyConfig = {MathJaxConfig: 'local'};</script>\n",
              "        <script src=\"https://cdn.plot.ly/plotly-2.8.3.min.js\"></script>                <div id=\"4f075302-ee01-49d3-996b-49161c38d0dc\" class=\"plotly-graph-div\" style=\"height:525px; width:100%;\"></div>            <script type=\"text/javascript\">                                    window.PLOTLYENV=window.PLOTLYENV || {};                                    if (document.getElementById(\"4f075302-ee01-49d3-996b-49161c38d0dc\")) {                    Plotly.newPlot(                        \"4f075302-ee01-49d3-996b-49161c38d0dc\",                        [{\"hovertemplate\":\"Murder=%{x}<br>Assault=%{y}<extra></extra>\",\"legendgroup\":\"\",\"marker\":{\"color\":\"blueviolet\",\"opacity\":0.8,\"symbol\":\"circle\"},\"mode\":\"markers\",\"name\":\"\",\"orientation\":\"v\",\"showlegend\":false,\"x\":[13.2,10.0,8.1,8.8,9.0,7.9,3.3,5.9,15.4,17.4,5.3,2.6,10.4,7.2,2.2,6.0,9.7,15.4,2.1,11.3,4.4,12.1,2.7,16.1,9.0,6.0,4.3,12.2,2.1,7.4,11.4,11.1,13.0,0.8,7.3,6.6,4.9,6.3,3.4,14.4,3.8,13.2,12.7,3.2,2.2,8.5,4.0,5.7,2.6,6.8],\"xaxis\":\"x\",\"y\":[236,263,294,190,276,204,110,238,335,211,46,120,249,113,56,115,109,249,83,300,149,255,72,259,178,109,102,252,57,159,285,254,337,45,120,151,159,106,174,279,86,188,201,120,48,156,145,81,53,161],\"yaxis\":\"y\",\"type\":\"scatter\"},{\"hovertemplate\":\"0=%{x}<br>1=%{y}<extra></extra>\",\"legendgroup\":\"\",\"marker\":{\"color\":\"orange\",\"opacity\":0.8,\"symbol\":\"circle\"},\"mode\":\"markers\",\"name\":\"\",\"orientation\":\"v\",\"showlegend\":false,\"x\":[1.255179271101703,0.5130185786542807,0.07236066751362354,0.23470831898649744,0.2810933622644612,0.025975624235659807,-1.04088037115751,-0.4378748085439792,1.765414747159306,2.2292651799389445,-0.577029938377871,-1.2032280226303838,0.6057886652102086,-0.1363720272372139,-1.2959981091863113,-0.4146822869049973,0.44344101373733463,1.765414747159306,-1.3191906308252934,0.8145213599610461,-0.7857626331287084,1.0000615330729015,-1.1800355009914016,1.92776239863218,0.2810933622644612,-0.4146822869049973,-0.8089551547676905,1.0232540547118834,-1.3191906308252934,-0.08998698395924994,0.837713881600028,0.768136316683082,1.2087942278237391,-1.6206934121320586,-0.11317950559823202,-0.2755271570711057,-0.6698000249337986,-0.34510472198805153,-1.017687849518528,1.5334895307694865,-0.9249177629626003,1.255179271101703,1.1392166629067932,-1.064072892796492,-1.2959981091863113,0.1651307540695514,-0.8785327196846363,-0.48425985182194314,-1.2032280226303838,-0.22914211379314176],\"xaxis\":\"x\",\"y\":[0.7907871584384722,1.118059587589894,1.4938168210600447,0.23321190877308726,1.2756352016257637,0.40290872388863924,-0.7364841776014954,0.8150295605978368,1.9907860653270184,0.4877571314464152,-1.5122410467011616,-0.6152721668046726,0.948362772474342,-0.7001205743624486,-1.3910290359043387,-0.675878172203084,-0.7486053786811777,0.948362772474342,-1.0637566067529172,1.5665440275381384,-0.26375733549388636,1.0210899789524357,-1.1970898186294223,1.0695747832711648,0.08775749581689984,-0.7486053786811777,-0.8334537862389537,0.9847263757133888,-1.3789078348246564,-0.14254532469706355,1.3847260113429043,1.0089687778727534,2.015028467486383,-1.5243622477808438,-0.6152721668046726,-0.2395149333345218,-0.14254532469706355,-0.7849689819202246,0.03927269149817071,1.3119988048648106,-1.0273930035138703,0.20896950661372268,0.3665451206495924,-0.6152721668046726,-1.487998644541797,-0.1789089279361104,-0.3122421398126155,-1.0879990089122817,-1.4273926391433855,-0.11830292253769897],\"yaxis\":\"y\",\"type\":\"scatter\"},{\"hovertemplate\":\"Murder=%{x}<br>Assault=%{y}<extra></extra>\",\"legendgroup\":\"\",\"marker\":{\"color\":\"gray\",\"opacity\":0.8,\"symbol\":\"circle\"},\"mode\":\"markers\",\"name\":\"\",\"orientation\":\"v\",\"showlegend\":false,\"x\":[5.411999999999999,2.2119999999999997,0.3119999999999994,1.0120000000000005,1.2119999999999997,0.1120000000000001,-4.488,-1.888,7.612,9.611999999999998,-2.4880000000000004,-5.188000000000001,2.612,-0.5880000000000001,-5.588,-1.7880000000000003,1.911999999999999,7.612,-5.688000000000001,3.5120000000000005,-3.388,4.311999999999999,-5.088,8.312000000000001,1.2119999999999997,-1.7880000000000003,-3.4880000000000004,4.411999999999999,-5.688000000000001,-0.3879999999999999,3.612,3.3119999999999994,5.212,-6.988,-0.48800000000000043,-1.1880000000000006,-2.888,-1.4880000000000004,-4.388,6.612,-3.9880000000000004,5.411999999999999,4.911999999999999,-4.588,-5.588,0.7119999999999997,-3.7880000000000003,-2.088,-5.188000000000001,-0.9880000000000004],\"xaxis\":\"x\",\"y\":[65.24000000000001,92.24000000000001,123.24000000000001,19.24000000000001,105.24000000000001,33.24000000000001,-60.75999999999999,67.24000000000001,164.24,40.24000000000001,-124.75999999999999,-50.75999999999999,78.24000000000001,-57.75999999999999,-114.75999999999999,-55.75999999999999,-61.75999999999999,78.24000000000001,-87.75999999999999,129.24,-21.75999999999999,84.24000000000001,-98.75999999999999,88.24000000000001,7.240000000000009,-61.75999999999999,-68.75999999999999,81.24000000000001,-113.75999999999999,-11.759999999999991,114.24000000000001,83.24000000000001,166.24,-125.75999999999999,-50.75999999999999,-19.75999999999999,-11.759999999999991,-64.75999999999999,3.240000000000009,108.24000000000001,-84.75999999999999,17.24000000000001,30.24000000000001,-50.75999999999999,-122.75999999999999,-14.759999999999991,-25.75999999999999,-89.75999999999999,-117.75999999999999,-9.759999999999991],\"yaxis\":\"y\",\"type\":\"scatter\"}],                        {\"template\":{\"data\":{\"bar\":[{\"error_x\":{\"color\":\"#2a3f5f\"},\"error_y\":{\"color\":\"#2a3f5f\"},\"marker\":{\"line\":{\"color\":\"#E5ECF6\",\"width\":0.5},\"pattern\":{\"fillmode\":\"overlay\",\"size\":10,\"solidity\":0.2}},\"type\":\"bar\"}],\"barpolar\":[{\"marker\":{\"line\":{\"color\":\"#E5ECF6\",\"width\":0.5},\"pattern\":{\"fillmode\":\"overlay\",\"size\":10,\"solidity\":0.2}},\"type\":\"barpolar\"}],\"carpet\":[{\"aaxis\":{\"endlinecolor\":\"#2a3f5f\",\"gridcolor\":\"white\",\"linecolor\":\"white\",\"minorgridcolor\":\"white\",\"startlinecolor\":\"#2a3f5f\"},\"baxis\":{\"endlinecolor\":\"#2a3f5f\",\"gridcolor\":\"white\",\"linecolor\":\"white\",\"minorgridcolor\":\"white\",\"startlinecolor\":\"#2a3f5f\"},\"type\":\"carpet\"}],\"choropleth\":[{\"colorbar\":{\"outlinewidth\":0,\"ticks\":\"\"},\"type\":\"choropleth\"}],\"contour\":[{\"colorbar\":{\"outlinewidth\":0,\"ticks\":\"\"},\"colorscale\":[[0.0,\"#0d0887\"],[0.1111111111111111,\"#46039f\"],[0.2222222222222222,\"#7201a8\"],[0.3333333333333333,\"#9c179e\"],[0.4444444444444444,\"#bd3786\"],[0.5555555555555556,\"#d8576b\"],[0.6666666666666666,\"#ed7953\"],[0.7777777777777778,\"#fb9f3a\"],[0.8888888888888888,\"#fdca26\"],[1.0,\"#f0f921\"]],\"type\":\"contour\"}],\"contourcarpet\":[{\"colorbar\":{\"outlinewidth\":0,\"ticks\":\"\"},\"type\":\"contourcarpet\"}],\"heatmap\":[{\"colorbar\":{\"outlinewidth\":0,\"ticks\":\"\"},\"colorscale\":[[0.0,\"#0d0887\"],[0.1111111111111111,\"#46039f\"],[0.2222222222222222,\"#7201a8\"],[0.3333333333333333,\"#9c179e\"],[0.4444444444444444,\"#bd3786\"],[0.5555555555555556,\"#d8576b\"],[0.6666666666666666,\"#ed7953\"],[0.7777777777777778,\"#fb9f3a\"],[0.8888888888888888,\"#fdca26\"],[1.0,\"#f0f921\"]],\"type\":\"heatmap\"}],\"heatmapgl\":[{\"colorbar\":{\"outlinewidth\":0,\"ticks\":\"\"},\"colorscale\":[[0.0,\"#0d0887\"],[0.1111111111111111,\"#46039f\"],[0.2222222222222222,\"#7201a8\"],[0.3333333333333333,\"#9c179e\"],[0.4444444444444444,\"#bd3786\"],[0.5555555555555556,\"#d8576b\"],[0.6666666666666666,\"#ed7953\"],[0.7777777777777778,\"#fb9f3a\"],[0.8888888888888888,\"#fdca26\"],[1.0,\"#f0f921\"]],\"type\":\"heatmapgl\"}],\"histogram\":[{\"marker\":{\"pattern\":{\"fillmode\":\"overlay\",\"size\":10,\"solidity\":0.2}},\"type\":\"histogram\"}],\"histogram2d\":[{\"colorbar\":{\"outlinewidth\":0,\"ticks\":\"\"},\"colorscale\":[[0.0,\"#0d0887\"],[0.1111111111111111,\"#46039f\"],[0.2222222222222222,\"#7201a8\"],[0.3333333333333333,\"#9c179e\"],[0.4444444444444444,\"#bd3786\"],[0.5555555555555556,\"#d8576b\"],[0.6666666666666666,\"#ed7953\"],[0.7777777777777778,\"#fb9f3a\"],[0.8888888888888888,\"#fdca26\"],[1.0,\"#f0f921\"]],\"type\":\"histogram2d\"}],\"histogram2dcontour\":[{\"colorbar\":{\"outlinewidth\":0,\"ticks\":\"\"},\"colorscale\":[[0.0,\"#0d0887\"],[0.1111111111111111,\"#46039f\"],[0.2222222222222222,\"#7201a8\"],[0.3333333333333333,\"#9c179e\"],[0.4444444444444444,\"#bd3786\"],[0.5555555555555556,\"#d8576b\"],[0.6666666666666666,\"#ed7953\"],[0.7777777777777778,\"#fb9f3a\"],[0.8888888888888888,\"#fdca26\"],[1.0,\"#f0f921\"]],\"type\":\"histogram2dcontour\"}],\"mesh3d\":[{\"colorbar\":{\"outlinewidth\":0,\"ticks\":\"\"},\"type\":\"mesh3d\"}],\"parcoords\":[{\"line\":{\"colorbar\":{\"outlinewidth\":0,\"ticks\":\"\"}},\"type\":\"parcoords\"}],\"pie\":[{\"automargin\":true,\"type\":\"pie\"}],\"scatter\":[{\"marker\":{\"colorbar\":{\"outlinewidth\":0,\"ticks\":\"\"}},\"type\":\"scatter\"}],\"scatter3d\":[{\"line\":{\"colorbar\":{\"outlinewidth\":0,\"ticks\":\"\"}},\"marker\":{\"colorbar\":{\"outlinewidth\":0,\"ticks\":\"\"}},\"type\":\"scatter3d\"}],\"scattercarpet\":[{\"marker\":{\"colorbar\":{\"outlinewidth\":0,\"ticks\":\"\"}},\"type\":\"scattercarpet\"}],\"scattergeo\":[{\"marker\":{\"colorbar\":{\"outlinewidth\":0,\"ticks\":\"\"}},\"type\":\"scattergeo\"}],\"scattergl\":[{\"marker\":{\"colorbar\":{\"outlinewidth\":0,\"ticks\":\"\"}},\"type\":\"scattergl\"}],\"scattermapbox\":[{\"marker\":{\"colorbar\":{\"outlinewidth\":0,\"ticks\":\"\"}},\"type\":\"scattermapbox\"}],\"scatterpolar\":[{\"marker\":{\"colorbar\":{\"outlinewidth\":0,\"ticks\":\"\"}},\"type\":\"scatterpolar\"}],\"scatterpolargl\":[{\"marker\":{\"colorbar\":{\"outlinewidth\":0,\"ticks\":\"\"}},\"type\":\"scatterpolargl\"}],\"scatterternary\":[{\"marker\":{\"colorbar\":{\"outlinewidth\":0,\"ticks\":\"\"}},\"type\":\"scatterternary\"}],\"surface\":[{\"colorbar\":{\"outlinewidth\":0,\"ticks\":\"\"},\"colorscale\":[[0.0,\"#0d0887\"],[0.1111111111111111,\"#46039f\"],[0.2222222222222222,\"#7201a8\"],[0.3333333333333333,\"#9c179e\"],[0.4444444444444444,\"#bd3786\"],[0.5555555555555556,\"#d8576b\"],[0.6666666666666666,\"#ed7953\"],[0.7777777777777778,\"#fb9f3a\"],[0.8888888888888888,\"#fdca26\"],[1.0,\"#f0f921\"]],\"type\":\"surface\"}],\"table\":[{\"cells\":{\"fill\":{\"color\":\"#EBF0F8\"},\"line\":{\"color\":\"white\"}},\"header\":{\"fill\":{\"color\":\"#C8D4E3\"},\"line\":{\"color\":\"white\"}},\"type\":\"table\"}]},\"layout\":{\"annotationdefaults\":{\"arrowcolor\":\"#2a3f5f\",\"arrowhead\":0,\"arrowwidth\":1},\"autotypenumbers\":\"strict\",\"coloraxis\":{\"colorbar\":{\"outlinewidth\":0,\"ticks\":\"\"}},\"colorscale\":{\"diverging\":[[0,\"#8e0152\"],[0.1,\"#c51b7d\"],[0.2,\"#de77ae\"],[0.3,\"#f1b6da\"],[0.4,\"#fde0ef\"],[0.5,\"#f7f7f7\"],[0.6,\"#e6f5d0\"],[0.7,\"#b8e186\"],[0.8,\"#7fbc41\"],[0.9,\"#4d9221\"],[1,\"#276419\"]],\"sequential\":[[0.0,\"#0d0887\"],[0.1111111111111111,\"#46039f\"],[0.2222222222222222,\"#7201a8\"],[0.3333333333333333,\"#9c179e\"],[0.4444444444444444,\"#bd3786\"],[0.5555555555555556,\"#d8576b\"],[0.6666666666666666,\"#ed7953\"],[0.7777777777777778,\"#fb9f3a\"],[0.8888888888888888,\"#fdca26\"],[1.0,\"#f0f921\"]],\"sequentialminus\":[[0.0,\"#0d0887\"],[0.1111111111111111,\"#46039f\"],[0.2222222222222222,\"#7201a8\"],[0.3333333333333333,\"#9c179e\"],[0.4444444444444444,\"#bd3786\"],[0.5555555555555556,\"#d8576b\"],[0.6666666666666666,\"#ed7953\"],[0.7777777777777778,\"#fb9f3a\"],[0.8888888888888888,\"#fdca26\"],[1.0,\"#f0f921\"]]},\"colorway\":[\"#636efa\",\"#EF553B\",\"#00cc96\",\"#ab63fa\",\"#FFA15A\",\"#19d3f3\",\"#FF6692\",\"#B6E880\",\"#FF97FF\",\"#FECB52\"],\"font\":{\"color\":\"#2a3f5f\"},\"geo\":{\"bgcolor\":\"white\",\"lakecolor\":\"white\",\"landcolor\":\"#E5ECF6\",\"showlakes\":true,\"showland\":true,\"subunitcolor\":\"white\"},\"hoverlabel\":{\"align\":\"left\"},\"hovermode\":\"closest\",\"mapbox\":{\"style\":\"light\"},\"paper_bgcolor\":\"white\",\"plot_bgcolor\":\"#E5ECF6\",\"polar\":{\"angularaxis\":{\"gridcolor\":\"white\",\"linecolor\":\"white\",\"ticks\":\"\"},\"bgcolor\":\"#E5ECF6\",\"radialaxis\":{\"gridcolor\":\"white\",\"linecolor\":\"white\",\"ticks\":\"\"}},\"scene\":{\"xaxis\":{\"backgroundcolor\":\"#E5ECF6\",\"gridcolor\":\"white\",\"gridwidth\":2,\"linecolor\":\"white\",\"showbackground\":true,\"ticks\":\"\",\"zerolinecolor\":\"white\"},\"yaxis\":{\"backgroundcolor\":\"#E5ECF6\",\"gridcolor\":\"white\",\"gridwidth\":2,\"linecolor\":\"white\",\"showbackground\":true,\"ticks\":\"\",\"zerolinecolor\":\"white\"},\"zaxis\":{\"backgroundcolor\":\"#E5ECF6\",\"gridcolor\":\"white\",\"gridwidth\":2,\"linecolor\":\"white\",\"showbackground\":true,\"ticks\":\"\",\"zerolinecolor\":\"white\"}},\"shapedefaults\":{\"line\":{\"color\":\"#2a3f5f\"}},\"ternary\":{\"aaxis\":{\"gridcolor\":\"white\",\"linecolor\":\"white\",\"ticks\":\"\"},\"baxis\":{\"gridcolor\":\"white\",\"linecolor\":\"white\",\"ticks\":\"\"},\"bgcolor\":\"#E5ECF6\",\"caxis\":{\"gridcolor\":\"white\",\"linecolor\":\"white\",\"ticks\":\"\"}},\"title\":{\"x\":0.05},\"xaxis\":{\"automargin\":true,\"gridcolor\":\"white\",\"linecolor\":\"white\",\"ticks\":\"\",\"title\":{\"standoff\":15},\"zerolinecolor\":\"white\",\"zerolinewidth\":2},\"yaxis\":{\"automargin\":true,\"gridcolor\":\"white\",\"linecolor\":\"white\",\"ticks\":\"\",\"title\":{\"standoff\":15},\"zerolinecolor\":\"white\",\"zerolinewidth\":2}}}},                        {\"responsive\": true}                    ).then(function(){\n",
              "                            \n",
              "var gd = document.getElementById('4f075302-ee01-49d3-996b-49161c38d0dc');\n",
              "var x = new MutationObserver(function (mutations, observer) {{\n",
              "        var display = window.getComputedStyle(gd).display;\n",
              "        if (!display || display === 'none') {{\n",
              "            console.log([gd, 'removed!']);\n",
              "            Plotly.purge(gd);\n",
              "            observer.disconnect();\n",
              "        }}\n",
              "}});\n",
              "\n",
              "// Listen for the removal of the full notebook cells\n",
              "var notebookContainer = gd.closest('#notebook-container');\n",
              "if (notebookContainer) {{\n",
              "    x.observe(notebookContainer, {childList: true});\n",
              "}}\n",
              "\n",
              "// Listen for the clearing of the current output cell\n",
              "var outputEl = gd.closest('.output');\n",
              "if (outputEl) {{\n",
              "    x.observe(outputEl, {childList: true});\n",
              "}}\n",
              "\n",
              "                        })                };                            </script>        </div>\n",
              "</body>\n",
              "</html>"
            ]
          },
          "metadata": {}
        }
      ]
    },
    {
      "cell_type": "markdown",
      "source": [
        "# Matriz de covarianza vs $A^T_{std}A_{std}$"
      ],
      "metadata": {
        "id": "Ksixaqpsjd2m"
      }
    },
    {
      "cell_type": "markdown",
      "source": [
        "Tenemos que la covarianza asociada a las columnas de $A_{std\\_scaler}$ es: \n",
        "<center> \n",
        "$Cov(A_{std\\_scaler}) = \\frac{1}{n - 1}A^T_{std\\_scaler}A_{std\\_scaler}$\n",
        "</center>"
      ],
      "metadata": {
        "id": "zWOLTzSCtfx8"
      }
    },
    {
      "cell_type": "code",
      "source": [
        "Matriz_cov = (1/(A.shape[0] - 1)) * A_std.T.dot(A_std)\n",
        "Matriz_cov"
      ],
      "metadata": {
        "colab": {
          "base_uri": "https://localhost:8080/",
          "height": 175
        },
        "id": "8myS79Q8se2r",
        "outputId": "f9c8c074-9427-406d-a0df-470abb7b1969"
      },
      "execution_count": 50,
      "outputs": [
        {
          "output_type": "execute_result",
          "data": {
            "text/plain": [
              "          0         1         2         3\n",
              "0  1.020408  0.818238  0.070992  0.575080\n",
              "1  0.818238  1.020408  0.264155  0.678818\n",
              "2  0.070992  0.264155  1.020408  0.419736\n",
              "3  0.575080  0.678818  0.419736  1.020408"
            ],
            "text/html": [
              "\n",
              "  <div id=\"df-0e0b023f-aaab-4fc1-bf68-79aa09980e47\">\n",
              "    <div class=\"colab-df-container\">\n",
              "      <div>\n",
              "<style scoped>\n",
              "    .dataframe tbody tr th:only-of-type {\n",
              "        vertical-align: middle;\n",
              "    }\n",
              "\n",
              "    .dataframe tbody tr th {\n",
              "        vertical-align: top;\n",
              "    }\n",
              "\n",
              "    .dataframe thead th {\n",
              "        text-align: right;\n",
              "    }\n",
              "</style>\n",
              "<table border=\"1\" class=\"dataframe\">\n",
              "  <thead>\n",
              "    <tr style=\"text-align: right;\">\n",
              "      <th></th>\n",
              "      <th>0</th>\n",
              "      <th>1</th>\n",
              "      <th>2</th>\n",
              "      <th>3</th>\n",
              "    </tr>\n",
              "  </thead>\n",
              "  <tbody>\n",
              "    <tr>\n",
              "      <th>0</th>\n",
              "      <td>1.020408</td>\n",
              "      <td>0.818238</td>\n",
              "      <td>0.070992</td>\n",
              "      <td>0.575080</td>\n",
              "    </tr>\n",
              "    <tr>\n",
              "      <th>1</th>\n",
              "      <td>0.818238</td>\n",
              "      <td>1.020408</td>\n",
              "      <td>0.264155</td>\n",
              "      <td>0.678818</td>\n",
              "    </tr>\n",
              "    <tr>\n",
              "      <th>2</th>\n",
              "      <td>0.070992</td>\n",
              "      <td>0.264155</td>\n",
              "      <td>1.020408</td>\n",
              "      <td>0.419736</td>\n",
              "    </tr>\n",
              "    <tr>\n",
              "      <th>3</th>\n",
              "      <td>0.575080</td>\n",
              "      <td>0.678818</td>\n",
              "      <td>0.419736</td>\n",
              "      <td>1.020408</td>\n",
              "    </tr>\n",
              "  </tbody>\n",
              "</table>\n",
              "</div>\n",
              "      <button class=\"colab-df-convert\" onclick=\"convertToInteractive('df-0e0b023f-aaab-4fc1-bf68-79aa09980e47')\"\n",
              "              title=\"Convert this dataframe to an interactive table.\"\n",
              "              style=\"display:none;\">\n",
              "        \n",
              "  <svg xmlns=\"http://www.w3.org/2000/svg\" height=\"24px\"viewBox=\"0 0 24 24\"\n",
              "       width=\"24px\">\n",
              "    <path d=\"M0 0h24v24H0V0z\" fill=\"none\"/>\n",
              "    <path d=\"M18.56 5.44l.94 2.06.94-2.06 2.06-.94-2.06-.94-.94-2.06-.94 2.06-2.06.94zm-11 1L8.5 8.5l.94-2.06 2.06-.94-2.06-.94L8.5 2.5l-.94 2.06-2.06.94zm10 10l.94 2.06.94-2.06 2.06-.94-2.06-.94-.94-2.06-.94 2.06-2.06.94z\"/><path d=\"M17.41 7.96l-1.37-1.37c-.4-.4-.92-.59-1.43-.59-.52 0-1.04.2-1.43.59L10.3 9.45l-7.72 7.72c-.78.78-.78 2.05 0 2.83L4 21.41c.39.39.9.59 1.41.59.51 0 1.02-.2 1.41-.59l7.78-7.78 2.81-2.81c.8-.78.8-2.07 0-2.86zM5.41 20L4 18.59l7.72-7.72 1.47 1.35L5.41 20z\"/>\n",
              "  </svg>\n",
              "      </button>\n",
              "      \n",
              "  <style>\n",
              "    .colab-df-container {\n",
              "      display:flex;\n",
              "      flex-wrap:wrap;\n",
              "      gap: 12px;\n",
              "    }\n",
              "\n",
              "    .colab-df-convert {\n",
              "      background-color: #E8F0FE;\n",
              "      border: none;\n",
              "      border-radius: 50%;\n",
              "      cursor: pointer;\n",
              "      display: none;\n",
              "      fill: #1967D2;\n",
              "      height: 32px;\n",
              "      padding: 0 0 0 0;\n",
              "      width: 32px;\n",
              "    }\n",
              "\n",
              "    .colab-df-convert:hover {\n",
              "      background-color: #E2EBFA;\n",
              "      box-shadow: 0px 1px 2px rgba(60, 64, 67, 0.3), 0px 1px 3px 1px rgba(60, 64, 67, 0.15);\n",
              "      fill: #174EA6;\n",
              "    }\n",
              "\n",
              "    [theme=dark] .colab-df-convert {\n",
              "      background-color: #3B4455;\n",
              "      fill: #D2E3FC;\n",
              "    }\n",
              "\n",
              "    [theme=dark] .colab-df-convert:hover {\n",
              "      background-color: #434B5C;\n",
              "      box-shadow: 0px 1px 3px 1px rgba(0, 0, 0, 0.15);\n",
              "      filter: drop-shadow(0px 1px 2px rgba(0, 0, 0, 0.3));\n",
              "      fill: #FFFFFF;\n",
              "    }\n",
              "  </style>\n",
              "\n",
              "      <script>\n",
              "        const buttonEl =\n",
              "          document.querySelector('#df-0e0b023f-aaab-4fc1-bf68-79aa09980e47 button.colab-df-convert');\n",
              "        buttonEl.style.display =\n",
              "          google.colab.kernel.accessAllowed ? 'block' : 'none';\n",
              "\n",
              "        async function convertToInteractive(key) {\n",
              "          const element = document.querySelector('#df-0e0b023f-aaab-4fc1-bf68-79aa09980e47');\n",
              "          const dataTable =\n",
              "            await google.colab.kernel.invokeFunction('convertToInteractive',\n",
              "                                                     [key], {});\n",
              "          if (!dataTable) return;\n",
              "\n",
              "          const docLinkHtml = 'Like what you see? Visit the ' +\n",
              "            '<a target=\"_blank\" href=https://colab.research.google.com/notebooks/data_table.ipynb>data table notebook</a>'\n",
              "            + ' to learn more about interactive tables.';\n",
              "          element.innerHTML = '';\n",
              "          dataTable['output_type'] = 'display_data';\n",
              "          await google.colab.output.renderOutput(dataTable, element);\n",
              "          const docLink = document.createElement('div');\n",
              "          docLink.innerHTML = docLinkHtml;\n",
              "          element.appendChild(docLink);\n",
              "        }\n",
              "      </script>\n",
              "    </div>\n",
              "  </div>\n",
              "  "
            ]
          },
          "metadata": {},
          "execution_count": 50
        }
      ]
    },
    {
      "cell_type": "markdown",
      "source": [
        "Obtenemos el mismo resultado calculándolo que utilizando la función de pandas para obtener la covarianza"
      ],
      "metadata": {
        "id": "2qjVnbq6vDkh"
      }
    },
    {
      "cell_type": "code",
      "source": [
        "Matriz_covarianza = A_std.cov()\n",
        "Matriz_covarianza"
      ],
      "metadata": {
        "colab": {
          "base_uri": "https://localhost:8080/",
          "height": 175
        },
        "id": "qQo2abEnjqzf",
        "outputId": "a8d4d410-cedf-4be5-989e-7aa4688b3bc5"
      },
      "execution_count": 51,
      "outputs": [
        {
          "output_type": "execute_result",
          "data": {
            "text/plain": [
              "          0         1         2         3\n",
              "0  1.020408  0.818238  0.070992  0.575080\n",
              "1  0.818238  1.020408  0.264155  0.678818\n",
              "2  0.070992  0.264155  1.020408  0.419736\n",
              "3  0.575080  0.678818  0.419736  1.020408"
            ],
            "text/html": [
              "\n",
              "  <div id=\"df-2340715a-ab2a-4c15-8e87-c3d72b3530d0\">\n",
              "    <div class=\"colab-df-container\">\n",
              "      <div>\n",
              "<style scoped>\n",
              "    .dataframe tbody tr th:only-of-type {\n",
              "        vertical-align: middle;\n",
              "    }\n",
              "\n",
              "    .dataframe tbody tr th {\n",
              "        vertical-align: top;\n",
              "    }\n",
              "\n",
              "    .dataframe thead th {\n",
              "        text-align: right;\n",
              "    }\n",
              "</style>\n",
              "<table border=\"1\" class=\"dataframe\">\n",
              "  <thead>\n",
              "    <tr style=\"text-align: right;\">\n",
              "      <th></th>\n",
              "      <th>0</th>\n",
              "      <th>1</th>\n",
              "      <th>2</th>\n",
              "      <th>3</th>\n",
              "    </tr>\n",
              "  </thead>\n",
              "  <tbody>\n",
              "    <tr>\n",
              "      <th>0</th>\n",
              "      <td>1.020408</td>\n",
              "      <td>0.818238</td>\n",
              "      <td>0.070992</td>\n",
              "      <td>0.575080</td>\n",
              "    </tr>\n",
              "    <tr>\n",
              "      <th>1</th>\n",
              "      <td>0.818238</td>\n",
              "      <td>1.020408</td>\n",
              "      <td>0.264155</td>\n",
              "      <td>0.678818</td>\n",
              "    </tr>\n",
              "    <tr>\n",
              "      <th>2</th>\n",
              "      <td>0.070992</td>\n",
              "      <td>0.264155</td>\n",
              "      <td>1.020408</td>\n",
              "      <td>0.419736</td>\n",
              "    </tr>\n",
              "    <tr>\n",
              "      <th>3</th>\n",
              "      <td>0.575080</td>\n",
              "      <td>0.678818</td>\n",
              "      <td>0.419736</td>\n",
              "      <td>1.020408</td>\n",
              "    </tr>\n",
              "  </tbody>\n",
              "</table>\n",
              "</div>\n",
              "      <button class=\"colab-df-convert\" onclick=\"convertToInteractive('df-2340715a-ab2a-4c15-8e87-c3d72b3530d0')\"\n",
              "              title=\"Convert this dataframe to an interactive table.\"\n",
              "              style=\"display:none;\">\n",
              "        \n",
              "  <svg xmlns=\"http://www.w3.org/2000/svg\" height=\"24px\"viewBox=\"0 0 24 24\"\n",
              "       width=\"24px\">\n",
              "    <path d=\"M0 0h24v24H0V0z\" fill=\"none\"/>\n",
              "    <path d=\"M18.56 5.44l.94 2.06.94-2.06 2.06-.94-2.06-.94-.94-2.06-.94 2.06-2.06.94zm-11 1L8.5 8.5l.94-2.06 2.06-.94-2.06-.94L8.5 2.5l-.94 2.06-2.06.94zm10 10l.94 2.06.94-2.06 2.06-.94-2.06-.94-.94-2.06-.94 2.06-2.06.94z\"/><path d=\"M17.41 7.96l-1.37-1.37c-.4-.4-.92-.59-1.43-.59-.52 0-1.04.2-1.43.59L10.3 9.45l-7.72 7.72c-.78.78-.78 2.05 0 2.83L4 21.41c.39.39.9.59 1.41.59.51 0 1.02-.2 1.41-.59l7.78-7.78 2.81-2.81c.8-.78.8-2.07 0-2.86zM5.41 20L4 18.59l7.72-7.72 1.47 1.35L5.41 20z\"/>\n",
              "  </svg>\n",
              "      </button>\n",
              "      \n",
              "  <style>\n",
              "    .colab-df-container {\n",
              "      display:flex;\n",
              "      flex-wrap:wrap;\n",
              "      gap: 12px;\n",
              "    }\n",
              "\n",
              "    .colab-df-convert {\n",
              "      background-color: #E8F0FE;\n",
              "      border: none;\n",
              "      border-radius: 50%;\n",
              "      cursor: pointer;\n",
              "      display: none;\n",
              "      fill: #1967D2;\n",
              "      height: 32px;\n",
              "      padding: 0 0 0 0;\n",
              "      width: 32px;\n",
              "    }\n",
              "\n",
              "    .colab-df-convert:hover {\n",
              "      background-color: #E2EBFA;\n",
              "      box-shadow: 0px 1px 2px rgba(60, 64, 67, 0.3), 0px 1px 3px 1px rgba(60, 64, 67, 0.15);\n",
              "      fill: #174EA6;\n",
              "    }\n",
              "\n",
              "    [theme=dark] .colab-df-convert {\n",
              "      background-color: #3B4455;\n",
              "      fill: #D2E3FC;\n",
              "    }\n",
              "\n",
              "    [theme=dark] .colab-df-convert:hover {\n",
              "      background-color: #434B5C;\n",
              "      box-shadow: 0px 1px 3px 1px rgba(0, 0, 0, 0.15);\n",
              "      filter: drop-shadow(0px 1px 2px rgba(0, 0, 0, 0.3));\n",
              "      fill: #FFFFFF;\n",
              "    }\n",
              "  </style>\n",
              "\n",
              "      <script>\n",
              "        const buttonEl =\n",
              "          document.querySelector('#df-2340715a-ab2a-4c15-8e87-c3d72b3530d0 button.colab-df-convert');\n",
              "        buttonEl.style.display =\n",
              "          google.colab.kernel.accessAllowed ? 'block' : 'none';\n",
              "\n",
              "        async function convertToInteractive(key) {\n",
              "          const element = document.querySelector('#df-2340715a-ab2a-4c15-8e87-c3d72b3530d0');\n",
              "          const dataTable =\n",
              "            await google.colab.kernel.invokeFunction('convertToInteractive',\n",
              "                                                     [key], {});\n",
              "          if (!dataTable) return;\n",
              "\n",
              "          const docLinkHtml = 'Like what you see? Visit the ' +\n",
              "            '<a target=\"_blank\" href=https://colab.research.google.com/notebooks/data_table.ipynb>data table notebook</a>'\n",
              "            + ' to learn more about interactive tables.';\n",
              "          element.innerHTML = '';\n",
              "          dataTable['output_type'] = 'display_data';\n",
              "          await google.colab.output.renderOutput(dataTable, element);\n",
              "          const docLink = document.createElement('div');\n",
              "          docLink.innerHTML = docLinkHtml;\n",
              "          element.appendChild(docLink);\n",
              "        }\n",
              "      </script>\n",
              "    </div>\n",
              "  </div>\n",
              "  "
            ]
          },
          "metadata": {},
          "execution_count": 51
        }
      ]
    },
    {
      "cell_type": "markdown",
      "source": [
        "Sea $r$ el rango de la matriz $A_{std\\_scaler}$, si consideramos una descomposición en valores singulares de la matriz $A_{std\\_scaler}$, tenemos que existen $r$ autovectores $v_1, v_2,...v_r$ de $A^T_{std\\_scaler}A_{std\\_scaler}$ que también lo son de la matriz de de covarianza"
      ],
      "metadata": {
        "id": "esZk-W4eNPgL"
      }
    },
    {
      "cell_type": "code",
      "source": [
        "r = np.linalg.matrix_rank(A_std) # Rango de A_std\n",
        "r"
      ],
      "metadata": {
        "colab": {
          "base_uri": "https://localhost:8080/"
        },
        "id": "8pSaqpAqNDMT",
        "outputId": "9858ecaf-69c6-42e2-d8fb-ba786b5d5c9e"
      },
      "execution_count": 52,
      "outputs": [
        {
          "output_type": "execute_result",
          "data": {
            "text/plain": [
              "4"
            ]
          },
          "metadata": {},
          "execution_count": 52
        }
      ]
    },
    {
      "cell_type": "code",
      "source": [
        "from numpy.linalg import eig\n",
        "auto_valores, auto_vectores = eig(A_std.T.dot(A_std))\n",
        "print('Autovalores de la matriz A^T_stdA_std = \\n', auto_valores)\n",
        "print('Autovectores de la matriz A^T_stdA_std = \\n', auto_vectores)"
      ],
      "metadata": {
        "colab": {
          "base_uri": "https://localhost:8080/"
        },
        "id": "6zJGVxk7OPNk",
        "outputId": "8e3dfcd9-1aa6-4502-b626-2ac7bfbba9d1"
      },
      "execution_count": 53,
      "outputs": [
        {
          "output_type": "stream",
          "name": "stdout",
          "text": [
            "Autovalores de la matriz A^T_stdA_std = \n",
            " [124.01207896  49.48825763   8.67150439  17.82815903]\n",
            "Autovectores de la matriz A^T_stdA_std = \n",
            " [[ 0.53589947  0.41818087  0.6492278  -0.34123273]\n",
            " [ 0.58318363  0.1879856  -0.74340748 -0.26814843]\n",
            " [ 0.27819087 -0.87280619  0.13387773 -0.37801579]\n",
            " [ 0.54343209 -0.16731864  0.08902432  0.81777791]]\n"
          ]
        }
      ]
    },
    {
      "cell_type": "code",
      "source": [
        "auto_valores, auto_vectores = eig(Matriz_covarianza)\n",
        "print('Autovalores de la matriz de covarianza de A_std = \\n', auto_valores)\n",
        "print('Autovectores de la matriz de covarianza de A_std = \\n', auto_vectores)"
      ],
      "metadata": {
        "colab": {
          "base_uri": "https://localhost:8080/"
        },
        "id": "dLX9esLxjv9u",
        "outputId": "bdd2acfc-031e-4780-a409-7fd09154fb1c"
      },
      "execution_count": 54,
      "outputs": [
        {
          "output_type": "stream",
          "name": "stdout",
          "text": [
            "Autovalores de la matriz de covarianza de A_std = \n",
            " [2.53085875 1.00996444 0.17696948 0.36383998]\n",
            "Autovectores de la matriz de covarianza de A_std = \n",
            " [[ 0.53589947  0.41818087  0.6492278  -0.34123273]\n",
            " [ 0.58318363  0.1879856  -0.74340748 -0.26814843]\n",
            " [ 0.27819087 -0.87280619  0.13387773 -0.37801579]\n",
            " [ 0.54343209 -0.16731864  0.08902432  0.81777791]]\n"
          ]
        }
      ]
    },
    {
      "cell_type": "markdown",
      "source": [
        "Vemos que coinciden los autovalores."
      ],
      "metadata": {
        "id": "06jkJ0opTw7I"
      }
    },
    {
      "cell_type": "code",
      "source": [
        "auto_valores[0] * auto_vectores[0] - Matriz_covarianza.dot(auto_vectores[0])"
      ],
      "metadata": {
        "colab": {
          "base_uri": "https://localhost:8080/"
        },
        "id": "4q5JoejUjv1A",
        "outputId": "3f4ac5df-ad3a-41c2-b54f-a9d753935856"
      },
      "execution_count": 55,
      "outputs": [
        {
          "output_type": "execute_result",
          "data": {
            "text/plain": [
              "0    0.617424\n",
              "1    0.253286\n",
              "2    0.975345\n",
              "3   -1.379973\n",
              "dtype: float64"
            ]
          },
          "metadata": {},
          "execution_count": 55
        }
      ]
    },
    {
      "cell_type": "code",
      "source": [
        "auto_valores[1] * auto_vectores[1] - Matriz_covarianza.dot(auto_vectores[1])"
      ],
      "metadata": {
        "colab": {
          "base_uri": "https://localhost:8080/"
        },
        "id": "tFtzaIc5j2PP",
        "outputId": "ae3d3d8e-8810-4034-902c-9d99cf21440f"
      },
      "execution_count": 56,
      "outputs": [
        {
          "output_type": "execute_result",
          "data": {
            "text/plain": [
              "0    0.047076\n",
              "1   -0.100748\n",
              "2    0.029257\n",
              "3   -0.148150\n",
              "dtype: float64"
            ]
          },
          "metadata": {},
          "execution_count": 56
        }
      ]
    },
    {
      "cell_type": "code",
      "source": [
        "auto_valores[2] * auto_vectores[2] - Matriz_covarianza.dot(auto_vectores[2])"
      ],
      "metadata": {
        "colab": {
          "base_uri": "https://localhost:8080/"
        },
        "id": "XiOVdlA60A4J",
        "outputId": "87f9e0c4-8c49-4a8b-8c3c-a5ef68310493"
      },
      "execution_count": 57,
      "outputs": [
        {
          "output_type": "execute_result",
          "data": {
            "text/plain": [
              "0    0.687411\n",
              "1    0.729771\n",
              "2    0.256556\n",
              "3    0.695134\n",
              "dtype: float64"
            ]
          },
          "metadata": {},
          "execution_count": 57
        }
      ]
    },
    {
      "cell_type": "code",
      "source": [
        "auto_valores[3] * auto_vectores[3] - Matriz_covarianza.dot(auto_vectores[3])"
      ],
      "metadata": {
        "colab": {
          "base_uri": "https://localhost:8080/"
        },
        "id": "SAbBYdA30Beq",
        "outputId": "20f91d09-b246-487f-e99b-9022356118d9"
      },
      "execution_count": 58,
      "outputs": [
        {
          "output_type": "execute_result",
          "data": {
            "text/plain": [
              "0   -0.696502\n",
              "1   -0.913439\n",
              "2   -0.396083\n",
              "3   -0.773232\n",
              "dtype: float64"
            ]
          },
          "metadata": {},
          "execution_count": 58
        }
      ]
    },
    {
      "cell_type": "code",
      "source": [
        "fig = px.scatter(A_std,\n",
        "                 x=A_std.columns[0], \n",
        "                 y=A_std.columns[1], \n",
        "                 color_discrete_sequence=['orange'], \n",
        "                 marginal_x='violin', \n",
        "                 marginal_y='violin',\n",
        "                 opacity=0.6\n",
        "                )\n",
        "\n",
        "\n",
        "arrow_1 = go.layout.Annotation(dict(\n",
        "                x=  auto_valores[1] * auto_vectores[0][0],\n",
        "                y=  auto_valores[1] * auto_vectores[0][1],\n",
        "                xref=\"x\", yref=\"y\",\n",
        "                text=\"\",\n",
        "                showarrow=True,\n",
        "                axref = \"x\", ayref='y',\n",
        "                ax= 0,\n",
        "                ay= 0,\n",
        "                arrowhead = 3,\n",
        "                arrowwidth=2.5,\n",
        "                arrowcolor=' mediumseagreen',)\n",
        "            )\n",
        "\n",
        "arrow_2 = go.layout.Annotation(dict(\n",
        "                x=  auto_valores[0] * auto_vectores[1][0],\n",
        "                y=  auto_valores[0] * auto_vectores[1][1],\n",
        "                xref=\"x\", yref=\"y\",\n",
        "                text=\"\",\n",
        "                showarrow=True,\n",
        "                axref = \"x\", ayref='y',\n",
        "                ax= 0,\n",
        "                ay= 0,\n",
        "                arrowhead = 3,\n",
        "                arrowwidth=2.5,\n",
        "                arrowcolor='blueviolet',)\n",
        "            )\n",
        "\n",
        "\n",
        "fig.update_layout(annotations= [arrow_1,arrow_2])\n",
        "fig.show()\n",
        "#fig.write_image(\"figura_matriz_covarianza.pdf\", width=900, height=600)"
      ],
      "metadata": {
        "colab": {
          "base_uri": "https://localhost:8080/",
          "height": 542
        },
        "id": "3hRLOiyPj6tm",
        "outputId": "317024c0-f711-477d-8155-433719f474cc"
      },
      "execution_count": 59,
      "outputs": [
        {
          "output_type": "display_data",
          "data": {
            "text/html": [
              "<html>\n",
              "<head><meta charset=\"utf-8\" /></head>\n",
              "<body>\n",
              "    <div>            <script src=\"https://cdnjs.cloudflare.com/ajax/libs/mathjax/2.7.5/MathJax.js?config=TeX-AMS-MML_SVG\"></script><script type=\"text/javascript\">if (window.MathJax) {MathJax.Hub.Config({SVG: {font: \"STIX-Web\"}});}</script>                <script type=\"text/javascript\">window.PlotlyConfig = {MathJaxConfig: 'local'};</script>\n",
              "        <script src=\"https://cdn.plot.ly/plotly-2.8.3.min.js\"></script>                <div id=\"fb680720-66f7-4e4a-a0ad-318d58e1204a\" class=\"plotly-graph-div\" style=\"height:525px; width:100%;\"></div>            <script type=\"text/javascript\">                                    window.PLOTLYENV=window.PLOTLYENV || {};                                    if (document.getElementById(\"fb680720-66f7-4e4a-a0ad-318d58e1204a\")) {                    Plotly.newPlot(                        \"fb680720-66f7-4e4a-a0ad-318d58e1204a\",                        [{\"hovertemplate\":\"0=%{x}<br>1=%{y}<extra></extra>\",\"legendgroup\":\"\",\"marker\":{\"color\":\"orange\",\"opacity\":0.6,\"symbol\":\"circle\"},\"mode\":\"markers\",\"name\":\"\",\"orientation\":\"v\",\"showlegend\":false,\"x\":[1.255179271101703,0.5130185786542807,0.07236066751362354,0.23470831898649744,0.2810933622644612,0.025975624235659807,-1.04088037115751,-0.4378748085439792,1.765414747159306,2.2292651799389445,-0.577029938377871,-1.2032280226303838,0.6057886652102086,-0.1363720272372139,-1.2959981091863113,-0.4146822869049973,0.44344101373733463,1.765414747159306,-1.3191906308252934,0.8145213599610461,-0.7857626331287084,1.0000615330729015,-1.1800355009914016,1.92776239863218,0.2810933622644612,-0.4146822869049973,-0.8089551547676905,1.0232540547118834,-1.3191906308252934,-0.08998698395924994,0.837713881600028,0.768136316683082,1.2087942278237391,-1.6206934121320586,-0.11317950559823202,-0.2755271570711057,-0.6698000249337986,-0.34510472198805153,-1.017687849518528,1.5334895307694865,-0.9249177629626003,1.255179271101703,1.1392166629067932,-1.064072892796492,-1.2959981091863113,0.1651307540695514,-0.8785327196846363,-0.48425985182194314,-1.2032280226303838,-0.22914211379314176],\"xaxis\":\"x\",\"y\":[0.7907871584384722,1.118059587589894,1.4938168210600447,0.23321190877308726,1.2756352016257637,0.40290872388863924,-0.7364841776014954,0.8150295605978368,1.9907860653270184,0.4877571314464152,-1.5122410467011616,-0.6152721668046726,0.948362772474342,-0.7001205743624486,-1.3910290359043387,-0.675878172203084,-0.7486053786811777,0.948362772474342,-1.0637566067529172,1.5665440275381384,-0.26375733549388636,1.0210899789524357,-1.1970898186294223,1.0695747832711648,0.08775749581689984,-0.7486053786811777,-0.8334537862389537,0.9847263757133888,-1.3789078348246564,-0.14254532469706355,1.3847260113429043,1.0089687778727534,2.015028467486383,-1.5243622477808438,-0.6152721668046726,-0.2395149333345218,-0.14254532469706355,-0.7849689819202246,0.03927269149817071,1.3119988048648106,-1.0273930035138703,0.20896950661372268,0.3665451206495924,-0.6152721668046726,-1.487998644541797,-0.1789089279361104,-0.3122421398126155,-1.0879990089122817,-1.4273926391433855,-0.11830292253769897],\"yaxis\":\"y\",\"type\":\"scatter\"},{\"alignmentgroup\":\"True\",\"hovertemplate\":\"0=%{x}<extra></extra>\",\"legendgroup\":\"\",\"marker\":{\"color\":\"orange\",\"symbol\":\"circle\"},\"name\":\"\",\"offsetgroup\":\"\",\"scalegroup\":\"x\",\"showlegend\":false,\"x\":[1.255179271101703,0.5130185786542807,0.07236066751362354,0.23470831898649744,0.2810933622644612,0.025975624235659807,-1.04088037115751,-0.4378748085439792,1.765414747159306,2.2292651799389445,-0.577029938377871,-1.2032280226303838,0.6057886652102086,-0.1363720272372139,-1.2959981091863113,-0.4146822869049973,0.44344101373733463,1.765414747159306,-1.3191906308252934,0.8145213599610461,-0.7857626331287084,1.0000615330729015,-1.1800355009914016,1.92776239863218,0.2810933622644612,-0.4146822869049973,-0.8089551547676905,1.0232540547118834,-1.3191906308252934,-0.08998698395924994,0.837713881600028,0.768136316683082,1.2087942278237391,-1.6206934121320586,-0.11317950559823202,-0.2755271570711057,-0.6698000249337986,-0.34510472198805153,-1.017687849518528,1.5334895307694865,-0.9249177629626003,1.255179271101703,1.1392166629067932,-1.064072892796492,-1.2959981091863113,0.1651307540695514,-0.8785327196846363,-0.48425985182194314,-1.2032280226303838,-0.22914211379314176],\"xaxis\":\"x3\",\"yaxis\":\"y3\",\"type\":\"violin\"},{\"alignmentgroup\":\"True\",\"hovertemplate\":\"1=%{y}<extra></extra>\",\"legendgroup\":\"\",\"marker\":{\"color\":\"orange\",\"symbol\":\"circle\"},\"name\":\"\",\"offsetgroup\":\"\",\"scalegroup\":\"y\",\"showlegend\":false,\"xaxis\":\"x2\",\"y\":[0.7907871584384722,1.118059587589894,1.4938168210600447,0.23321190877308726,1.2756352016257637,0.40290872388863924,-0.7364841776014954,0.8150295605978368,1.9907860653270184,0.4877571314464152,-1.5122410467011616,-0.6152721668046726,0.948362772474342,-0.7001205743624486,-1.3910290359043387,-0.675878172203084,-0.7486053786811777,0.948362772474342,-1.0637566067529172,1.5665440275381384,-0.26375733549388636,1.0210899789524357,-1.1970898186294223,1.0695747832711648,0.08775749581689984,-0.7486053786811777,-0.8334537862389537,0.9847263757133888,-1.3789078348246564,-0.14254532469706355,1.3847260113429043,1.0089687778727534,2.015028467486383,-1.5243622477808438,-0.6152721668046726,-0.2395149333345218,-0.14254532469706355,-0.7849689819202246,0.03927269149817071,1.3119988048648106,-1.0273930035138703,0.20896950661372268,0.3665451206495924,-0.6152721668046726,-1.487998644541797,-0.1789089279361104,-0.3122421398126155,-1.0879990089122817,-1.4273926391433855,-0.11830292253769897],\"yaxis\":\"y2\",\"type\":\"violin\"}],                        {\"template\":{\"data\":{\"bar\":[{\"error_x\":{\"color\":\"#2a3f5f\"},\"error_y\":{\"color\":\"#2a3f5f\"},\"marker\":{\"line\":{\"color\":\"#E5ECF6\",\"width\":0.5},\"pattern\":{\"fillmode\":\"overlay\",\"size\":10,\"solidity\":0.2}},\"type\":\"bar\"}],\"barpolar\":[{\"marker\":{\"line\":{\"color\":\"#E5ECF6\",\"width\":0.5},\"pattern\":{\"fillmode\":\"overlay\",\"size\":10,\"solidity\":0.2}},\"type\":\"barpolar\"}],\"carpet\":[{\"aaxis\":{\"endlinecolor\":\"#2a3f5f\",\"gridcolor\":\"white\",\"linecolor\":\"white\",\"minorgridcolor\":\"white\",\"startlinecolor\":\"#2a3f5f\"},\"baxis\":{\"endlinecolor\":\"#2a3f5f\",\"gridcolor\":\"white\",\"linecolor\":\"white\",\"minorgridcolor\":\"white\",\"startlinecolor\":\"#2a3f5f\"},\"type\":\"carpet\"}],\"choropleth\":[{\"colorbar\":{\"outlinewidth\":0,\"ticks\":\"\"},\"type\":\"choropleth\"}],\"contour\":[{\"colorbar\":{\"outlinewidth\":0,\"ticks\":\"\"},\"colorscale\":[[0.0,\"#0d0887\"],[0.1111111111111111,\"#46039f\"],[0.2222222222222222,\"#7201a8\"],[0.3333333333333333,\"#9c179e\"],[0.4444444444444444,\"#bd3786\"],[0.5555555555555556,\"#d8576b\"],[0.6666666666666666,\"#ed7953\"],[0.7777777777777778,\"#fb9f3a\"],[0.8888888888888888,\"#fdca26\"],[1.0,\"#f0f921\"]],\"type\":\"contour\"}],\"contourcarpet\":[{\"colorbar\":{\"outlinewidth\":0,\"ticks\":\"\"},\"type\":\"contourcarpet\"}],\"heatmap\":[{\"colorbar\":{\"outlinewidth\":0,\"ticks\":\"\"},\"colorscale\":[[0.0,\"#0d0887\"],[0.1111111111111111,\"#46039f\"],[0.2222222222222222,\"#7201a8\"],[0.3333333333333333,\"#9c179e\"],[0.4444444444444444,\"#bd3786\"],[0.5555555555555556,\"#d8576b\"],[0.6666666666666666,\"#ed7953\"],[0.7777777777777778,\"#fb9f3a\"],[0.8888888888888888,\"#fdca26\"],[1.0,\"#f0f921\"]],\"type\":\"heatmap\"}],\"heatmapgl\":[{\"colorbar\":{\"outlinewidth\":0,\"ticks\":\"\"},\"colorscale\":[[0.0,\"#0d0887\"],[0.1111111111111111,\"#46039f\"],[0.2222222222222222,\"#7201a8\"],[0.3333333333333333,\"#9c179e\"],[0.4444444444444444,\"#bd3786\"],[0.5555555555555556,\"#d8576b\"],[0.6666666666666666,\"#ed7953\"],[0.7777777777777778,\"#fb9f3a\"],[0.8888888888888888,\"#fdca26\"],[1.0,\"#f0f921\"]],\"type\":\"heatmapgl\"}],\"histogram\":[{\"marker\":{\"pattern\":{\"fillmode\":\"overlay\",\"size\":10,\"solidity\":0.2}},\"type\":\"histogram\"}],\"histogram2d\":[{\"colorbar\":{\"outlinewidth\":0,\"ticks\":\"\"},\"colorscale\":[[0.0,\"#0d0887\"],[0.1111111111111111,\"#46039f\"],[0.2222222222222222,\"#7201a8\"],[0.3333333333333333,\"#9c179e\"],[0.4444444444444444,\"#bd3786\"],[0.5555555555555556,\"#d8576b\"],[0.6666666666666666,\"#ed7953\"],[0.7777777777777778,\"#fb9f3a\"],[0.8888888888888888,\"#fdca26\"],[1.0,\"#f0f921\"]],\"type\":\"histogram2d\"}],\"histogram2dcontour\":[{\"colorbar\":{\"outlinewidth\":0,\"ticks\":\"\"},\"colorscale\":[[0.0,\"#0d0887\"],[0.1111111111111111,\"#46039f\"],[0.2222222222222222,\"#7201a8\"],[0.3333333333333333,\"#9c179e\"],[0.4444444444444444,\"#bd3786\"],[0.5555555555555556,\"#d8576b\"],[0.6666666666666666,\"#ed7953\"],[0.7777777777777778,\"#fb9f3a\"],[0.8888888888888888,\"#fdca26\"],[1.0,\"#f0f921\"]],\"type\":\"histogram2dcontour\"}],\"mesh3d\":[{\"colorbar\":{\"outlinewidth\":0,\"ticks\":\"\"},\"type\":\"mesh3d\"}],\"parcoords\":[{\"line\":{\"colorbar\":{\"outlinewidth\":0,\"ticks\":\"\"}},\"type\":\"parcoords\"}],\"pie\":[{\"automargin\":true,\"type\":\"pie\"}],\"scatter\":[{\"marker\":{\"colorbar\":{\"outlinewidth\":0,\"ticks\":\"\"}},\"type\":\"scatter\"}],\"scatter3d\":[{\"line\":{\"colorbar\":{\"outlinewidth\":0,\"ticks\":\"\"}},\"marker\":{\"colorbar\":{\"outlinewidth\":0,\"ticks\":\"\"}},\"type\":\"scatter3d\"}],\"scattercarpet\":[{\"marker\":{\"colorbar\":{\"outlinewidth\":0,\"ticks\":\"\"}},\"type\":\"scattercarpet\"}],\"scattergeo\":[{\"marker\":{\"colorbar\":{\"outlinewidth\":0,\"ticks\":\"\"}},\"type\":\"scattergeo\"}],\"scattergl\":[{\"marker\":{\"colorbar\":{\"outlinewidth\":0,\"ticks\":\"\"}},\"type\":\"scattergl\"}],\"scattermapbox\":[{\"marker\":{\"colorbar\":{\"outlinewidth\":0,\"ticks\":\"\"}},\"type\":\"scattermapbox\"}],\"scatterpolar\":[{\"marker\":{\"colorbar\":{\"outlinewidth\":0,\"ticks\":\"\"}},\"type\":\"scatterpolar\"}],\"scatterpolargl\":[{\"marker\":{\"colorbar\":{\"outlinewidth\":0,\"ticks\":\"\"}},\"type\":\"scatterpolargl\"}],\"scatterternary\":[{\"marker\":{\"colorbar\":{\"outlinewidth\":0,\"ticks\":\"\"}},\"type\":\"scatterternary\"}],\"surface\":[{\"colorbar\":{\"outlinewidth\":0,\"ticks\":\"\"},\"colorscale\":[[0.0,\"#0d0887\"],[0.1111111111111111,\"#46039f\"],[0.2222222222222222,\"#7201a8\"],[0.3333333333333333,\"#9c179e\"],[0.4444444444444444,\"#bd3786\"],[0.5555555555555556,\"#d8576b\"],[0.6666666666666666,\"#ed7953\"],[0.7777777777777778,\"#fb9f3a\"],[0.8888888888888888,\"#fdca26\"],[1.0,\"#f0f921\"]],\"type\":\"surface\"}],\"table\":[{\"cells\":{\"fill\":{\"color\":\"#EBF0F8\"},\"line\":{\"color\":\"white\"}},\"header\":{\"fill\":{\"color\":\"#C8D4E3\"},\"line\":{\"color\":\"white\"}},\"type\":\"table\"}]},\"layout\":{\"annotationdefaults\":{\"arrowcolor\":\"#2a3f5f\",\"arrowhead\":0,\"arrowwidth\":1},\"autotypenumbers\":\"strict\",\"coloraxis\":{\"colorbar\":{\"outlinewidth\":0,\"ticks\":\"\"}},\"colorscale\":{\"diverging\":[[0,\"#8e0152\"],[0.1,\"#c51b7d\"],[0.2,\"#de77ae\"],[0.3,\"#f1b6da\"],[0.4,\"#fde0ef\"],[0.5,\"#f7f7f7\"],[0.6,\"#e6f5d0\"],[0.7,\"#b8e186\"],[0.8,\"#7fbc41\"],[0.9,\"#4d9221\"],[1,\"#276419\"]],\"sequential\":[[0.0,\"#0d0887\"],[0.1111111111111111,\"#46039f\"],[0.2222222222222222,\"#7201a8\"],[0.3333333333333333,\"#9c179e\"],[0.4444444444444444,\"#bd3786\"],[0.5555555555555556,\"#d8576b\"],[0.6666666666666666,\"#ed7953\"],[0.7777777777777778,\"#fb9f3a\"],[0.8888888888888888,\"#fdca26\"],[1.0,\"#f0f921\"]],\"sequentialminus\":[[0.0,\"#0d0887\"],[0.1111111111111111,\"#46039f\"],[0.2222222222222222,\"#7201a8\"],[0.3333333333333333,\"#9c179e\"],[0.4444444444444444,\"#bd3786\"],[0.5555555555555556,\"#d8576b\"],[0.6666666666666666,\"#ed7953\"],[0.7777777777777778,\"#fb9f3a\"],[0.8888888888888888,\"#fdca26\"],[1.0,\"#f0f921\"]]},\"colorway\":[\"#636efa\",\"#EF553B\",\"#00cc96\",\"#ab63fa\",\"#FFA15A\",\"#19d3f3\",\"#FF6692\",\"#B6E880\",\"#FF97FF\",\"#FECB52\"],\"font\":{\"color\":\"#2a3f5f\"},\"geo\":{\"bgcolor\":\"white\",\"lakecolor\":\"white\",\"landcolor\":\"#E5ECF6\",\"showlakes\":true,\"showland\":true,\"subunitcolor\":\"white\"},\"hoverlabel\":{\"align\":\"left\"},\"hovermode\":\"closest\",\"mapbox\":{\"style\":\"light\"},\"paper_bgcolor\":\"white\",\"plot_bgcolor\":\"#E5ECF6\",\"polar\":{\"angularaxis\":{\"gridcolor\":\"white\",\"linecolor\":\"white\",\"ticks\":\"\"},\"bgcolor\":\"#E5ECF6\",\"radialaxis\":{\"gridcolor\":\"white\",\"linecolor\":\"white\",\"ticks\":\"\"}},\"scene\":{\"xaxis\":{\"backgroundcolor\":\"#E5ECF6\",\"gridcolor\":\"white\",\"gridwidth\":2,\"linecolor\":\"white\",\"showbackground\":true,\"ticks\":\"\",\"zerolinecolor\":\"white\"},\"yaxis\":{\"backgroundcolor\":\"#E5ECF6\",\"gridcolor\":\"white\",\"gridwidth\":2,\"linecolor\":\"white\",\"showbackground\":true,\"ticks\":\"\",\"zerolinecolor\":\"white\"},\"zaxis\":{\"backgroundcolor\":\"#E5ECF6\",\"gridcolor\":\"white\",\"gridwidth\":2,\"linecolor\":\"white\",\"showbackground\":true,\"ticks\":\"\",\"zerolinecolor\":\"white\"}},\"shapedefaults\":{\"line\":{\"color\":\"#2a3f5f\"}},\"ternary\":{\"aaxis\":{\"gridcolor\":\"white\",\"linecolor\":\"white\",\"ticks\":\"\"},\"baxis\":{\"gridcolor\":\"white\",\"linecolor\":\"white\",\"ticks\":\"\"},\"bgcolor\":\"#E5ECF6\",\"caxis\":{\"gridcolor\":\"white\",\"linecolor\":\"white\",\"ticks\":\"\"}},\"title\":{\"x\":0.05},\"xaxis\":{\"automargin\":true,\"gridcolor\":\"white\",\"linecolor\":\"white\",\"ticks\":\"\",\"title\":{\"standoff\":15},\"zerolinecolor\":\"white\",\"zerolinewidth\":2},\"yaxis\":{\"automargin\":true,\"gridcolor\":\"white\",\"linecolor\":\"white\",\"ticks\":\"\",\"title\":{\"standoff\":15},\"zerolinecolor\":\"white\",\"zerolinewidth\":2}}},\"xaxis\":{\"anchor\":\"y\",\"domain\":[0.0,0.8358],\"title\":{\"text\":\"0\"}},\"yaxis\":{\"anchor\":\"x\",\"domain\":[0.0,0.8316],\"title\":{\"text\":\"1\"}},\"xaxis2\":{\"anchor\":\"y2\",\"domain\":[0.8408,1.0],\"matches\":\"x2\",\"showticklabels\":false,\"showline\":false,\"ticks\":\"\",\"showgrid\":false},\"yaxis2\":{\"anchor\":\"x2\",\"domain\":[0.0,0.8316],\"matches\":\"y\",\"showticklabels\":false,\"showgrid\":true},\"xaxis3\":{\"anchor\":\"y3\",\"domain\":[0.0,0.8358],\"matches\":\"x\",\"showticklabels\":false,\"showgrid\":true},\"yaxis3\":{\"anchor\":\"x3\",\"domain\":[0.8416,1.0],\"matches\":\"y3\",\"showticklabels\":false,\"showline\":false,\"ticks\":\"\",\"showgrid\":false},\"xaxis4\":{\"anchor\":\"y4\",\"domain\":[0.8408,1.0],\"matches\":\"x2\",\"showticklabels\":false,\"showgrid\":false,\"showline\":false,\"ticks\":\"\"},\"yaxis4\":{\"anchor\":\"x4\",\"domain\":[0.8416,1.0],\"matches\":\"y3\",\"showticklabels\":false,\"showline\":false,\"ticks\":\"\",\"showgrid\":true},\"legend\":{\"tracegroupgap\":0},\"margin\":{\"t\":60},\"annotations\":[{\"arrowcolor\":\" mediumseagreen\",\"arrowhead\":3,\"arrowwidth\":2.5,\"ax\":0,\"axref\":\"x\",\"ay\":0,\"ayref\":\"y\",\"showarrow\":true,\"text\":\"\",\"x\":0.5412394138348817,\"xref\":\"x\",\"y\":0.42234780413532014,\"yref\":\"y\"},{\"arrowcolor\":\"blueviolet\",\"arrowhead\":3,\"arrowwidth\":2.5,\"ax\":0,\"axref\":\"x\",\"ay\":0,\"ayref\":\"y\",\"showarrow\":true,\"text\":\"\",\"x\":1.4759554077372463,\"xref\":\"x\",\"y\":0.4757650121404046,\"yref\":\"y\"}]},                        {\"responsive\": true}                    ).then(function(){\n",
              "                            \n",
              "var gd = document.getElementById('fb680720-66f7-4e4a-a0ad-318d58e1204a');\n",
              "var x = new MutationObserver(function (mutations, observer) {{\n",
              "        var display = window.getComputedStyle(gd).display;\n",
              "        if (!display || display === 'none') {{\n",
              "            console.log([gd, 'removed!']);\n",
              "            Plotly.purge(gd);\n",
              "            observer.disconnect();\n",
              "        }}\n",
              "}});\n",
              "\n",
              "// Listen for the removal of the full notebook cells\n",
              "var notebookContainer = gd.closest('#notebook-container');\n",
              "if (notebookContainer) {{\n",
              "    x.observe(notebookContainer, {childList: true});\n",
              "}}\n",
              "\n",
              "// Listen for the clearing of the current output cell\n",
              "var outputEl = gd.closest('.output');\n",
              "if (outputEl) {{\n",
              "    x.observe(outputEl, {childList: true});\n",
              "}}\n",
              "\n",
              "                        })                };                            </script>        </div>\n",
              "</body>\n",
              "</html>"
            ]
          },
          "metadata": {}
        }
      ]
    },
    {
      "cell_type": "markdown",
      "source": [
        "<center>\n",
        "$corr(x,y) = \\frac{{\\rm cov(x,y)}}{{\\rm std}(x){\\rm std}(y)}=\\frac{\\langle x_{std}, y_{std} \\rangle}{n-1}$\n",
        "</center>"
      ],
      "metadata": {
        "id": "2vAUJCTpkH0d"
      }
    },
    {
      "cell_type": "code",
      "source": [
        "S = A_std.T.dot(A_std) # La matriz de covarianza es S/(n-1)\n",
        "S"
      ],
      "metadata": {
        "colab": {
          "base_uri": "https://localhost:8080/",
          "height": 175
        },
        "id": "4uPdLXIzkeJp",
        "outputId": "1188cb5a-ad63-485c-b630-b65454796bcd"
      },
      "execution_count": 60,
      "outputs": [
        {
          "output_type": "execute_result",
          "data": {
            "text/plain": [
              "           0          1          2          3\n",
              "0  50.000000  40.093666   3.478631  28.178942\n",
              "1  40.093666  50.000000  12.943585  33.262061\n",
              "2   3.478631  12.943585  50.000000  20.567062\n",
              "3  28.178942  33.262061  20.567062  50.000000"
            ],
            "text/html": [
              "\n",
              "  <div id=\"df-3e5c01c9-87c3-4ace-856c-e86bf4e0c1d3\">\n",
              "    <div class=\"colab-df-container\">\n",
              "      <div>\n",
              "<style scoped>\n",
              "    .dataframe tbody tr th:only-of-type {\n",
              "        vertical-align: middle;\n",
              "    }\n",
              "\n",
              "    .dataframe tbody tr th {\n",
              "        vertical-align: top;\n",
              "    }\n",
              "\n",
              "    .dataframe thead th {\n",
              "        text-align: right;\n",
              "    }\n",
              "</style>\n",
              "<table border=\"1\" class=\"dataframe\">\n",
              "  <thead>\n",
              "    <tr style=\"text-align: right;\">\n",
              "      <th></th>\n",
              "      <th>0</th>\n",
              "      <th>1</th>\n",
              "      <th>2</th>\n",
              "      <th>3</th>\n",
              "    </tr>\n",
              "  </thead>\n",
              "  <tbody>\n",
              "    <tr>\n",
              "      <th>0</th>\n",
              "      <td>50.000000</td>\n",
              "      <td>40.093666</td>\n",
              "      <td>3.478631</td>\n",
              "      <td>28.178942</td>\n",
              "    </tr>\n",
              "    <tr>\n",
              "      <th>1</th>\n",
              "      <td>40.093666</td>\n",
              "      <td>50.000000</td>\n",
              "      <td>12.943585</td>\n",
              "      <td>33.262061</td>\n",
              "    </tr>\n",
              "    <tr>\n",
              "      <th>2</th>\n",
              "      <td>3.478631</td>\n",
              "      <td>12.943585</td>\n",
              "      <td>50.000000</td>\n",
              "      <td>20.567062</td>\n",
              "    </tr>\n",
              "    <tr>\n",
              "      <th>3</th>\n",
              "      <td>28.178942</td>\n",
              "      <td>33.262061</td>\n",
              "      <td>20.567062</td>\n",
              "      <td>50.000000</td>\n",
              "    </tr>\n",
              "  </tbody>\n",
              "</table>\n",
              "</div>\n",
              "      <button class=\"colab-df-convert\" onclick=\"convertToInteractive('df-3e5c01c9-87c3-4ace-856c-e86bf4e0c1d3')\"\n",
              "              title=\"Convert this dataframe to an interactive table.\"\n",
              "              style=\"display:none;\">\n",
              "        \n",
              "  <svg xmlns=\"http://www.w3.org/2000/svg\" height=\"24px\"viewBox=\"0 0 24 24\"\n",
              "       width=\"24px\">\n",
              "    <path d=\"M0 0h24v24H0V0z\" fill=\"none\"/>\n",
              "    <path d=\"M18.56 5.44l.94 2.06.94-2.06 2.06-.94-2.06-.94-.94-2.06-.94 2.06-2.06.94zm-11 1L8.5 8.5l.94-2.06 2.06-.94-2.06-.94L8.5 2.5l-.94 2.06-2.06.94zm10 10l.94 2.06.94-2.06 2.06-.94-2.06-.94-.94-2.06-.94 2.06-2.06.94z\"/><path d=\"M17.41 7.96l-1.37-1.37c-.4-.4-.92-.59-1.43-.59-.52 0-1.04.2-1.43.59L10.3 9.45l-7.72 7.72c-.78.78-.78 2.05 0 2.83L4 21.41c.39.39.9.59 1.41.59.51 0 1.02-.2 1.41-.59l7.78-7.78 2.81-2.81c.8-.78.8-2.07 0-2.86zM5.41 20L4 18.59l7.72-7.72 1.47 1.35L5.41 20z\"/>\n",
              "  </svg>\n",
              "      </button>\n",
              "      \n",
              "  <style>\n",
              "    .colab-df-container {\n",
              "      display:flex;\n",
              "      flex-wrap:wrap;\n",
              "      gap: 12px;\n",
              "    }\n",
              "\n",
              "    .colab-df-convert {\n",
              "      background-color: #E8F0FE;\n",
              "      border: none;\n",
              "      border-radius: 50%;\n",
              "      cursor: pointer;\n",
              "      display: none;\n",
              "      fill: #1967D2;\n",
              "      height: 32px;\n",
              "      padding: 0 0 0 0;\n",
              "      width: 32px;\n",
              "    }\n",
              "\n",
              "    .colab-df-convert:hover {\n",
              "      background-color: #E2EBFA;\n",
              "      box-shadow: 0px 1px 2px rgba(60, 64, 67, 0.3), 0px 1px 3px 1px rgba(60, 64, 67, 0.15);\n",
              "      fill: #174EA6;\n",
              "    }\n",
              "\n",
              "    [theme=dark] .colab-df-convert {\n",
              "      background-color: #3B4455;\n",
              "      fill: #D2E3FC;\n",
              "    }\n",
              "\n",
              "    [theme=dark] .colab-df-convert:hover {\n",
              "      background-color: #434B5C;\n",
              "      box-shadow: 0px 1px 3px 1px rgba(0, 0, 0, 0.15);\n",
              "      filter: drop-shadow(0px 1px 2px rgba(0, 0, 0, 0.3));\n",
              "      fill: #FFFFFF;\n",
              "    }\n",
              "  </style>\n",
              "\n",
              "      <script>\n",
              "        const buttonEl =\n",
              "          document.querySelector('#df-3e5c01c9-87c3-4ace-856c-e86bf4e0c1d3 button.colab-df-convert');\n",
              "        buttonEl.style.display =\n",
              "          google.colab.kernel.accessAllowed ? 'block' : 'none';\n",
              "\n",
              "        async function convertToInteractive(key) {\n",
              "          const element = document.querySelector('#df-3e5c01c9-87c3-4ace-856c-e86bf4e0c1d3');\n",
              "          const dataTable =\n",
              "            await google.colab.kernel.invokeFunction('convertToInteractive',\n",
              "                                                     [key], {});\n",
              "          if (!dataTable) return;\n",
              "\n",
              "          const docLinkHtml = 'Like what you see? Visit the ' +\n",
              "            '<a target=\"_blank\" href=https://colab.research.google.com/notebooks/data_table.ipynb>data table notebook</a>'\n",
              "            + ' to learn more about interactive tables.';\n",
              "          element.innerHTML = '';\n",
              "          dataTable['output_type'] = 'display_data';\n",
              "          await google.colab.output.renderOutput(dataTable, element);\n",
              "          const docLink = document.createElement('div');\n",
              "          docLink.innerHTML = docLinkHtml;\n",
              "          element.appendChild(docLink);\n",
              "        }\n",
              "      </script>\n",
              "    </div>\n",
              "  </div>\n",
              "  "
            ]
          },
          "metadata": {},
          "execution_count": 60
        }
      ]
    },
    {
      "cell_type": "code",
      "source": [
        "auto_valores, auto_vectores = eig(S)\n",
        "print(auto_valores)\n",
        "print(auto_vectores)"
      ],
      "metadata": {
        "colab": {
          "base_uri": "https://localhost:8080/"
        },
        "id": "hhLJH2b6kinJ",
        "outputId": "798a9b7f-0742-4573-ad35-0079e776515e"
      },
      "execution_count": 61,
      "outputs": [
        {
          "output_type": "stream",
          "name": "stdout",
          "text": [
            "[124.01207896  49.48825763   8.67150439  17.82815903]\n",
            "[[ 0.53589947  0.41818087  0.6492278  -0.34123273]\n",
            " [ 0.58318363  0.1879856  -0.74340748 -0.26814843]\n",
            " [ 0.27819087 -0.87280619  0.13387773 -0.37801579]\n",
            " [ 0.54343209 -0.16731864  0.08902432  0.81777791]]\n"
          ]
        }
      ]
    },
    {
      "cell_type": "markdown",
      "source": [
        "Realizamos el cálculo de los valores singulares mediante la siguiente fórmula:\n",
        "<center>\n",
        "$\\sigma_i = \\sqrt{\\lambda_{i}}$ para $i = {1,2...r}$\n",
        "</center>"
      ],
      "metadata": {
        "id": "tPnbQQRzSop_"
      }
    },
    {
      "cell_type": "code",
      "source": [
        "print('singular_value_1 =', np.sqrt(auto_valores[0]).round(4))\n",
        "print('singular_value_2 =', np.sqrt(auto_valores[1]).round(4))\n",
        "print('singular_value_3 =', np.sqrt(auto_valores[2]).round(4))\n",
        "print('singular_value_4 =', np.sqrt(auto_valores[3]).round(4))"
      ],
      "metadata": {
        "colab": {
          "base_uri": "https://localhost:8080/"
        },
        "id": "Guf_XNJUkj8t",
        "outputId": "841d7373-fb01-440e-a723-83a7d81db625"
      },
      "execution_count": 62,
      "outputs": [
        {
          "output_type": "stream",
          "name": "stdout",
          "text": [
            "singular_value_1 = 11.1361\n",
            "singular_value_2 = 7.0348\n",
            "singular_value_3 = 2.9447\n",
            "singular_value_4 = 4.2223\n"
          ]
        }
      ]
    },
    {
      "cell_type": "markdown",
      "source": [
        "# Creación de componentes principales a través de SVD  \n",
        "- Se aplica la SVD a A_std y se calculan las matrices U, Vt y un arreglo con los valores singulares $\\sigma_{1}$ y $\\sigma_{2}$\n",
        "- U es una matriz con columnas $u_{1}$ y $u_{2}$\n",
        "- Se hace el cálculo componentes:"
      ],
      "metadata": {
        "id": "FppeyG-Mko7F"
      }
    },
    {
      "cell_type": "markdown",
      "source": [
        "componente_principal_i = $\\sigma_{i}u_{i}$ (column vector) con $i= {1,2...r}$"
      ],
      "metadata": {
        "id": "oG6F83G3lPPn"
      }
    },
    {
      "cell_type": "markdown",
      "source": [
        "Obtenemos los valores singulares"
      ],
      "metadata": {
        "id": "ngNxU1KYVlgn"
      }
    },
    {
      "cell_type": "code",
      "source": [
        "from scipy.linalg import svdvals\n",
        "print('Valores singulares A_std = ',svdvals(A_std))"
      ],
      "metadata": {
        "colab": {
          "base_uri": "https://localhost:8080/"
        },
        "id": "1_rw0hwOlbGR",
        "outputId": "b25b693c-70fa-4de0-96ca-708c840c085c"
      },
      "execution_count": 63,
      "outputs": [
        {
          "output_type": "stream",
          "name": "stdout",
          "text": [
            "Valores singulares A_std =  [11.13607107  7.0347891   4.22234047  2.94474182]\n"
          ]
        }
      ]
    },
    {
      "cell_type": "markdown",
      "source": [
        "Realizamo la descomposición en valores singulares"
      ],
      "metadata": {
        "id": "n7s1KkrRVpR_"
      }
    },
    {
      "cell_type": "code",
      "source": [
        "from scipy import linalg\n",
        "U, S, Vt = linalg.svd(A_std, full_matrices=False)"
      ],
      "metadata": {
        "id": "uzDWC-iylLGl"
      },
      "execution_count": 64,
      "outputs": []
    },
    {
      "cell_type": "code",
      "source": [
        "U.shape, S.shape, Vt.shape"
      ],
      "metadata": {
        "colab": {
          "base_uri": "https://localhost:8080/"
        },
        "id": "qHYzuaVYllbp",
        "outputId": "a1d3f26a-3062-4864-a831-127ccb71cd96"
      },
      "execution_count": 65,
      "outputs": [
        {
          "output_type": "execute_result",
          "data": {
            "text/plain": [
              "((50, 4), (4,), (4, 4))"
            ]
          },
          "metadata": {},
          "execution_count": 65
        }
      ]
    },
    {
      "cell_type": "code",
      "source": [
        "print('Valores singulares de A_std = ', S)"
      ],
      "metadata": {
        "colab": {
          "base_uri": "https://localhost:8080/"
        },
        "id": "_L4iIoBFlvGr",
        "outputId": "e72136ad-00c7-4b0d-e48f-09a4bc46604f"
      },
      "execution_count": 66,
      "outputs": [
        {
          "output_type": "stream",
          "name": "stdout",
          "text": [
            "Valores singulares de A_std =  [11.13607107  7.0347891   4.22234047  2.94474182]\n"
          ]
        }
      ]
    },
    {
      "cell_type": "code",
      "source": [
        "Matriz_U = pd.DataFrame(U)\n",
        "Matriz_Vt = pd.DataFrame(Vt)"
      ],
      "metadata": {
        "id": "EE1aU07llwOH"
      },
      "execution_count": 67,
      "outputs": []
    },
    {
      "cell_type": "markdown",
      "source": [
        "Obtenemos las componentes principales"
      ],
      "metadata": {
        "id": "mnrrutu5WFXY"
      }
    },
    {
      "cell_type": "code",
      "source": [
        "print('componente_principal_1 =\\n ', S[0]*Matriz_U[0])\n",
        "print('componente_principal_2 =\\n ', S[1]*Matriz_U[1])\n",
        "print('componente_principal_3 =\\n ', S[2]*Matriz_U[2])\n",
        "print('componente_principal_4 =\\n ', S[3]*Matriz_U[3])"
      ],
      "metadata": {
        "colab": {
          "base_uri": "https://localhost:8080/"
        },
        "id": "IbIXk3Phlyy0",
        "outputId": "5aecb4df-69ab-44bb-9cce-d4fa679ae940"
      },
      "execution_count": 68,
      "outputs": [
        {
          "output_type": "stream",
          "name": "stdout",
          "text": [
            "componente_principal_1 =\n",
            "  0    -0.985566\n",
            "1    -1.950138\n",
            "2    -1.763164\n",
            "3     0.141420\n",
            "4    -2.523980\n",
            "5    -1.514563\n",
            "6     1.358647\n",
            "7    -0.047709\n",
            "8    -3.013042\n",
            "9    -1.639283\n",
            "10    0.912657\n",
            "11    1.639800\n",
            "12   -1.378911\n",
            "13    0.505461\n",
            "14    2.253646\n",
            "15    0.796881\n",
            "16    0.750859\n",
            "17   -1.564818\n",
            "18    2.396829\n",
            "19   -1.763369\n",
            "20    0.486166\n",
            "21   -2.108441\n",
            "22    1.692682\n",
            "23   -0.996494\n",
            "24   -0.696787\n",
            "25    1.185452\n",
            "26    1.265637\n",
            "27   -2.874395\n",
            "28    2.383915\n",
            "29   -0.181566\n",
            "30   -1.980024\n",
            "31   -1.682577\n",
            "32   -1.123379\n",
            "33    2.992226\n",
            "34    0.225965\n",
            "35    0.311783\n",
            "36   -0.059122\n",
            "37    0.888416\n",
            "38    0.863772\n",
            "39   -1.320724\n",
            "40    1.987775\n",
            "41   -0.999742\n",
            "42   -1.355138\n",
            "43    0.550565\n",
            "44    2.801412\n",
            "45    0.096335\n",
            "46    0.216903\n",
            "47    2.108585\n",
            "48    2.079714\n",
            "49    0.629427\n",
            "Name: 0, dtype: float64\n",
            "componente_principal_2 =\n",
            "  0     1.133392\n",
            "1     1.073213\n",
            "2    -0.745957\n",
            "3     1.119797\n",
            "4    -1.542934\n",
            "5    -0.987555\n",
            "6    -1.088928\n",
            "7    -0.325359\n",
            "8     0.039229\n",
            "9     1.278942\n",
            "10   -1.570460\n",
            "11    0.210973\n",
            "12   -0.681841\n",
            "13   -0.151563\n",
            "14   -0.104054\n",
            "15   -0.270165\n",
            "16    0.958440\n",
            "17    0.871055\n",
            "18    0.376392\n",
            "19    0.427655\n",
            "20   -1.474496\n",
            "21   -0.155397\n",
            "22   -0.632261\n",
            "23    2.393796\n",
            "24   -0.263355\n",
            "25    0.536874\n",
            "26   -0.193954\n",
            "27   -0.775600\n",
            "28   -0.018082\n",
            "29   -1.449506\n",
            "30    0.142849\n",
            "31   -0.823184\n",
            "32    2.228003\n",
            "33    0.599119\n",
            "34   -0.742238\n",
            "35   -0.287854\n",
            "36   -0.541411\n",
            "37   -0.571100\n",
            "38   -1.491978\n",
            "39    1.933405\n",
            "40    0.823343\n",
            "41    0.860251\n",
            "42   -0.412481\n",
            "43   -1.471505\n",
            "44    1.402288\n",
            "45    0.199735\n",
            "46   -0.970124\n",
            "47    1.424847\n",
            "48   -0.611269\n",
            "49    0.321013\n",
            "Name: 1, dtype: float64\n",
            "componente_principal_3 =\n",
            "  0    -0.444269\n",
            "1     2.040003\n",
            "2     0.054781\n",
            "3     0.114574\n",
            "4     0.598557\n",
            "5     1.095007\n",
            "6    -0.643258\n",
            "7    -0.718633\n",
            "8    -0.576829\n",
            "9    -0.342460\n",
            "10    0.050782\n",
            "11    0.259801\n",
            "12   -0.677496\n",
            "13    0.228055\n",
            "14    0.164564\n",
            "15    0.025553\n",
            "16   -0.028369\n",
            "17   -0.783480\n",
            "18   -0.065682\n",
            "19   -0.157250\n",
            "20   -0.609497\n",
            "21    0.384869\n",
            "22    0.153070\n",
            "23   -0.740808\n",
            "24    0.377444\n",
            "25    0.246889\n",
            "26    0.175574\n",
            "27    1.163380\n",
            "28    0.036855\n",
            "29   -0.764454\n",
            "30    0.183692\n",
            "31   -0.643075\n",
            "32   -0.863572\n",
            "33    0.301277\n",
            "34   -0.031139\n",
            "35   -0.015310\n",
            "36    0.939833\n",
            "37   -0.400629\n",
            "38   -1.369946\n",
            "39   -0.300538\n",
            "40    0.389293\n",
            "41    0.188083\n",
            "42   -0.492069\n",
            "43    0.293728\n",
            "44    0.841263\n",
            "45    0.011713\n",
            "46    0.624871\n",
            "47    0.104775\n",
            "48   -0.138865\n",
            "49   -0.240659\n",
            "Name: 2, dtype: float64\n",
            "componente_principal_4 =\n",
            "  0     0.156267\n",
            "1    -0.438583\n",
            "2    -0.834653\n",
            "3    -0.182811\n",
            "4    -0.341996\n",
            "5     0.001465\n",
            "6    -0.118469\n",
            "7    -0.881978\n",
            "8    -0.096285\n",
            "9     1.076797\n",
            "10    0.902807\n",
            "11   -0.499104\n",
            "12   -0.122021\n",
            "13    0.424666\n",
            "14    0.017556\n",
            "15    0.206496\n",
            "16    0.670557\n",
            "17    0.454728\n",
            "18   -0.330460\n",
            "19   -0.559070\n",
            "20   -0.179599\n",
            "21    0.102372\n",
            "22    0.067317\n",
            "23    0.215508\n",
            "24    0.225824\n",
            "25    0.123742\n",
            "26    0.015893\n",
            "27    0.314515\n",
            "28   -0.033137\n",
            "29    0.243383\n",
            "30   -0.339534\n",
            "31   -0.013484\n",
            "32   -0.954382\n",
            "33   -0.253987\n",
            "34    0.473916\n",
            "35    0.010332\n",
            "36   -0.237781\n",
            "37    0.359061\n",
            "38   -0.613569\n",
            "39   -0.131467\n",
            "40   -0.109572\n",
            "41    0.652864\n",
            "42    0.643195\n",
            "43   -0.082314\n",
            "44   -0.144890\n",
            "45    0.211371\n",
            "46   -0.220848\n",
            "47    0.131909\n",
            "48    0.184104\n",
            "49   -0.166652\n",
            "Name: 3, dtype: float64\n"
          ]
        }
      ]
    },
    {
      "cell_type": "markdown",
      "source": [
        "Notar que las columas de $U$ tienen media cero pero los renglones de $V^T$ no necesariamente."
      ],
      "metadata": {
        "id": "pqdwYJxwl_Fu"
      }
    },
    {
      "cell_type": "code",
      "source": [
        "Matriz_U.describe().round(6)"
      ],
      "metadata": {
        "colab": {
          "base_uri": "https://localhost:8080/",
          "height": 300
        },
        "id": "R9opFT_lmUBW",
        "outputId": "82a56837-1fe2-41c5-ecb9-a9651cfbb6b7"
      },
      "execution_count": 69,
      "outputs": [
        {
          "output_type": "execute_result",
          "data": {
            "text/plain": [
              "               0          1          2          3\n",
              "count  50.000000  50.000000  50.000000  50.000000\n",
              "mean   -0.000000   0.000000   0.000000  -0.000000\n",
              "std     0.142857   0.142857   0.142857   0.142857\n",
              "min    -0.270566  -0.223242  -0.324452  -0.324097\n",
              "25%    -0.123290  -0.103363  -0.102635  -0.071768\n",
              "50%     0.016088  -0.021817   0.007390  -0.002041\n",
              "75%     0.100327   0.109070   0.060766   0.072833\n",
              "max     0.268697   0.340280   0.483145   0.365668"
            ],
            "text/html": [
              "\n",
              "  <div id=\"df-5744d950-492e-44d6-b1de-10e41099a6b1\">\n",
              "    <div class=\"colab-df-container\">\n",
              "      <div>\n",
              "<style scoped>\n",
              "    .dataframe tbody tr th:only-of-type {\n",
              "        vertical-align: middle;\n",
              "    }\n",
              "\n",
              "    .dataframe tbody tr th {\n",
              "        vertical-align: top;\n",
              "    }\n",
              "\n",
              "    .dataframe thead th {\n",
              "        text-align: right;\n",
              "    }\n",
              "</style>\n",
              "<table border=\"1\" class=\"dataframe\">\n",
              "  <thead>\n",
              "    <tr style=\"text-align: right;\">\n",
              "      <th></th>\n",
              "      <th>0</th>\n",
              "      <th>1</th>\n",
              "      <th>2</th>\n",
              "      <th>3</th>\n",
              "    </tr>\n",
              "  </thead>\n",
              "  <tbody>\n",
              "    <tr>\n",
              "      <th>count</th>\n",
              "      <td>50.000000</td>\n",
              "      <td>50.000000</td>\n",
              "      <td>50.000000</td>\n",
              "      <td>50.000000</td>\n",
              "    </tr>\n",
              "    <tr>\n",
              "      <th>mean</th>\n",
              "      <td>-0.000000</td>\n",
              "      <td>0.000000</td>\n",
              "      <td>0.000000</td>\n",
              "      <td>-0.000000</td>\n",
              "    </tr>\n",
              "    <tr>\n",
              "      <th>std</th>\n",
              "      <td>0.142857</td>\n",
              "      <td>0.142857</td>\n",
              "      <td>0.142857</td>\n",
              "      <td>0.142857</td>\n",
              "    </tr>\n",
              "    <tr>\n",
              "      <th>min</th>\n",
              "      <td>-0.270566</td>\n",
              "      <td>-0.223242</td>\n",
              "      <td>-0.324452</td>\n",
              "      <td>-0.324097</td>\n",
              "    </tr>\n",
              "    <tr>\n",
              "      <th>25%</th>\n",
              "      <td>-0.123290</td>\n",
              "      <td>-0.103363</td>\n",
              "      <td>-0.102635</td>\n",
              "      <td>-0.071768</td>\n",
              "    </tr>\n",
              "    <tr>\n",
              "      <th>50%</th>\n",
              "      <td>0.016088</td>\n",
              "      <td>-0.021817</td>\n",
              "      <td>0.007390</td>\n",
              "      <td>-0.002041</td>\n",
              "    </tr>\n",
              "    <tr>\n",
              "      <th>75%</th>\n",
              "      <td>0.100327</td>\n",
              "      <td>0.109070</td>\n",
              "      <td>0.060766</td>\n",
              "      <td>0.072833</td>\n",
              "    </tr>\n",
              "    <tr>\n",
              "      <th>max</th>\n",
              "      <td>0.268697</td>\n",
              "      <td>0.340280</td>\n",
              "      <td>0.483145</td>\n",
              "      <td>0.365668</td>\n",
              "    </tr>\n",
              "  </tbody>\n",
              "</table>\n",
              "</div>\n",
              "      <button class=\"colab-df-convert\" onclick=\"convertToInteractive('df-5744d950-492e-44d6-b1de-10e41099a6b1')\"\n",
              "              title=\"Convert this dataframe to an interactive table.\"\n",
              "              style=\"display:none;\">\n",
              "        \n",
              "  <svg xmlns=\"http://www.w3.org/2000/svg\" height=\"24px\"viewBox=\"0 0 24 24\"\n",
              "       width=\"24px\">\n",
              "    <path d=\"M0 0h24v24H0V0z\" fill=\"none\"/>\n",
              "    <path d=\"M18.56 5.44l.94 2.06.94-2.06 2.06-.94-2.06-.94-.94-2.06-.94 2.06-2.06.94zm-11 1L8.5 8.5l.94-2.06 2.06-.94-2.06-.94L8.5 2.5l-.94 2.06-2.06.94zm10 10l.94 2.06.94-2.06 2.06-.94-2.06-.94-.94-2.06-.94 2.06-2.06.94z\"/><path d=\"M17.41 7.96l-1.37-1.37c-.4-.4-.92-.59-1.43-.59-.52 0-1.04.2-1.43.59L10.3 9.45l-7.72 7.72c-.78.78-.78 2.05 0 2.83L4 21.41c.39.39.9.59 1.41.59.51 0 1.02-.2 1.41-.59l7.78-7.78 2.81-2.81c.8-.78.8-2.07 0-2.86zM5.41 20L4 18.59l7.72-7.72 1.47 1.35L5.41 20z\"/>\n",
              "  </svg>\n",
              "      </button>\n",
              "      \n",
              "  <style>\n",
              "    .colab-df-container {\n",
              "      display:flex;\n",
              "      flex-wrap:wrap;\n",
              "      gap: 12px;\n",
              "    }\n",
              "\n",
              "    .colab-df-convert {\n",
              "      background-color: #E8F0FE;\n",
              "      border: none;\n",
              "      border-radius: 50%;\n",
              "      cursor: pointer;\n",
              "      display: none;\n",
              "      fill: #1967D2;\n",
              "      height: 32px;\n",
              "      padding: 0 0 0 0;\n",
              "      width: 32px;\n",
              "    }\n",
              "\n",
              "    .colab-df-convert:hover {\n",
              "      background-color: #E2EBFA;\n",
              "      box-shadow: 0px 1px 2px rgba(60, 64, 67, 0.3), 0px 1px 3px 1px rgba(60, 64, 67, 0.15);\n",
              "      fill: #174EA6;\n",
              "    }\n",
              "\n",
              "    [theme=dark] .colab-df-convert {\n",
              "      background-color: #3B4455;\n",
              "      fill: #D2E3FC;\n",
              "    }\n",
              "\n",
              "    [theme=dark] .colab-df-convert:hover {\n",
              "      background-color: #434B5C;\n",
              "      box-shadow: 0px 1px 3px 1px rgba(0, 0, 0, 0.15);\n",
              "      filter: drop-shadow(0px 1px 2px rgba(0, 0, 0, 0.3));\n",
              "      fill: #FFFFFF;\n",
              "    }\n",
              "  </style>\n",
              "\n",
              "      <script>\n",
              "        const buttonEl =\n",
              "          document.querySelector('#df-5744d950-492e-44d6-b1de-10e41099a6b1 button.colab-df-convert');\n",
              "        buttonEl.style.display =\n",
              "          google.colab.kernel.accessAllowed ? 'block' : 'none';\n",
              "\n",
              "        async function convertToInteractive(key) {\n",
              "          const element = document.querySelector('#df-5744d950-492e-44d6-b1de-10e41099a6b1');\n",
              "          const dataTable =\n",
              "            await google.colab.kernel.invokeFunction('convertToInteractive',\n",
              "                                                     [key], {});\n",
              "          if (!dataTable) return;\n",
              "\n",
              "          const docLinkHtml = 'Like what you see? Visit the ' +\n",
              "            '<a target=\"_blank\" href=https://colab.research.google.com/notebooks/data_table.ipynb>data table notebook</a>'\n",
              "            + ' to learn more about interactive tables.';\n",
              "          element.innerHTML = '';\n",
              "          dataTable['output_type'] = 'display_data';\n",
              "          await google.colab.output.renderOutput(dataTable, element);\n",
              "          const docLink = document.createElement('div');\n",
              "          docLink.innerHTML = docLinkHtml;\n",
              "          element.appendChild(docLink);\n",
              "        }\n",
              "      </script>\n",
              "    </div>\n",
              "  </div>\n",
              "  "
            ]
          },
          "metadata": {},
          "execution_count": 69
        }
      ]
    },
    {
      "cell_type": "code",
      "source": [
        "Matriz_Vt.T.describe().round(6)"
      ],
      "metadata": {
        "colab": {
          "base_uri": "https://localhost:8080/",
          "height": 300
        },
        "id": "RQJ8p2LMmqoH",
        "outputId": "43eecc98-efcc-4d1b-e65e-c3c642c68ee6"
      },
      "execution_count": 70,
      "outputs": [
        {
          "output_type": "execute_result",
          "data": {
            "text/plain": [
              "              0         1         2         3\n",
              "count  4.000000  4.000000  4.000000  4.000000\n",
              "mean  -0.485177 -0.108490 -0.042405  0.032181\n",
              "std    0.139541  0.563596  0.575270  0.576153\n",
              "min   -0.583184 -0.872806 -0.378016 -0.743407\n",
              "25%   -0.553370 -0.343691 -0.350428 -0.119084\n",
              "50%   -0.539666  0.010333 -0.304691  0.111451\n",
              "75%   -0.471472  0.245534  0.003333  0.262715\n",
              "max   -0.278191  0.418181  0.817778  0.649228"
            ],
            "text/html": [
              "\n",
              "  <div id=\"df-1f01e694-c5b8-4a87-b8c7-ad5dea952fca\">\n",
              "    <div class=\"colab-df-container\">\n",
              "      <div>\n",
              "<style scoped>\n",
              "    .dataframe tbody tr th:only-of-type {\n",
              "        vertical-align: middle;\n",
              "    }\n",
              "\n",
              "    .dataframe tbody tr th {\n",
              "        vertical-align: top;\n",
              "    }\n",
              "\n",
              "    .dataframe thead th {\n",
              "        text-align: right;\n",
              "    }\n",
              "</style>\n",
              "<table border=\"1\" class=\"dataframe\">\n",
              "  <thead>\n",
              "    <tr style=\"text-align: right;\">\n",
              "      <th></th>\n",
              "      <th>0</th>\n",
              "      <th>1</th>\n",
              "      <th>2</th>\n",
              "      <th>3</th>\n",
              "    </tr>\n",
              "  </thead>\n",
              "  <tbody>\n",
              "    <tr>\n",
              "      <th>count</th>\n",
              "      <td>4.000000</td>\n",
              "      <td>4.000000</td>\n",
              "      <td>4.000000</td>\n",
              "      <td>4.000000</td>\n",
              "    </tr>\n",
              "    <tr>\n",
              "      <th>mean</th>\n",
              "      <td>-0.485177</td>\n",
              "      <td>-0.108490</td>\n",
              "      <td>-0.042405</td>\n",
              "      <td>0.032181</td>\n",
              "    </tr>\n",
              "    <tr>\n",
              "      <th>std</th>\n",
              "      <td>0.139541</td>\n",
              "      <td>0.563596</td>\n",
              "      <td>0.575270</td>\n",
              "      <td>0.576153</td>\n",
              "    </tr>\n",
              "    <tr>\n",
              "      <th>min</th>\n",
              "      <td>-0.583184</td>\n",
              "      <td>-0.872806</td>\n",
              "      <td>-0.378016</td>\n",
              "      <td>-0.743407</td>\n",
              "    </tr>\n",
              "    <tr>\n",
              "      <th>25%</th>\n",
              "      <td>-0.553370</td>\n",
              "      <td>-0.343691</td>\n",
              "      <td>-0.350428</td>\n",
              "      <td>-0.119084</td>\n",
              "    </tr>\n",
              "    <tr>\n",
              "      <th>50%</th>\n",
              "      <td>-0.539666</td>\n",
              "      <td>0.010333</td>\n",
              "      <td>-0.304691</td>\n",
              "      <td>0.111451</td>\n",
              "    </tr>\n",
              "    <tr>\n",
              "      <th>75%</th>\n",
              "      <td>-0.471472</td>\n",
              "      <td>0.245534</td>\n",
              "      <td>0.003333</td>\n",
              "      <td>0.262715</td>\n",
              "    </tr>\n",
              "    <tr>\n",
              "      <th>max</th>\n",
              "      <td>-0.278191</td>\n",
              "      <td>0.418181</td>\n",
              "      <td>0.817778</td>\n",
              "      <td>0.649228</td>\n",
              "    </tr>\n",
              "  </tbody>\n",
              "</table>\n",
              "</div>\n",
              "      <button class=\"colab-df-convert\" onclick=\"convertToInteractive('df-1f01e694-c5b8-4a87-b8c7-ad5dea952fca')\"\n",
              "              title=\"Convert this dataframe to an interactive table.\"\n",
              "              style=\"display:none;\">\n",
              "        \n",
              "  <svg xmlns=\"http://www.w3.org/2000/svg\" height=\"24px\"viewBox=\"0 0 24 24\"\n",
              "       width=\"24px\">\n",
              "    <path d=\"M0 0h24v24H0V0z\" fill=\"none\"/>\n",
              "    <path d=\"M18.56 5.44l.94 2.06.94-2.06 2.06-.94-2.06-.94-.94-2.06-.94 2.06-2.06.94zm-11 1L8.5 8.5l.94-2.06 2.06-.94-2.06-.94L8.5 2.5l-.94 2.06-2.06.94zm10 10l.94 2.06.94-2.06 2.06-.94-2.06-.94-.94-2.06-.94 2.06-2.06.94z\"/><path d=\"M17.41 7.96l-1.37-1.37c-.4-.4-.92-.59-1.43-.59-.52 0-1.04.2-1.43.59L10.3 9.45l-7.72 7.72c-.78.78-.78 2.05 0 2.83L4 21.41c.39.39.9.59 1.41.59.51 0 1.02-.2 1.41-.59l7.78-7.78 2.81-2.81c.8-.78.8-2.07 0-2.86zM5.41 20L4 18.59l7.72-7.72 1.47 1.35L5.41 20z\"/>\n",
              "  </svg>\n",
              "      </button>\n",
              "      \n",
              "  <style>\n",
              "    .colab-df-container {\n",
              "      display:flex;\n",
              "      flex-wrap:wrap;\n",
              "      gap: 12px;\n",
              "    }\n",
              "\n",
              "    .colab-df-convert {\n",
              "      background-color: #E8F0FE;\n",
              "      border: none;\n",
              "      border-radius: 50%;\n",
              "      cursor: pointer;\n",
              "      display: none;\n",
              "      fill: #1967D2;\n",
              "      height: 32px;\n",
              "      padding: 0 0 0 0;\n",
              "      width: 32px;\n",
              "    }\n",
              "\n",
              "    .colab-df-convert:hover {\n",
              "      background-color: #E2EBFA;\n",
              "      box-shadow: 0px 1px 2px rgba(60, 64, 67, 0.3), 0px 1px 3px 1px rgba(60, 64, 67, 0.15);\n",
              "      fill: #174EA6;\n",
              "    }\n",
              "\n",
              "    [theme=dark] .colab-df-convert {\n",
              "      background-color: #3B4455;\n",
              "      fill: #D2E3FC;\n",
              "    }\n",
              "\n",
              "    [theme=dark] .colab-df-convert:hover {\n",
              "      background-color: #434B5C;\n",
              "      box-shadow: 0px 1px 3px 1px rgba(0, 0, 0, 0.15);\n",
              "      filter: drop-shadow(0px 1px 2px rgba(0, 0, 0, 0.3));\n",
              "      fill: #FFFFFF;\n",
              "    }\n",
              "  </style>\n",
              "\n",
              "      <script>\n",
              "        const buttonEl =\n",
              "          document.querySelector('#df-1f01e694-c5b8-4a87-b8c7-ad5dea952fca button.colab-df-convert');\n",
              "        buttonEl.style.display =\n",
              "          google.colab.kernel.accessAllowed ? 'block' : 'none';\n",
              "\n",
              "        async function convertToInteractive(key) {\n",
              "          const element = document.querySelector('#df-1f01e694-c5b8-4a87-b8c7-ad5dea952fca');\n",
              "          const dataTable =\n",
              "            await google.colab.kernel.invokeFunction('convertToInteractive',\n",
              "                                                     [key], {});\n",
              "          if (!dataTable) return;\n",
              "\n",
              "          const docLinkHtml = 'Like what you see? Visit the ' +\n",
              "            '<a target=\"_blank\" href=https://colab.research.google.com/notebooks/data_table.ipynb>data table notebook</a>'\n",
              "            + ' to learn more about interactive tables.';\n",
              "          element.innerHTML = '';\n",
              "          dataTable['output_type'] = 'display_data';\n",
              "          await google.colab.output.renderOutput(dataTable, element);\n",
              "          const docLink = document.createElement('div');\n",
              "          docLink.innerHTML = docLinkHtml;\n",
              "          element.appendChild(docLink);\n",
              "        }\n",
              "      </script>\n",
              "    </div>\n",
              "  </div>\n",
              "  "
            ]
          },
          "metadata": {},
          "execution_count": 70
        }
      ]
    },
    {
      "cell_type": "markdown",
      "source": [
        "# PCA\n",
        "PCA se aplica a una matriz previamente estandarizada."
      ],
      "metadata": {
        "id": "bFmsSVTYmvdQ"
      }
    },
    {
      "cell_type": "code",
      "source": [
        "from sklearn.decomposition import PCA\n",
        "pca = PCA(n_components=4)\n",
        "principalComponents = pca.fit_transform(A_std)\n",
        "principalDf = pd.DataFrame(data = principalComponents\n",
        "             ,columns = ['componente_principal_1', 'componente_principal_2', 'componente_principal_3', 'componente_principal_4'])"
      ],
      "metadata": {
        "id": "4W34K01umy6S"
      },
      "execution_count": 71,
      "outputs": []
    },
    {
      "cell_type": "code",
      "source": [
        "principalDf"
      ],
      "metadata": {
        "colab": {
          "base_uri": "https://localhost:8080/",
          "height": 1000
        },
        "id": "NSFvTRdAm1E1",
        "outputId": "e2418b31-5e6d-4bac-fcc8-cb39c30216ea"
      },
      "execution_count": 72,
      "outputs": [
        {
          "output_type": "execute_result",
          "data": {
            "text/plain": [
              "    componente_principal_1  componente_principal_2  componente_principal_3  \\\n",
              "0                 0.985566                1.133392               -0.444269   \n",
              "1                 1.950138                1.073213                2.040003   \n",
              "2                 1.763164               -0.745957                0.054781   \n",
              "3                -0.141420                1.119797                0.114574   \n",
              "4                 2.523980               -1.542934                0.598557   \n",
              "5                 1.514563               -0.987555                1.095007   \n",
              "6                -1.358647               -1.088928               -0.643258   \n",
              "7                 0.047709               -0.325359               -0.718633   \n",
              "8                 3.013042                0.039229               -0.576829   \n",
              "9                 1.639283                1.278942               -0.342460   \n",
              "10               -0.912657               -1.570460                0.050782   \n",
              "11               -1.639800                0.210973                0.259801   \n",
              "12                1.378911               -0.681841               -0.677496   \n",
              "13               -0.505461               -0.151563                0.228055   \n",
              "14               -2.253646               -0.104054                0.164564   \n",
              "15               -0.796881               -0.270165                0.025553   \n",
              "16               -0.750859                0.958440               -0.028369   \n",
              "17                1.564818                0.871055               -0.783480   \n",
              "18               -2.396829                0.376392               -0.065682   \n",
              "19                1.763369                0.427655               -0.157250   \n",
              "20               -0.486166               -1.474496               -0.609497   \n",
              "21                2.108441               -0.155397                0.384869   \n",
              "22               -1.692682               -0.632261                0.153070   \n",
              "23                0.996494                2.393796               -0.740808   \n",
              "24                0.696787               -0.263355                0.377444   \n",
              "25               -1.185452                0.536874                0.246889   \n",
              "26               -1.265637               -0.193954                0.175574   \n",
              "27                2.874395               -0.775600                1.163380   \n",
              "28               -2.383915               -0.018082                0.036855   \n",
              "29                0.181566               -1.449506               -0.764454   \n",
              "30                1.980024                0.142849                0.183692   \n",
              "31                1.682577               -0.823184               -0.643075   \n",
              "32                1.123379                2.228003               -0.863572   \n",
              "33               -2.992226                0.599119                0.301277   \n",
              "34               -0.225965               -0.742238               -0.031139   \n",
              "35               -0.311783               -0.287854               -0.015310   \n",
              "36                0.059122               -0.541411                0.939833   \n",
              "37               -0.888416               -0.571100               -0.400629   \n",
              "38               -0.863772               -1.491978               -1.369946   \n",
              "39                1.320724                1.933405               -0.300538   \n",
              "40               -1.987775                0.823343                0.389293   \n",
              "41                0.999742                0.860251                0.188083   \n",
              "42                1.355138               -0.412481               -0.492069   \n",
              "43               -0.550565               -1.471505                0.293728   \n",
              "44               -2.801412                1.402288                0.841263   \n",
              "45               -0.096335                0.199735                0.011713   \n",
              "46               -0.216903               -0.970124                0.624871   \n",
              "47               -2.108585                1.424847                0.104775   \n",
              "48               -2.079714               -0.611269               -0.138865   \n",
              "49               -0.629427                0.321013               -0.240659   \n",
              "\n",
              "    componente_principal_4  \n",
              "0                 0.156267  \n",
              "1                -0.438583  \n",
              "2                -0.834653  \n",
              "3                -0.182811  \n",
              "4                -0.341996  \n",
              "5                 0.001465  \n",
              "6                -0.118469  \n",
              "7                -0.881978  \n",
              "8                -0.096285  \n",
              "9                 1.076797  \n",
              "10                0.902807  \n",
              "11               -0.499104  \n",
              "12               -0.122021  \n",
              "13                0.424666  \n",
              "14                0.017556  \n",
              "15                0.206496  \n",
              "16                0.670557  \n",
              "17                0.454728  \n",
              "18               -0.330460  \n",
              "19               -0.559070  \n",
              "20               -0.179599  \n",
              "21                0.102372  \n",
              "22                0.067317  \n",
              "23                0.215508  \n",
              "24                0.225824  \n",
              "25                0.123742  \n",
              "26                0.015893  \n",
              "27                0.314515  \n",
              "28               -0.033137  \n",
              "29                0.243383  \n",
              "30               -0.339534  \n",
              "31               -0.013484  \n",
              "32               -0.954382  \n",
              "33               -0.253987  \n",
              "34                0.473916  \n",
              "35                0.010332  \n",
              "36               -0.237781  \n",
              "37                0.359061  \n",
              "38               -0.613569  \n",
              "39               -0.131467  \n",
              "40               -0.109572  \n",
              "41                0.652864  \n",
              "42                0.643195  \n",
              "43               -0.082314  \n",
              "44               -0.144890  \n",
              "45                0.211371  \n",
              "46               -0.220848  \n",
              "47                0.131909  \n",
              "48                0.184104  \n",
              "49               -0.166652  "
            ],
            "text/html": [
              "\n",
              "  <div id=\"df-9ba30e06-6078-4419-a039-c5f56c6b9056\">\n",
              "    <div class=\"colab-df-container\">\n",
              "      <div>\n",
              "<style scoped>\n",
              "    .dataframe tbody tr th:only-of-type {\n",
              "        vertical-align: middle;\n",
              "    }\n",
              "\n",
              "    .dataframe tbody tr th {\n",
              "        vertical-align: top;\n",
              "    }\n",
              "\n",
              "    .dataframe thead th {\n",
              "        text-align: right;\n",
              "    }\n",
              "</style>\n",
              "<table border=\"1\" class=\"dataframe\">\n",
              "  <thead>\n",
              "    <tr style=\"text-align: right;\">\n",
              "      <th></th>\n",
              "      <th>componente_principal_1</th>\n",
              "      <th>componente_principal_2</th>\n",
              "      <th>componente_principal_3</th>\n",
              "      <th>componente_principal_4</th>\n",
              "    </tr>\n",
              "  </thead>\n",
              "  <tbody>\n",
              "    <tr>\n",
              "      <th>0</th>\n",
              "      <td>0.985566</td>\n",
              "      <td>1.133392</td>\n",
              "      <td>-0.444269</td>\n",
              "      <td>0.156267</td>\n",
              "    </tr>\n",
              "    <tr>\n",
              "      <th>1</th>\n",
              "      <td>1.950138</td>\n",
              "      <td>1.073213</td>\n",
              "      <td>2.040003</td>\n",
              "      <td>-0.438583</td>\n",
              "    </tr>\n",
              "    <tr>\n",
              "      <th>2</th>\n",
              "      <td>1.763164</td>\n",
              "      <td>-0.745957</td>\n",
              "      <td>0.054781</td>\n",
              "      <td>-0.834653</td>\n",
              "    </tr>\n",
              "    <tr>\n",
              "      <th>3</th>\n",
              "      <td>-0.141420</td>\n",
              "      <td>1.119797</td>\n",
              "      <td>0.114574</td>\n",
              "      <td>-0.182811</td>\n",
              "    </tr>\n",
              "    <tr>\n",
              "      <th>4</th>\n",
              "      <td>2.523980</td>\n",
              "      <td>-1.542934</td>\n",
              "      <td>0.598557</td>\n",
              "      <td>-0.341996</td>\n",
              "    </tr>\n",
              "    <tr>\n",
              "      <th>5</th>\n",
              "      <td>1.514563</td>\n",
              "      <td>-0.987555</td>\n",
              "      <td>1.095007</td>\n",
              "      <td>0.001465</td>\n",
              "    </tr>\n",
              "    <tr>\n",
              "      <th>6</th>\n",
              "      <td>-1.358647</td>\n",
              "      <td>-1.088928</td>\n",
              "      <td>-0.643258</td>\n",
              "      <td>-0.118469</td>\n",
              "    </tr>\n",
              "    <tr>\n",
              "      <th>7</th>\n",
              "      <td>0.047709</td>\n",
              "      <td>-0.325359</td>\n",
              "      <td>-0.718633</td>\n",
              "      <td>-0.881978</td>\n",
              "    </tr>\n",
              "    <tr>\n",
              "      <th>8</th>\n",
              "      <td>3.013042</td>\n",
              "      <td>0.039229</td>\n",
              "      <td>-0.576829</td>\n",
              "      <td>-0.096285</td>\n",
              "    </tr>\n",
              "    <tr>\n",
              "      <th>9</th>\n",
              "      <td>1.639283</td>\n",
              "      <td>1.278942</td>\n",
              "      <td>-0.342460</td>\n",
              "      <td>1.076797</td>\n",
              "    </tr>\n",
              "    <tr>\n",
              "      <th>10</th>\n",
              "      <td>-0.912657</td>\n",
              "      <td>-1.570460</td>\n",
              "      <td>0.050782</td>\n",
              "      <td>0.902807</td>\n",
              "    </tr>\n",
              "    <tr>\n",
              "      <th>11</th>\n",
              "      <td>-1.639800</td>\n",
              "      <td>0.210973</td>\n",
              "      <td>0.259801</td>\n",
              "      <td>-0.499104</td>\n",
              "    </tr>\n",
              "    <tr>\n",
              "      <th>12</th>\n",
              "      <td>1.378911</td>\n",
              "      <td>-0.681841</td>\n",
              "      <td>-0.677496</td>\n",
              "      <td>-0.122021</td>\n",
              "    </tr>\n",
              "    <tr>\n",
              "      <th>13</th>\n",
              "      <td>-0.505461</td>\n",
              "      <td>-0.151563</td>\n",
              "      <td>0.228055</td>\n",
              "      <td>0.424666</td>\n",
              "    </tr>\n",
              "    <tr>\n",
              "      <th>14</th>\n",
              "      <td>-2.253646</td>\n",
              "      <td>-0.104054</td>\n",
              "      <td>0.164564</td>\n",
              "      <td>0.017556</td>\n",
              "    </tr>\n",
              "    <tr>\n",
              "      <th>15</th>\n",
              "      <td>-0.796881</td>\n",
              "      <td>-0.270165</td>\n",
              "      <td>0.025553</td>\n",
              "      <td>0.206496</td>\n",
              "    </tr>\n",
              "    <tr>\n",
              "      <th>16</th>\n",
              "      <td>-0.750859</td>\n",
              "      <td>0.958440</td>\n",
              "      <td>-0.028369</td>\n",
              "      <td>0.670557</td>\n",
              "    </tr>\n",
              "    <tr>\n",
              "      <th>17</th>\n",
              "      <td>1.564818</td>\n",
              "      <td>0.871055</td>\n",
              "      <td>-0.783480</td>\n",
              "      <td>0.454728</td>\n",
              "    </tr>\n",
              "    <tr>\n",
              "      <th>18</th>\n",
              "      <td>-2.396829</td>\n",
              "      <td>0.376392</td>\n",
              "      <td>-0.065682</td>\n",
              "      <td>-0.330460</td>\n",
              "    </tr>\n",
              "    <tr>\n",
              "      <th>19</th>\n",
              "      <td>1.763369</td>\n",
              "      <td>0.427655</td>\n",
              "      <td>-0.157250</td>\n",
              "      <td>-0.559070</td>\n",
              "    </tr>\n",
              "    <tr>\n",
              "      <th>20</th>\n",
              "      <td>-0.486166</td>\n",
              "      <td>-1.474496</td>\n",
              "      <td>-0.609497</td>\n",
              "      <td>-0.179599</td>\n",
              "    </tr>\n",
              "    <tr>\n",
              "      <th>21</th>\n",
              "      <td>2.108441</td>\n",
              "      <td>-0.155397</td>\n",
              "      <td>0.384869</td>\n",
              "      <td>0.102372</td>\n",
              "    </tr>\n",
              "    <tr>\n",
              "      <th>22</th>\n",
              "      <td>-1.692682</td>\n",
              "      <td>-0.632261</td>\n",
              "      <td>0.153070</td>\n",
              "      <td>0.067317</td>\n",
              "    </tr>\n",
              "    <tr>\n",
              "      <th>23</th>\n",
              "      <td>0.996494</td>\n",
              "      <td>2.393796</td>\n",
              "      <td>-0.740808</td>\n",
              "      <td>0.215508</td>\n",
              "    </tr>\n",
              "    <tr>\n",
              "      <th>24</th>\n",
              "      <td>0.696787</td>\n",
              "      <td>-0.263355</td>\n",
              "      <td>0.377444</td>\n",
              "      <td>0.225824</td>\n",
              "    </tr>\n",
              "    <tr>\n",
              "      <th>25</th>\n",
              "      <td>-1.185452</td>\n",
              "      <td>0.536874</td>\n",
              "      <td>0.246889</td>\n",
              "      <td>0.123742</td>\n",
              "    </tr>\n",
              "    <tr>\n",
              "      <th>26</th>\n",
              "      <td>-1.265637</td>\n",
              "      <td>-0.193954</td>\n",
              "      <td>0.175574</td>\n",
              "      <td>0.015893</td>\n",
              "    </tr>\n",
              "    <tr>\n",
              "      <th>27</th>\n",
              "      <td>2.874395</td>\n",
              "      <td>-0.775600</td>\n",
              "      <td>1.163380</td>\n",
              "      <td>0.314515</td>\n",
              "    </tr>\n",
              "    <tr>\n",
              "      <th>28</th>\n",
              "      <td>-2.383915</td>\n",
              "      <td>-0.018082</td>\n",
              "      <td>0.036855</td>\n",
              "      <td>-0.033137</td>\n",
              "    </tr>\n",
              "    <tr>\n",
              "      <th>29</th>\n",
              "      <td>0.181566</td>\n",
              "      <td>-1.449506</td>\n",
              "      <td>-0.764454</td>\n",
              "      <td>0.243383</td>\n",
              "    </tr>\n",
              "    <tr>\n",
              "      <th>30</th>\n",
              "      <td>1.980024</td>\n",
              "      <td>0.142849</td>\n",
              "      <td>0.183692</td>\n",
              "      <td>-0.339534</td>\n",
              "    </tr>\n",
              "    <tr>\n",
              "      <th>31</th>\n",
              "      <td>1.682577</td>\n",
              "      <td>-0.823184</td>\n",
              "      <td>-0.643075</td>\n",
              "      <td>-0.013484</td>\n",
              "    </tr>\n",
              "    <tr>\n",
              "      <th>32</th>\n",
              "      <td>1.123379</td>\n",
              "      <td>2.228003</td>\n",
              "      <td>-0.863572</td>\n",
              "      <td>-0.954382</td>\n",
              "    </tr>\n",
              "    <tr>\n",
              "      <th>33</th>\n",
              "      <td>-2.992226</td>\n",
              "      <td>0.599119</td>\n",
              "      <td>0.301277</td>\n",
              "      <td>-0.253987</td>\n",
              "    </tr>\n",
              "    <tr>\n",
              "      <th>34</th>\n",
              "      <td>-0.225965</td>\n",
              "      <td>-0.742238</td>\n",
              "      <td>-0.031139</td>\n",
              "      <td>0.473916</td>\n",
              "    </tr>\n",
              "    <tr>\n",
              "      <th>35</th>\n",
              "      <td>-0.311783</td>\n",
              "      <td>-0.287854</td>\n",
              "      <td>-0.015310</td>\n",
              "      <td>0.010332</td>\n",
              "    </tr>\n",
              "    <tr>\n",
              "      <th>36</th>\n",
              "      <td>0.059122</td>\n",
              "      <td>-0.541411</td>\n",
              "      <td>0.939833</td>\n",
              "      <td>-0.237781</td>\n",
              "    </tr>\n",
              "    <tr>\n",
              "      <th>37</th>\n",
              "      <td>-0.888416</td>\n",
              "      <td>-0.571100</td>\n",
              "      <td>-0.400629</td>\n",
              "      <td>0.359061</td>\n",
              "    </tr>\n",
              "    <tr>\n",
              "      <th>38</th>\n",
              "      <td>-0.863772</td>\n",
              "      <td>-1.491978</td>\n",
              "      <td>-1.369946</td>\n",
              "      <td>-0.613569</td>\n",
              "    </tr>\n",
              "    <tr>\n",
              "      <th>39</th>\n",
              "      <td>1.320724</td>\n",
              "      <td>1.933405</td>\n",
              "      <td>-0.300538</td>\n",
              "      <td>-0.131467</td>\n",
              "    </tr>\n",
              "    <tr>\n",
              "      <th>40</th>\n",
              "      <td>-1.987775</td>\n",
              "      <td>0.823343</td>\n",
              "      <td>0.389293</td>\n",
              "      <td>-0.109572</td>\n",
              "    </tr>\n",
              "    <tr>\n",
              "      <th>41</th>\n",
              "      <td>0.999742</td>\n",
              "      <td>0.860251</td>\n",
              "      <td>0.188083</td>\n",
              "      <td>0.652864</td>\n",
              "    </tr>\n",
              "    <tr>\n",
              "      <th>42</th>\n",
              "      <td>1.355138</td>\n",
              "      <td>-0.412481</td>\n",
              "      <td>-0.492069</td>\n",
              "      <td>0.643195</td>\n",
              "    </tr>\n",
              "    <tr>\n",
              "      <th>43</th>\n",
              "      <td>-0.550565</td>\n",
              "      <td>-1.471505</td>\n",
              "      <td>0.293728</td>\n",
              "      <td>-0.082314</td>\n",
              "    </tr>\n",
              "    <tr>\n",
              "      <th>44</th>\n",
              "      <td>-2.801412</td>\n",
              "      <td>1.402288</td>\n",
              "      <td>0.841263</td>\n",
              "      <td>-0.144890</td>\n",
              "    </tr>\n",
              "    <tr>\n",
              "      <th>45</th>\n",
              "      <td>-0.096335</td>\n",
              "      <td>0.199735</td>\n",
              "      <td>0.011713</td>\n",
              "      <td>0.211371</td>\n",
              "    </tr>\n",
              "    <tr>\n",
              "      <th>46</th>\n",
              "      <td>-0.216903</td>\n",
              "      <td>-0.970124</td>\n",
              "      <td>0.624871</td>\n",
              "      <td>-0.220848</td>\n",
              "    </tr>\n",
              "    <tr>\n",
              "      <th>47</th>\n",
              "      <td>-2.108585</td>\n",
              "      <td>1.424847</td>\n",
              "      <td>0.104775</td>\n",
              "      <td>0.131909</td>\n",
              "    </tr>\n",
              "    <tr>\n",
              "      <th>48</th>\n",
              "      <td>-2.079714</td>\n",
              "      <td>-0.611269</td>\n",
              "      <td>-0.138865</td>\n",
              "      <td>0.184104</td>\n",
              "    </tr>\n",
              "    <tr>\n",
              "      <th>49</th>\n",
              "      <td>-0.629427</td>\n",
              "      <td>0.321013</td>\n",
              "      <td>-0.240659</td>\n",
              "      <td>-0.166652</td>\n",
              "    </tr>\n",
              "  </tbody>\n",
              "</table>\n",
              "</div>\n",
              "      <button class=\"colab-df-convert\" onclick=\"convertToInteractive('df-9ba30e06-6078-4419-a039-c5f56c6b9056')\"\n",
              "              title=\"Convert this dataframe to an interactive table.\"\n",
              "              style=\"display:none;\">\n",
              "        \n",
              "  <svg xmlns=\"http://www.w3.org/2000/svg\" height=\"24px\"viewBox=\"0 0 24 24\"\n",
              "       width=\"24px\">\n",
              "    <path d=\"M0 0h24v24H0V0z\" fill=\"none\"/>\n",
              "    <path d=\"M18.56 5.44l.94 2.06.94-2.06 2.06-.94-2.06-.94-.94-2.06-.94 2.06-2.06.94zm-11 1L8.5 8.5l.94-2.06 2.06-.94-2.06-.94L8.5 2.5l-.94 2.06-2.06.94zm10 10l.94 2.06.94-2.06 2.06-.94-2.06-.94-.94-2.06-.94 2.06-2.06.94z\"/><path d=\"M17.41 7.96l-1.37-1.37c-.4-.4-.92-.59-1.43-.59-.52 0-1.04.2-1.43.59L10.3 9.45l-7.72 7.72c-.78.78-.78 2.05 0 2.83L4 21.41c.39.39.9.59 1.41.59.51 0 1.02-.2 1.41-.59l7.78-7.78 2.81-2.81c.8-.78.8-2.07 0-2.86zM5.41 20L4 18.59l7.72-7.72 1.47 1.35L5.41 20z\"/>\n",
              "  </svg>\n",
              "      </button>\n",
              "      \n",
              "  <style>\n",
              "    .colab-df-container {\n",
              "      display:flex;\n",
              "      flex-wrap:wrap;\n",
              "      gap: 12px;\n",
              "    }\n",
              "\n",
              "    .colab-df-convert {\n",
              "      background-color: #E8F0FE;\n",
              "      border: none;\n",
              "      border-radius: 50%;\n",
              "      cursor: pointer;\n",
              "      display: none;\n",
              "      fill: #1967D2;\n",
              "      height: 32px;\n",
              "      padding: 0 0 0 0;\n",
              "      width: 32px;\n",
              "    }\n",
              "\n",
              "    .colab-df-convert:hover {\n",
              "      background-color: #E2EBFA;\n",
              "      box-shadow: 0px 1px 2px rgba(60, 64, 67, 0.3), 0px 1px 3px 1px rgba(60, 64, 67, 0.15);\n",
              "      fill: #174EA6;\n",
              "    }\n",
              "\n",
              "    [theme=dark] .colab-df-convert {\n",
              "      background-color: #3B4455;\n",
              "      fill: #D2E3FC;\n",
              "    }\n",
              "\n",
              "    [theme=dark] .colab-df-convert:hover {\n",
              "      background-color: #434B5C;\n",
              "      box-shadow: 0px 1px 3px 1px rgba(0, 0, 0, 0.15);\n",
              "      filter: drop-shadow(0px 1px 2px rgba(0, 0, 0, 0.3));\n",
              "      fill: #FFFFFF;\n",
              "    }\n",
              "  </style>\n",
              "\n",
              "      <script>\n",
              "        const buttonEl =\n",
              "          document.querySelector('#df-9ba30e06-6078-4419-a039-c5f56c6b9056 button.colab-df-convert');\n",
              "        buttonEl.style.display =\n",
              "          google.colab.kernel.accessAllowed ? 'block' : 'none';\n",
              "\n",
              "        async function convertToInteractive(key) {\n",
              "          const element = document.querySelector('#df-9ba30e06-6078-4419-a039-c5f56c6b9056');\n",
              "          const dataTable =\n",
              "            await google.colab.kernel.invokeFunction('convertToInteractive',\n",
              "                                                     [key], {});\n",
              "          if (!dataTable) return;\n",
              "\n",
              "          const docLinkHtml = 'Like what you see? Visit the ' +\n",
              "            '<a target=\"_blank\" href=https://colab.research.google.com/notebooks/data_table.ipynb>data table notebook</a>'\n",
              "            + ' to learn more about interactive tables.';\n",
              "          element.innerHTML = '';\n",
              "          dataTable['output_type'] = 'display_data';\n",
              "          await google.colab.output.renderOutput(dataTable, element);\n",
              "          const docLink = document.createElement('div');\n",
              "          docLink.innerHTML = docLinkHtml;\n",
              "          element.appendChild(docLink);\n",
              "        }\n",
              "      </script>\n",
              "    </div>\n",
              "  </div>\n",
              "  "
            ]
          },
          "metadata": {},
          "execution_count": 72
        }
      ]
    },
    {
      "cell_type": "markdown",
      "source": [
        "¡coincide con lo que calculamos anteriormente!"
      ],
      "metadata": {
        "id": "d8wbwERrnF2X"
      }
    },
    {
      "cell_type": "code",
      "source": [
        "principalDf.describe().round(2)"
      ],
      "metadata": {
        "colab": {
          "base_uri": "https://localhost:8080/",
          "height": 300
        },
        "id": "ziGYx5Dkm06y",
        "outputId": "b32e4794-a1e0-4ed2-97dc-7538fcc89d7b"
      },
      "execution_count": 73,
      "outputs": [
        {
          "output_type": "execute_result",
          "data": {
            "text/plain": [
              "       componente_principal_1  componente_principal_2  componente_principal_3  \\\n",
              "count                   50.00                   50.00                   50.00   \n",
              "mean                    -0.00                   -0.00                   -0.00   \n",
              "std                      1.59                    1.00                    0.60   \n",
              "min                     -2.99                   -1.57                   -1.37   \n",
              "25%                     -1.12                   -0.73                   -0.43   \n",
              "50%                     -0.18                   -0.15                    0.03   \n",
              "75%                      1.37                    0.77                    0.26   \n",
              "max                      3.01                    2.39                    2.04   \n",
              "\n",
              "       componente_principal_4  \n",
              "count                   50.00  \n",
              "mean                    -0.00  \n",
              "std                      0.42  \n",
              "min                     -0.95  \n",
              "25%                     -0.21  \n",
              "50%                     -0.01  \n",
              "75%                      0.21  \n",
              "max                      1.08  "
            ],
            "text/html": [
              "\n",
              "  <div id=\"df-c307c4b2-777b-464d-9d3b-440fa4a3eeb1\">\n",
              "    <div class=\"colab-df-container\">\n",
              "      <div>\n",
              "<style scoped>\n",
              "    .dataframe tbody tr th:only-of-type {\n",
              "        vertical-align: middle;\n",
              "    }\n",
              "\n",
              "    .dataframe tbody tr th {\n",
              "        vertical-align: top;\n",
              "    }\n",
              "\n",
              "    .dataframe thead th {\n",
              "        text-align: right;\n",
              "    }\n",
              "</style>\n",
              "<table border=\"1\" class=\"dataframe\">\n",
              "  <thead>\n",
              "    <tr style=\"text-align: right;\">\n",
              "      <th></th>\n",
              "      <th>componente_principal_1</th>\n",
              "      <th>componente_principal_2</th>\n",
              "      <th>componente_principal_3</th>\n",
              "      <th>componente_principal_4</th>\n",
              "    </tr>\n",
              "  </thead>\n",
              "  <tbody>\n",
              "    <tr>\n",
              "      <th>count</th>\n",
              "      <td>50.00</td>\n",
              "      <td>50.00</td>\n",
              "      <td>50.00</td>\n",
              "      <td>50.00</td>\n",
              "    </tr>\n",
              "    <tr>\n",
              "      <th>mean</th>\n",
              "      <td>-0.00</td>\n",
              "      <td>-0.00</td>\n",
              "      <td>-0.00</td>\n",
              "      <td>-0.00</td>\n",
              "    </tr>\n",
              "    <tr>\n",
              "      <th>std</th>\n",
              "      <td>1.59</td>\n",
              "      <td>1.00</td>\n",
              "      <td>0.60</td>\n",
              "      <td>0.42</td>\n",
              "    </tr>\n",
              "    <tr>\n",
              "      <th>min</th>\n",
              "      <td>-2.99</td>\n",
              "      <td>-1.57</td>\n",
              "      <td>-1.37</td>\n",
              "      <td>-0.95</td>\n",
              "    </tr>\n",
              "    <tr>\n",
              "      <th>25%</th>\n",
              "      <td>-1.12</td>\n",
              "      <td>-0.73</td>\n",
              "      <td>-0.43</td>\n",
              "      <td>-0.21</td>\n",
              "    </tr>\n",
              "    <tr>\n",
              "      <th>50%</th>\n",
              "      <td>-0.18</td>\n",
              "      <td>-0.15</td>\n",
              "      <td>0.03</td>\n",
              "      <td>-0.01</td>\n",
              "    </tr>\n",
              "    <tr>\n",
              "      <th>75%</th>\n",
              "      <td>1.37</td>\n",
              "      <td>0.77</td>\n",
              "      <td>0.26</td>\n",
              "      <td>0.21</td>\n",
              "    </tr>\n",
              "    <tr>\n",
              "      <th>max</th>\n",
              "      <td>3.01</td>\n",
              "      <td>2.39</td>\n",
              "      <td>2.04</td>\n",
              "      <td>1.08</td>\n",
              "    </tr>\n",
              "  </tbody>\n",
              "</table>\n",
              "</div>\n",
              "      <button class=\"colab-df-convert\" onclick=\"convertToInteractive('df-c307c4b2-777b-464d-9d3b-440fa4a3eeb1')\"\n",
              "              title=\"Convert this dataframe to an interactive table.\"\n",
              "              style=\"display:none;\">\n",
              "        \n",
              "  <svg xmlns=\"http://www.w3.org/2000/svg\" height=\"24px\"viewBox=\"0 0 24 24\"\n",
              "       width=\"24px\">\n",
              "    <path d=\"M0 0h24v24H0V0z\" fill=\"none\"/>\n",
              "    <path d=\"M18.56 5.44l.94 2.06.94-2.06 2.06-.94-2.06-.94-.94-2.06-.94 2.06-2.06.94zm-11 1L8.5 8.5l.94-2.06 2.06-.94-2.06-.94L8.5 2.5l-.94 2.06-2.06.94zm10 10l.94 2.06.94-2.06 2.06-.94-2.06-.94-.94-2.06-.94 2.06-2.06.94z\"/><path d=\"M17.41 7.96l-1.37-1.37c-.4-.4-.92-.59-1.43-.59-.52 0-1.04.2-1.43.59L10.3 9.45l-7.72 7.72c-.78.78-.78 2.05 0 2.83L4 21.41c.39.39.9.59 1.41.59.51 0 1.02-.2 1.41-.59l7.78-7.78 2.81-2.81c.8-.78.8-2.07 0-2.86zM5.41 20L4 18.59l7.72-7.72 1.47 1.35L5.41 20z\"/>\n",
              "  </svg>\n",
              "      </button>\n",
              "      \n",
              "  <style>\n",
              "    .colab-df-container {\n",
              "      display:flex;\n",
              "      flex-wrap:wrap;\n",
              "      gap: 12px;\n",
              "    }\n",
              "\n",
              "    .colab-df-convert {\n",
              "      background-color: #E8F0FE;\n",
              "      border: none;\n",
              "      border-radius: 50%;\n",
              "      cursor: pointer;\n",
              "      display: none;\n",
              "      fill: #1967D2;\n",
              "      height: 32px;\n",
              "      padding: 0 0 0 0;\n",
              "      width: 32px;\n",
              "    }\n",
              "\n",
              "    .colab-df-convert:hover {\n",
              "      background-color: #E2EBFA;\n",
              "      box-shadow: 0px 1px 2px rgba(60, 64, 67, 0.3), 0px 1px 3px 1px rgba(60, 64, 67, 0.15);\n",
              "      fill: #174EA6;\n",
              "    }\n",
              "\n",
              "    [theme=dark] .colab-df-convert {\n",
              "      background-color: #3B4455;\n",
              "      fill: #D2E3FC;\n",
              "    }\n",
              "\n",
              "    [theme=dark] .colab-df-convert:hover {\n",
              "      background-color: #434B5C;\n",
              "      box-shadow: 0px 1px 3px 1px rgba(0, 0, 0, 0.15);\n",
              "      filter: drop-shadow(0px 1px 2px rgba(0, 0, 0, 0.3));\n",
              "      fill: #FFFFFF;\n",
              "    }\n",
              "  </style>\n",
              "\n",
              "      <script>\n",
              "        const buttonEl =\n",
              "          document.querySelector('#df-c307c4b2-777b-464d-9d3b-440fa4a3eeb1 button.colab-df-convert');\n",
              "        buttonEl.style.display =\n",
              "          google.colab.kernel.accessAllowed ? 'block' : 'none';\n",
              "\n",
              "        async function convertToInteractive(key) {\n",
              "          const element = document.querySelector('#df-c307c4b2-777b-464d-9d3b-440fa4a3eeb1');\n",
              "          const dataTable =\n",
              "            await google.colab.kernel.invokeFunction('convertToInteractive',\n",
              "                                                     [key], {});\n",
              "          if (!dataTable) return;\n",
              "\n",
              "          const docLinkHtml = 'Like what you see? Visit the ' +\n",
              "            '<a target=\"_blank\" href=https://colab.research.google.com/notebooks/data_table.ipynb>data table notebook</a>'\n",
              "            + ' to learn more about interactive tables.';\n",
              "          element.innerHTML = '';\n",
              "          dataTable['output_type'] = 'display_data';\n",
              "          await google.colab.output.renderOutput(dataTable, element);\n",
              "          const docLink = document.createElement('div');\n",
              "          docLink.innerHTML = docLinkHtml;\n",
              "          element.appendChild(docLink);\n",
              "        }\n",
              "      </script>\n",
              "    </div>\n",
              "  </div>\n",
              "  "
            ]
          },
          "metadata": {},
          "execution_count": 73
        }
      ]
    },
    {
      "cell_type": "markdown",
      "source": [
        "Comprobamos que\n",
        "<center>\n",
        "$std(\\sigma_{i}u_{i}) = \\frac{\\sigma_{i}}{\\sqrt{n - 1}}$\n",
        "</center>"
      ],
      "metadata": {
        "id": "4PxlTZ9QnK5R"
      }
    },
    {
      "cell_type": "code",
      "source": [
        "print('std de la componente 1', S[0]/np.sqrt(A.shape[0]-1))  \n",
        "print('std de la componente 2', S[1]/np.sqrt(A.shape[0]-1))\n",
        "print('std de la componente 3', S[2]/np.sqrt(A.shape[0]-1))\n",
        "print('std de la componente 4', S[3]/np.sqrt(A.shape[0]-1))"
      ],
      "metadata": {
        "colab": {
          "base_uri": "https://localhost:8080/"
        },
        "id": "z3dd-tMMm04N",
        "outputId": "ad3a9ee0-cbf7-45d3-c613-a4e8132a2aa8"
      },
      "execution_count": 74,
      "outputs": [
        {
          "output_type": "stream",
          "name": "stdout",
          "text": [
            "std de la componente 1 1.590867296236294\n",
            "std de la componente 2 1.0049698708753338\n",
            "std de la componente 3 0.6031914954510882\n",
            "std de la componente 4 0.4206774028579882\n"
          ]
        }
      ]
    },
    {
      "cell_type": "markdown",
      "source": [
        "# Gráfica de la primera componente"
      ],
      "metadata": {
        "id": "MLqrAJ3hn6iI"
      }
    },
    {
      "cell_type": "code",
      "source": [
        "principalDf['cero_column'] = 0\n",
        "fig = px.scatter(principalDf,\n",
        "                 x='componente_principal_1', \n",
        "                 y='cero_column', \n",
        "                 color_discrete_sequence=['blueviolet'], \n",
        "                 opacity=0.4\n",
        "                )\n",
        "fig.update_xaxes(ticks='outside', \n",
        "                 tickwidth=1, \n",
        "                 tickcolor='gray', \n",
        "                 ticklen=5)\n",
        "fig.update_xaxes(showgrid=False)\n",
        "fig.update_yaxes(\n",
        "    scaleanchor = 'x',\n",
        "    constrain='domain'\n",
        ")\n",
        "fig.update_layout(yaxis={'visible': False, 'showticklabels': False})\n",
        "fig.update_traces(mode = 'markers', \n",
        "                  hovertemplate = None\n",
        ")\n",
        "fig.update_layout(hovermode='x unified')\n",
        "fig.update_traces(\n",
        "    hovertemplate =' ',\n",
        "    showlegend = False,\n",
        ")\n",
        "fig.update_layout(\n",
        "    hoverlabel = dict(\n",
        "        bgcolor = 'LightSteelBlue',\n",
        "        font_size = 40,\n",
        "    )\n",
        ")\n",
        "fig.show()\n",
        "#fig.write_image('componente_1.pdf', width=900, height=600)"
      ],
      "metadata": {
        "colab": {
          "base_uri": "https://localhost:8080/",
          "height": 542
        },
        "id": "Wnnmb0nzm01o",
        "outputId": "61cb1be8-c182-477e-c597-4c313e9f74b3"
      },
      "execution_count": 75,
      "outputs": [
        {
          "output_type": "display_data",
          "data": {
            "text/html": [
              "<html>\n",
              "<head><meta charset=\"utf-8\" /></head>\n",
              "<body>\n",
              "    <div>            <script src=\"https://cdnjs.cloudflare.com/ajax/libs/mathjax/2.7.5/MathJax.js?config=TeX-AMS-MML_SVG\"></script><script type=\"text/javascript\">if (window.MathJax) {MathJax.Hub.Config({SVG: {font: \"STIX-Web\"}});}</script>                <script type=\"text/javascript\">window.PlotlyConfig = {MathJaxConfig: 'local'};</script>\n",
              "        <script src=\"https://cdn.plot.ly/plotly-2.8.3.min.js\"></script>                <div id=\"4725663f-3e9d-4c8b-8e04-1b99576cf82e\" class=\"plotly-graph-div\" style=\"height:525px; width:100%;\"></div>            <script type=\"text/javascript\">                                    window.PLOTLYENV=window.PLOTLYENV || {};                                    if (document.getElementById(\"4725663f-3e9d-4c8b-8e04-1b99576cf82e\")) {                    Plotly.newPlot(                        \"4725663f-3e9d-4c8b-8e04-1b99576cf82e\",                        [{\"legendgroup\":\"\",\"marker\":{\"color\":\"blueviolet\",\"opacity\":0.4,\"symbol\":\"circle\"},\"mode\":\"markers\",\"name\":\"\",\"orientation\":\"v\",\"showlegend\":false,\"x\":[0.9855658845031458,1.9501377503350243,1.763163539722986,-0.14142028986835647,2.523980126519254,1.5145628611015878,-1.358647459854356,0.04770930906002467,3.013042270287224,1.639283042835911,-0.9126571458975113,-1.6397998521634956,1.3789107244241472,-0.5054613610809419,-2.253646069668718,-0.7968811212176017,-0.7508590743892968,1.5648179764124737,-2.396829488074471,1.763369388531406,-0.486166287394259,2.1084411500456866,-1.692681814402122,0.9964944592152475,0.6967873294659889,-1.1854519058635307,-1.265636541124359,2.8743945385144185,-2.383915409039601,0.18156610964770467,1.9800237544635009,1.6825773763086476,1.1233786063718525,-2.992225615017866,-0.22596542240792492,-0.311782855015387,0.05912207678866002,-0.8884158240708356,-0.8637720636083002,1.3207238038158138,-1.9877748372893456,0.9997416844624791,1.3551382068053073,-0.550565262212818,-2.801411740000274,-0.09633491123605084,-0.2169033786160418,-2.1085854076824977,-2.079714168917327,-0.6294266635252056],\"xaxis\":\"x\",\"y\":[0,0,0,0,0,0,0,0,0,0,0,0,0,0,0,0,0,0,0,0,0,0,0,0,0,0,0,0,0,0,0,0,0,0,0,0,0,0,0,0,0,0,0,0,0,0,0,0,0,0],\"yaxis\":\"y\",\"type\":\"scatter\",\"hovertemplate\":\" \"}],                        {\"template\":{\"data\":{\"bar\":[{\"error_x\":{\"color\":\"#2a3f5f\"},\"error_y\":{\"color\":\"#2a3f5f\"},\"marker\":{\"line\":{\"color\":\"#E5ECF6\",\"width\":0.5},\"pattern\":{\"fillmode\":\"overlay\",\"size\":10,\"solidity\":0.2}},\"type\":\"bar\"}],\"barpolar\":[{\"marker\":{\"line\":{\"color\":\"#E5ECF6\",\"width\":0.5},\"pattern\":{\"fillmode\":\"overlay\",\"size\":10,\"solidity\":0.2}},\"type\":\"barpolar\"}],\"carpet\":[{\"aaxis\":{\"endlinecolor\":\"#2a3f5f\",\"gridcolor\":\"white\",\"linecolor\":\"white\",\"minorgridcolor\":\"white\",\"startlinecolor\":\"#2a3f5f\"},\"baxis\":{\"endlinecolor\":\"#2a3f5f\",\"gridcolor\":\"white\",\"linecolor\":\"white\",\"minorgridcolor\":\"white\",\"startlinecolor\":\"#2a3f5f\"},\"type\":\"carpet\"}],\"choropleth\":[{\"colorbar\":{\"outlinewidth\":0,\"ticks\":\"\"},\"type\":\"choropleth\"}],\"contour\":[{\"colorbar\":{\"outlinewidth\":0,\"ticks\":\"\"},\"colorscale\":[[0.0,\"#0d0887\"],[0.1111111111111111,\"#46039f\"],[0.2222222222222222,\"#7201a8\"],[0.3333333333333333,\"#9c179e\"],[0.4444444444444444,\"#bd3786\"],[0.5555555555555556,\"#d8576b\"],[0.6666666666666666,\"#ed7953\"],[0.7777777777777778,\"#fb9f3a\"],[0.8888888888888888,\"#fdca26\"],[1.0,\"#f0f921\"]],\"type\":\"contour\"}],\"contourcarpet\":[{\"colorbar\":{\"outlinewidth\":0,\"ticks\":\"\"},\"type\":\"contourcarpet\"}],\"heatmap\":[{\"colorbar\":{\"outlinewidth\":0,\"ticks\":\"\"},\"colorscale\":[[0.0,\"#0d0887\"],[0.1111111111111111,\"#46039f\"],[0.2222222222222222,\"#7201a8\"],[0.3333333333333333,\"#9c179e\"],[0.4444444444444444,\"#bd3786\"],[0.5555555555555556,\"#d8576b\"],[0.6666666666666666,\"#ed7953\"],[0.7777777777777778,\"#fb9f3a\"],[0.8888888888888888,\"#fdca26\"],[1.0,\"#f0f921\"]],\"type\":\"heatmap\"}],\"heatmapgl\":[{\"colorbar\":{\"outlinewidth\":0,\"ticks\":\"\"},\"colorscale\":[[0.0,\"#0d0887\"],[0.1111111111111111,\"#46039f\"],[0.2222222222222222,\"#7201a8\"],[0.3333333333333333,\"#9c179e\"],[0.4444444444444444,\"#bd3786\"],[0.5555555555555556,\"#d8576b\"],[0.6666666666666666,\"#ed7953\"],[0.7777777777777778,\"#fb9f3a\"],[0.8888888888888888,\"#fdca26\"],[1.0,\"#f0f921\"]],\"type\":\"heatmapgl\"}],\"histogram\":[{\"marker\":{\"pattern\":{\"fillmode\":\"overlay\",\"size\":10,\"solidity\":0.2}},\"type\":\"histogram\"}],\"histogram2d\":[{\"colorbar\":{\"outlinewidth\":0,\"ticks\":\"\"},\"colorscale\":[[0.0,\"#0d0887\"],[0.1111111111111111,\"#46039f\"],[0.2222222222222222,\"#7201a8\"],[0.3333333333333333,\"#9c179e\"],[0.4444444444444444,\"#bd3786\"],[0.5555555555555556,\"#d8576b\"],[0.6666666666666666,\"#ed7953\"],[0.7777777777777778,\"#fb9f3a\"],[0.8888888888888888,\"#fdca26\"],[1.0,\"#f0f921\"]],\"type\":\"histogram2d\"}],\"histogram2dcontour\":[{\"colorbar\":{\"outlinewidth\":0,\"ticks\":\"\"},\"colorscale\":[[0.0,\"#0d0887\"],[0.1111111111111111,\"#46039f\"],[0.2222222222222222,\"#7201a8\"],[0.3333333333333333,\"#9c179e\"],[0.4444444444444444,\"#bd3786\"],[0.5555555555555556,\"#d8576b\"],[0.6666666666666666,\"#ed7953\"],[0.7777777777777778,\"#fb9f3a\"],[0.8888888888888888,\"#fdca26\"],[1.0,\"#f0f921\"]],\"type\":\"histogram2dcontour\"}],\"mesh3d\":[{\"colorbar\":{\"outlinewidth\":0,\"ticks\":\"\"},\"type\":\"mesh3d\"}],\"parcoords\":[{\"line\":{\"colorbar\":{\"outlinewidth\":0,\"ticks\":\"\"}},\"type\":\"parcoords\"}],\"pie\":[{\"automargin\":true,\"type\":\"pie\"}],\"scatter\":[{\"marker\":{\"colorbar\":{\"outlinewidth\":0,\"ticks\":\"\"}},\"type\":\"scatter\"}],\"scatter3d\":[{\"line\":{\"colorbar\":{\"outlinewidth\":0,\"ticks\":\"\"}},\"marker\":{\"colorbar\":{\"outlinewidth\":0,\"ticks\":\"\"}},\"type\":\"scatter3d\"}],\"scattercarpet\":[{\"marker\":{\"colorbar\":{\"outlinewidth\":0,\"ticks\":\"\"}},\"type\":\"scattercarpet\"}],\"scattergeo\":[{\"marker\":{\"colorbar\":{\"outlinewidth\":0,\"ticks\":\"\"}},\"type\":\"scattergeo\"}],\"scattergl\":[{\"marker\":{\"colorbar\":{\"outlinewidth\":0,\"ticks\":\"\"}},\"type\":\"scattergl\"}],\"scattermapbox\":[{\"marker\":{\"colorbar\":{\"outlinewidth\":0,\"ticks\":\"\"}},\"type\":\"scattermapbox\"}],\"scatterpolar\":[{\"marker\":{\"colorbar\":{\"outlinewidth\":0,\"ticks\":\"\"}},\"type\":\"scatterpolar\"}],\"scatterpolargl\":[{\"marker\":{\"colorbar\":{\"outlinewidth\":0,\"ticks\":\"\"}},\"type\":\"scatterpolargl\"}],\"scatterternary\":[{\"marker\":{\"colorbar\":{\"outlinewidth\":0,\"ticks\":\"\"}},\"type\":\"scatterternary\"}],\"surface\":[{\"colorbar\":{\"outlinewidth\":0,\"ticks\":\"\"},\"colorscale\":[[0.0,\"#0d0887\"],[0.1111111111111111,\"#46039f\"],[0.2222222222222222,\"#7201a8\"],[0.3333333333333333,\"#9c179e\"],[0.4444444444444444,\"#bd3786\"],[0.5555555555555556,\"#d8576b\"],[0.6666666666666666,\"#ed7953\"],[0.7777777777777778,\"#fb9f3a\"],[0.8888888888888888,\"#fdca26\"],[1.0,\"#f0f921\"]],\"type\":\"surface\"}],\"table\":[{\"cells\":{\"fill\":{\"color\":\"#EBF0F8\"},\"line\":{\"color\":\"white\"}},\"header\":{\"fill\":{\"color\":\"#C8D4E3\"},\"line\":{\"color\":\"white\"}},\"type\":\"table\"}]},\"layout\":{\"annotationdefaults\":{\"arrowcolor\":\"#2a3f5f\",\"arrowhead\":0,\"arrowwidth\":1},\"autotypenumbers\":\"strict\",\"coloraxis\":{\"colorbar\":{\"outlinewidth\":0,\"ticks\":\"\"}},\"colorscale\":{\"diverging\":[[0,\"#8e0152\"],[0.1,\"#c51b7d\"],[0.2,\"#de77ae\"],[0.3,\"#f1b6da\"],[0.4,\"#fde0ef\"],[0.5,\"#f7f7f7\"],[0.6,\"#e6f5d0\"],[0.7,\"#b8e186\"],[0.8,\"#7fbc41\"],[0.9,\"#4d9221\"],[1,\"#276419\"]],\"sequential\":[[0.0,\"#0d0887\"],[0.1111111111111111,\"#46039f\"],[0.2222222222222222,\"#7201a8\"],[0.3333333333333333,\"#9c179e\"],[0.4444444444444444,\"#bd3786\"],[0.5555555555555556,\"#d8576b\"],[0.6666666666666666,\"#ed7953\"],[0.7777777777777778,\"#fb9f3a\"],[0.8888888888888888,\"#fdca26\"],[1.0,\"#f0f921\"]],\"sequentialminus\":[[0.0,\"#0d0887\"],[0.1111111111111111,\"#46039f\"],[0.2222222222222222,\"#7201a8\"],[0.3333333333333333,\"#9c179e\"],[0.4444444444444444,\"#bd3786\"],[0.5555555555555556,\"#d8576b\"],[0.6666666666666666,\"#ed7953\"],[0.7777777777777778,\"#fb9f3a\"],[0.8888888888888888,\"#fdca26\"],[1.0,\"#f0f921\"]]},\"colorway\":[\"#636efa\",\"#EF553B\",\"#00cc96\",\"#ab63fa\",\"#FFA15A\",\"#19d3f3\",\"#FF6692\",\"#B6E880\",\"#FF97FF\",\"#FECB52\"],\"font\":{\"color\":\"#2a3f5f\"},\"geo\":{\"bgcolor\":\"white\",\"lakecolor\":\"white\",\"landcolor\":\"#E5ECF6\",\"showlakes\":true,\"showland\":true,\"subunitcolor\":\"white\"},\"hoverlabel\":{\"align\":\"left\"},\"hovermode\":\"closest\",\"mapbox\":{\"style\":\"light\"},\"paper_bgcolor\":\"white\",\"plot_bgcolor\":\"#E5ECF6\",\"polar\":{\"angularaxis\":{\"gridcolor\":\"white\",\"linecolor\":\"white\",\"ticks\":\"\"},\"bgcolor\":\"#E5ECF6\",\"radialaxis\":{\"gridcolor\":\"white\",\"linecolor\":\"white\",\"ticks\":\"\"}},\"scene\":{\"xaxis\":{\"backgroundcolor\":\"#E5ECF6\",\"gridcolor\":\"white\",\"gridwidth\":2,\"linecolor\":\"white\",\"showbackground\":true,\"ticks\":\"\",\"zerolinecolor\":\"white\"},\"yaxis\":{\"backgroundcolor\":\"#E5ECF6\",\"gridcolor\":\"white\",\"gridwidth\":2,\"linecolor\":\"white\",\"showbackground\":true,\"ticks\":\"\",\"zerolinecolor\":\"white\"},\"zaxis\":{\"backgroundcolor\":\"#E5ECF6\",\"gridcolor\":\"white\",\"gridwidth\":2,\"linecolor\":\"white\",\"showbackground\":true,\"ticks\":\"\",\"zerolinecolor\":\"white\"}},\"shapedefaults\":{\"line\":{\"color\":\"#2a3f5f\"}},\"ternary\":{\"aaxis\":{\"gridcolor\":\"white\",\"linecolor\":\"white\",\"ticks\":\"\"},\"baxis\":{\"gridcolor\":\"white\",\"linecolor\":\"white\",\"ticks\":\"\"},\"bgcolor\":\"#E5ECF6\",\"caxis\":{\"gridcolor\":\"white\",\"linecolor\":\"white\",\"ticks\":\"\"}},\"title\":{\"x\":0.05},\"xaxis\":{\"automargin\":true,\"gridcolor\":\"white\",\"linecolor\":\"white\",\"ticks\":\"\",\"title\":{\"standoff\":15},\"zerolinecolor\":\"white\",\"zerolinewidth\":2},\"yaxis\":{\"automargin\":true,\"gridcolor\":\"white\",\"linecolor\":\"white\",\"ticks\":\"\",\"title\":{\"standoff\":15},\"zerolinecolor\":\"white\",\"zerolinewidth\":2}}},\"xaxis\":{\"anchor\":\"y\",\"domain\":[0.0,1.0],\"title\":{\"text\":\"componente_principal_1\"},\"ticks\":\"outside\",\"tickwidth\":1,\"tickcolor\":\"gray\",\"ticklen\":5,\"showgrid\":false},\"yaxis\":{\"anchor\":\"x\",\"domain\":[0.0,1.0],\"title\":{\"text\":\"cero_column\"},\"scaleanchor\":\"x\",\"constrain\":\"domain\",\"visible\":false,\"showticklabels\":false},\"legend\":{\"tracegroupgap\":0},\"margin\":{\"t\":60},\"hovermode\":\"x unified\",\"hoverlabel\":{\"font\":{\"size\":40},\"bgcolor\":\"LightSteelBlue\"}},                        {\"responsive\": true}                    ).then(function(){\n",
              "                            \n",
              "var gd = document.getElementById('4725663f-3e9d-4c8b-8e04-1b99576cf82e');\n",
              "var x = new MutationObserver(function (mutations, observer) {{\n",
              "        var display = window.getComputedStyle(gd).display;\n",
              "        if (!display || display === 'none') {{\n",
              "            console.log([gd, 'removed!']);\n",
              "            Plotly.purge(gd);\n",
              "            observer.disconnect();\n",
              "        }}\n",
              "}});\n",
              "\n",
              "// Listen for the removal of the full notebook cells\n",
              "var notebookContainer = gd.closest('#notebook-container');\n",
              "if (notebookContainer) {{\n",
              "    x.observe(notebookContainer, {childList: true});\n",
              "}}\n",
              "\n",
              "// Listen for the clearing of the current output cell\n",
              "var outputEl = gd.closest('.output');\n",
              "if (outputEl) {{\n",
              "    x.observe(outputEl, {childList: true});\n",
              "}}\n",
              "\n",
              "                        })                };                            </script>        </div>\n",
              "</body>\n",
              "</html>"
            ]
          },
          "metadata": {}
        }
      ]
    },
    {
      "cell_type": "markdown",
      "source": [
        "# Gráfica de\n",
        "<center>\n",
        "$A_{1} = \\sigma_{1}u_{1}v^T_{1}$\n",
        "</center>"
      ],
      "metadata": {
        "id": "BsaMqBFqoIGo"
      }
    },
    {
      "cell_type": "code",
      "source": [
        "A_1 = pd.DataFrame()\n",
        "A_1[['col_1']]= pd.DataFrame(Vt[0][0] * principalDf['componente_principal_1'])\n",
        "A_1[['col_2']]= pd.DataFrame(Vt[0][1] * principalDf['componente_principal_1'])"
      ],
      "metadata": {
        "id": "9XyN9Bgxm0lN"
      },
      "execution_count": 76,
      "outputs": []
    },
    {
      "cell_type": "code",
      "source": [
        "import plotly.graph_objects as go\n",
        "fig_1 = px.scatter(A_1, x=\"col_1\", y=\"col_2\",\n",
        "                  opacity=0.3,\n",
        "                   color_discrete_sequence=['blueviolet']\n",
        "                  )\n",
        "fig_2 = px.scatter(A_std, x=A_std.columns[0], y=A_std.columns[1], \n",
        "                    opacity=0.6,\n",
        "                   color_discrete_sequence=['orange']\n",
        "                   )\n",
        "fig = go.Figure(data=fig_1.data + fig_2.data)\n",
        "fig.show()\n",
        "#fig.write_image(\"A_1.pdf\", width=900, height=600)"
      ],
      "metadata": {
        "colab": {
          "base_uri": "https://localhost:8080/",
          "height": 542
        },
        "id": "WW_Wr5HjoiOs",
        "outputId": "7d8a458f-3e8f-460c-c832-f7368583162b"
      },
      "execution_count": 77,
      "outputs": [
        {
          "output_type": "display_data",
          "data": {
            "text/html": [
              "<html>\n",
              "<head><meta charset=\"utf-8\" /></head>\n",
              "<body>\n",
              "    <div>            <script src=\"https://cdnjs.cloudflare.com/ajax/libs/mathjax/2.7.5/MathJax.js?config=TeX-AMS-MML_SVG\"></script><script type=\"text/javascript\">if (window.MathJax) {MathJax.Hub.Config({SVG: {font: \"STIX-Web\"}});}</script>                <script type=\"text/javascript\">window.PlotlyConfig = {MathJaxConfig: 'local'};</script>\n",
              "        <script src=\"https://cdn.plot.ly/plotly-2.8.3.min.js\"></script>                <div id=\"14868d02-41d4-4424-a523-3fd9ef37590c\" class=\"plotly-graph-div\" style=\"height:525px; width:100%;\"></div>            <script type=\"text/javascript\">                                    window.PLOTLYENV=window.PLOTLYENV || {};                                    if (document.getElementById(\"14868d02-41d4-4424-a523-3fd9ef37590c\")) {                    Plotly.newPlot(                        \"14868d02-41d4-4424-a523-3fd9ef37590c\",                        [{\"hovertemplate\":\"col_1=%{x}<br>col_2=%{y}<extra></extra>\",\"legendgroup\":\"\",\"marker\":{\"color\":\"blueviolet\",\"opacity\":0.3,\"symbol\":\"circle\"},\"mode\":\"markers\",\"name\":\"\",\"orientation\":\"v\",\"showlegend\":false,\"x\":[-0.5281642400221942,-1.0450777964616145,-0.944878415167647,0.07578705908605392,-1.3525996245560064,-0.8116534420251708,0.7280984603620075,-0.025567393674929384,-1.61468777061339,-0.8784909219307858,0.48909248528503146,0.8787678797780816,-0.7389575332054915,0.2708764780048019,1.2077277454319029,0.427048174448641,0.40238498371777326,-0.8385851319332309,1.2844596641753958,-0.944988729435996,0.2605362581472156,-1.1299125052474832,0.9071072955754608,-0.5340208574722318,-0.3734079640043827,0.6352830539167013,0.6782539578510867,-1.5403865239549774,1.2775390160012992,-0.09730118282676842,-1.0610936903820645,-0.9016923325066227,-0.6020180053114321,1.6035321359845724,0.12109475122258538,0.1670842682974648,-0.03168348990829619,0.4761015736463091,0.4628949953539347,-0.7077751930032175,1.065247491598637,-0.5357610437772292,-0.7262178534955971,0.2950476349390368,1.50127508055173,0.05162582834961342,0.11623840671264865,1.129989812839306,1.114517731144237,0.33730941849523244],\"xaxis\":\"x\",\"y\":[-0.5747658949675091,-1.137288421814947,-1.0282481220358521,0.08247399869540738,-1.4719439046232687,-0.8832682746364143,0.7923409641986541,-0.027823288276654062,-1.7571569433225893,-0.9560030435668317,0.5322467117707962,0.9563044383090477,-0.8041581684856012,0.2947767938615731,1.3142895067092957,0.4647280288625747,0.4378887243072608,-0.9125762354562215,1.3977917331139547,-1.0283681696921882,0.2835242226531235,-1.2296083738767696,0.9871443332685258,-0.5811392608924945,-0.40635496755697753,0.6913361514720904,0.7380985185274064,-1.6762998551353434,1.3902604535608885,-0.10588638380075621,-1.1547174503355173,-0.9812515903324536,-0.6551360190436969,1.7450170106359435,0.13177933640375275,0.1818266586903882,-0.03447902764501941,0.5181095695929003,0.5037377317885157,-0.7702245086210329,1.1592377549923794,-0.5830329895155455,-0.7902944252496918,0.32108065087226706,1.6337374814119845,0.05618094370334059,0.12649450076549176,1.2296925025697685,1.2128552686023513,0.36707132954369553],\"yaxis\":\"y\",\"type\":\"scatter\"},{\"hovertemplate\":\"0=%{x}<br>1=%{y}<extra></extra>\",\"legendgroup\":\"\",\"marker\":{\"color\":\"orange\",\"opacity\":0.6,\"symbol\":\"circle\"},\"mode\":\"markers\",\"name\":\"\",\"orientation\":\"v\",\"showlegend\":false,\"x\":[1.255179271101703,0.5130185786542807,0.07236066751362354,0.23470831898649744,0.2810933622644612,0.025975624235659807,-1.04088037115751,-0.4378748085439792,1.765414747159306,2.2292651799389445,-0.577029938377871,-1.2032280226303838,0.6057886652102086,-0.1363720272372139,-1.2959981091863113,-0.4146822869049973,0.44344101373733463,1.765414747159306,-1.3191906308252934,0.8145213599610461,-0.7857626331287084,1.0000615330729015,-1.1800355009914016,1.92776239863218,0.2810933622644612,-0.4146822869049973,-0.8089551547676905,1.0232540547118834,-1.3191906308252934,-0.08998698395924994,0.837713881600028,0.768136316683082,1.2087942278237391,-1.6206934121320586,-0.11317950559823202,-0.2755271570711057,-0.6698000249337986,-0.34510472198805153,-1.017687849518528,1.5334895307694865,-0.9249177629626003,1.255179271101703,1.1392166629067932,-1.064072892796492,-1.2959981091863113,0.1651307540695514,-0.8785327196846363,-0.48425985182194314,-1.2032280226303838,-0.22914211379314176],\"xaxis\":\"x\",\"y\":[0.7907871584384722,1.118059587589894,1.4938168210600447,0.23321190877308726,1.2756352016257637,0.40290872388863924,-0.7364841776014954,0.8150295605978368,1.9907860653270184,0.4877571314464152,-1.5122410467011616,-0.6152721668046726,0.948362772474342,-0.7001205743624486,-1.3910290359043387,-0.675878172203084,-0.7486053786811777,0.948362772474342,-1.0637566067529172,1.5665440275381384,-0.26375733549388636,1.0210899789524357,-1.1970898186294223,1.0695747832711648,0.08775749581689984,-0.7486053786811777,-0.8334537862389537,0.9847263757133888,-1.3789078348246564,-0.14254532469706355,1.3847260113429043,1.0089687778727534,2.015028467486383,-1.5243622477808438,-0.6152721668046726,-0.2395149333345218,-0.14254532469706355,-0.7849689819202246,0.03927269149817071,1.3119988048648106,-1.0273930035138703,0.20896950661372268,0.3665451206495924,-0.6152721668046726,-1.487998644541797,-0.1789089279361104,-0.3122421398126155,-1.0879990089122817,-1.4273926391433855,-0.11830292253769897],\"yaxis\":\"y\",\"type\":\"scatter\"}],                        {\"template\":{\"data\":{\"bar\":[{\"error_x\":{\"color\":\"#2a3f5f\"},\"error_y\":{\"color\":\"#2a3f5f\"},\"marker\":{\"line\":{\"color\":\"#E5ECF6\",\"width\":0.5},\"pattern\":{\"fillmode\":\"overlay\",\"size\":10,\"solidity\":0.2}},\"type\":\"bar\"}],\"barpolar\":[{\"marker\":{\"line\":{\"color\":\"#E5ECF6\",\"width\":0.5},\"pattern\":{\"fillmode\":\"overlay\",\"size\":10,\"solidity\":0.2}},\"type\":\"barpolar\"}],\"carpet\":[{\"aaxis\":{\"endlinecolor\":\"#2a3f5f\",\"gridcolor\":\"white\",\"linecolor\":\"white\",\"minorgridcolor\":\"white\",\"startlinecolor\":\"#2a3f5f\"},\"baxis\":{\"endlinecolor\":\"#2a3f5f\",\"gridcolor\":\"white\",\"linecolor\":\"white\",\"minorgridcolor\":\"white\",\"startlinecolor\":\"#2a3f5f\"},\"type\":\"carpet\"}],\"choropleth\":[{\"colorbar\":{\"outlinewidth\":0,\"ticks\":\"\"},\"type\":\"choropleth\"}],\"contour\":[{\"colorbar\":{\"outlinewidth\":0,\"ticks\":\"\"},\"colorscale\":[[0.0,\"#0d0887\"],[0.1111111111111111,\"#46039f\"],[0.2222222222222222,\"#7201a8\"],[0.3333333333333333,\"#9c179e\"],[0.4444444444444444,\"#bd3786\"],[0.5555555555555556,\"#d8576b\"],[0.6666666666666666,\"#ed7953\"],[0.7777777777777778,\"#fb9f3a\"],[0.8888888888888888,\"#fdca26\"],[1.0,\"#f0f921\"]],\"type\":\"contour\"}],\"contourcarpet\":[{\"colorbar\":{\"outlinewidth\":0,\"ticks\":\"\"},\"type\":\"contourcarpet\"}],\"heatmap\":[{\"colorbar\":{\"outlinewidth\":0,\"ticks\":\"\"},\"colorscale\":[[0.0,\"#0d0887\"],[0.1111111111111111,\"#46039f\"],[0.2222222222222222,\"#7201a8\"],[0.3333333333333333,\"#9c179e\"],[0.4444444444444444,\"#bd3786\"],[0.5555555555555556,\"#d8576b\"],[0.6666666666666666,\"#ed7953\"],[0.7777777777777778,\"#fb9f3a\"],[0.8888888888888888,\"#fdca26\"],[1.0,\"#f0f921\"]],\"type\":\"heatmap\"}],\"heatmapgl\":[{\"colorbar\":{\"outlinewidth\":0,\"ticks\":\"\"},\"colorscale\":[[0.0,\"#0d0887\"],[0.1111111111111111,\"#46039f\"],[0.2222222222222222,\"#7201a8\"],[0.3333333333333333,\"#9c179e\"],[0.4444444444444444,\"#bd3786\"],[0.5555555555555556,\"#d8576b\"],[0.6666666666666666,\"#ed7953\"],[0.7777777777777778,\"#fb9f3a\"],[0.8888888888888888,\"#fdca26\"],[1.0,\"#f0f921\"]],\"type\":\"heatmapgl\"}],\"histogram\":[{\"marker\":{\"pattern\":{\"fillmode\":\"overlay\",\"size\":10,\"solidity\":0.2}},\"type\":\"histogram\"}],\"histogram2d\":[{\"colorbar\":{\"outlinewidth\":0,\"ticks\":\"\"},\"colorscale\":[[0.0,\"#0d0887\"],[0.1111111111111111,\"#46039f\"],[0.2222222222222222,\"#7201a8\"],[0.3333333333333333,\"#9c179e\"],[0.4444444444444444,\"#bd3786\"],[0.5555555555555556,\"#d8576b\"],[0.6666666666666666,\"#ed7953\"],[0.7777777777777778,\"#fb9f3a\"],[0.8888888888888888,\"#fdca26\"],[1.0,\"#f0f921\"]],\"type\":\"histogram2d\"}],\"histogram2dcontour\":[{\"colorbar\":{\"outlinewidth\":0,\"ticks\":\"\"},\"colorscale\":[[0.0,\"#0d0887\"],[0.1111111111111111,\"#46039f\"],[0.2222222222222222,\"#7201a8\"],[0.3333333333333333,\"#9c179e\"],[0.4444444444444444,\"#bd3786\"],[0.5555555555555556,\"#d8576b\"],[0.6666666666666666,\"#ed7953\"],[0.7777777777777778,\"#fb9f3a\"],[0.8888888888888888,\"#fdca26\"],[1.0,\"#f0f921\"]],\"type\":\"histogram2dcontour\"}],\"mesh3d\":[{\"colorbar\":{\"outlinewidth\":0,\"ticks\":\"\"},\"type\":\"mesh3d\"}],\"parcoords\":[{\"line\":{\"colorbar\":{\"outlinewidth\":0,\"ticks\":\"\"}},\"type\":\"parcoords\"}],\"pie\":[{\"automargin\":true,\"type\":\"pie\"}],\"scatter\":[{\"marker\":{\"colorbar\":{\"outlinewidth\":0,\"ticks\":\"\"}},\"type\":\"scatter\"}],\"scatter3d\":[{\"line\":{\"colorbar\":{\"outlinewidth\":0,\"ticks\":\"\"}},\"marker\":{\"colorbar\":{\"outlinewidth\":0,\"ticks\":\"\"}},\"type\":\"scatter3d\"}],\"scattercarpet\":[{\"marker\":{\"colorbar\":{\"outlinewidth\":0,\"ticks\":\"\"}},\"type\":\"scattercarpet\"}],\"scattergeo\":[{\"marker\":{\"colorbar\":{\"outlinewidth\":0,\"ticks\":\"\"}},\"type\":\"scattergeo\"}],\"scattergl\":[{\"marker\":{\"colorbar\":{\"outlinewidth\":0,\"ticks\":\"\"}},\"type\":\"scattergl\"}],\"scattermapbox\":[{\"marker\":{\"colorbar\":{\"outlinewidth\":0,\"ticks\":\"\"}},\"type\":\"scattermapbox\"}],\"scatterpolar\":[{\"marker\":{\"colorbar\":{\"outlinewidth\":0,\"ticks\":\"\"}},\"type\":\"scatterpolar\"}],\"scatterpolargl\":[{\"marker\":{\"colorbar\":{\"outlinewidth\":0,\"ticks\":\"\"}},\"type\":\"scatterpolargl\"}],\"scatterternary\":[{\"marker\":{\"colorbar\":{\"outlinewidth\":0,\"ticks\":\"\"}},\"type\":\"scatterternary\"}],\"surface\":[{\"colorbar\":{\"outlinewidth\":0,\"ticks\":\"\"},\"colorscale\":[[0.0,\"#0d0887\"],[0.1111111111111111,\"#46039f\"],[0.2222222222222222,\"#7201a8\"],[0.3333333333333333,\"#9c179e\"],[0.4444444444444444,\"#bd3786\"],[0.5555555555555556,\"#d8576b\"],[0.6666666666666666,\"#ed7953\"],[0.7777777777777778,\"#fb9f3a\"],[0.8888888888888888,\"#fdca26\"],[1.0,\"#f0f921\"]],\"type\":\"surface\"}],\"table\":[{\"cells\":{\"fill\":{\"color\":\"#EBF0F8\"},\"line\":{\"color\":\"white\"}},\"header\":{\"fill\":{\"color\":\"#C8D4E3\"},\"line\":{\"color\":\"white\"}},\"type\":\"table\"}]},\"layout\":{\"annotationdefaults\":{\"arrowcolor\":\"#2a3f5f\",\"arrowhead\":0,\"arrowwidth\":1},\"autotypenumbers\":\"strict\",\"coloraxis\":{\"colorbar\":{\"outlinewidth\":0,\"ticks\":\"\"}},\"colorscale\":{\"diverging\":[[0,\"#8e0152\"],[0.1,\"#c51b7d\"],[0.2,\"#de77ae\"],[0.3,\"#f1b6da\"],[0.4,\"#fde0ef\"],[0.5,\"#f7f7f7\"],[0.6,\"#e6f5d0\"],[0.7,\"#b8e186\"],[0.8,\"#7fbc41\"],[0.9,\"#4d9221\"],[1,\"#276419\"]],\"sequential\":[[0.0,\"#0d0887\"],[0.1111111111111111,\"#46039f\"],[0.2222222222222222,\"#7201a8\"],[0.3333333333333333,\"#9c179e\"],[0.4444444444444444,\"#bd3786\"],[0.5555555555555556,\"#d8576b\"],[0.6666666666666666,\"#ed7953\"],[0.7777777777777778,\"#fb9f3a\"],[0.8888888888888888,\"#fdca26\"],[1.0,\"#f0f921\"]],\"sequentialminus\":[[0.0,\"#0d0887\"],[0.1111111111111111,\"#46039f\"],[0.2222222222222222,\"#7201a8\"],[0.3333333333333333,\"#9c179e\"],[0.4444444444444444,\"#bd3786\"],[0.5555555555555556,\"#d8576b\"],[0.6666666666666666,\"#ed7953\"],[0.7777777777777778,\"#fb9f3a\"],[0.8888888888888888,\"#fdca26\"],[1.0,\"#f0f921\"]]},\"colorway\":[\"#636efa\",\"#EF553B\",\"#00cc96\",\"#ab63fa\",\"#FFA15A\",\"#19d3f3\",\"#FF6692\",\"#B6E880\",\"#FF97FF\",\"#FECB52\"],\"font\":{\"color\":\"#2a3f5f\"},\"geo\":{\"bgcolor\":\"white\",\"lakecolor\":\"white\",\"landcolor\":\"#E5ECF6\",\"showlakes\":true,\"showland\":true,\"subunitcolor\":\"white\"},\"hoverlabel\":{\"align\":\"left\"},\"hovermode\":\"closest\",\"mapbox\":{\"style\":\"light\"},\"paper_bgcolor\":\"white\",\"plot_bgcolor\":\"#E5ECF6\",\"polar\":{\"angularaxis\":{\"gridcolor\":\"white\",\"linecolor\":\"white\",\"ticks\":\"\"},\"bgcolor\":\"#E5ECF6\",\"radialaxis\":{\"gridcolor\":\"white\",\"linecolor\":\"white\",\"ticks\":\"\"}},\"scene\":{\"xaxis\":{\"backgroundcolor\":\"#E5ECF6\",\"gridcolor\":\"white\",\"gridwidth\":2,\"linecolor\":\"white\",\"showbackground\":true,\"ticks\":\"\",\"zerolinecolor\":\"white\"},\"yaxis\":{\"backgroundcolor\":\"#E5ECF6\",\"gridcolor\":\"white\",\"gridwidth\":2,\"linecolor\":\"white\",\"showbackground\":true,\"ticks\":\"\",\"zerolinecolor\":\"white\"},\"zaxis\":{\"backgroundcolor\":\"#E5ECF6\",\"gridcolor\":\"white\",\"gridwidth\":2,\"linecolor\":\"white\",\"showbackground\":true,\"ticks\":\"\",\"zerolinecolor\":\"white\"}},\"shapedefaults\":{\"line\":{\"color\":\"#2a3f5f\"}},\"ternary\":{\"aaxis\":{\"gridcolor\":\"white\",\"linecolor\":\"white\",\"ticks\":\"\"},\"baxis\":{\"gridcolor\":\"white\",\"linecolor\":\"white\",\"ticks\":\"\"},\"bgcolor\":\"#E5ECF6\",\"caxis\":{\"gridcolor\":\"white\",\"linecolor\":\"white\",\"ticks\":\"\"}},\"title\":{\"x\":0.05},\"xaxis\":{\"automargin\":true,\"gridcolor\":\"white\",\"linecolor\":\"white\",\"ticks\":\"\",\"title\":{\"standoff\":15},\"zerolinecolor\":\"white\",\"zerolinewidth\":2},\"yaxis\":{\"automargin\":true,\"gridcolor\":\"white\",\"linecolor\":\"white\",\"ticks\":\"\",\"title\":{\"standoff\":15},\"zerolinecolor\":\"white\",\"zerolinewidth\":2}}}},                        {\"responsive\": true}                    ).then(function(){\n",
              "                            \n",
              "var gd = document.getElementById('14868d02-41d4-4424-a523-3fd9ef37590c');\n",
              "var x = new MutationObserver(function (mutations, observer) {{\n",
              "        var display = window.getComputedStyle(gd).display;\n",
              "        if (!display || display === 'none') {{\n",
              "            console.log([gd, 'removed!']);\n",
              "            Plotly.purge(gd);\n",
              "            observer.disconnect();\n",
              "        }}\n",
              "}});\n",
              "\n",
              "// Listen for the removal of the full notebook cells\n",
              "var notebookContainer = gd.closest('#notebook-container');\n",
              "if (notebookContainer) {{\n",
              "    x.observe(notebookContainer, {childList: true});\n",
              "}}\n",
              "\n",
              "// Listen for the clearing of the current output cell\n",
              "var outputEl = gd.closest('.output');\n",
              "if (outputEl) {{\n",
              "    x.observe(outputEl, {childList: true});\n",
              "}}\n",
              "\n",
              "                        })                };                            </script>        </div>\n",
              "</body>\n",
              "</html>"
            ]
          },
          "metadata": {}
        }
      ]
    },
    {
      "cell_type": "markdown",
      "source": [
        "# Notar que\n",
        "<center>\n",
        "$A = \\sigma_{1}u_{1}v^T_{1} + \\sigma_{2}u_{2}v^T_{2}$\n",
        "</center>"
      ],
      "metadata": {
        "id": "Xp9MImMsoqvk"
      }
    },
    {
      "cell_type": "code",
      "source": [
        "principalDf['col_1'] = principalDf['componente_principal_2']  ## cambio de nombre de columnas para poder sumar\n",
        "principalDf['col_2'] = principalDf['componente_principal_2'] \n",
        "A_2 = pd.DataFrame()\n",
        "A_2[['col_1']]= A_1[['col_1']].add(pd.DataFrame(Vt[1][0] * principalDf['col_1']))\n",
        "A_2[['col_2']]= A_1[['col_2']].add(pd.DataFrame(Vt[1][1] * principalDf['col_2']))\n",
        "import plotly.graph_objects as go\n",
        "fig_1 = px.scatter(A_2, x=\"col_1\", y=\"col_2\",\n",
        "                  opacity=0.3,\n",
        "                   color_discrete_sequence=['blueviolet']\n",
        "                  )\n",
        "fig_2 = px.scatter(A_std, x=A_std.columns[0], y=A_std.columns[1], \n",
        "                    opacity=0.3,\n",
        "                   color_discrete_sequence=['orange']\n",
        "                   )\n",
        "fig = go.Figure(data=fig_1.data + fig_2.data)\n",
        "fig.show()"
      ],
      "metadata": {
        "colab": {
          "base_uri": "https://localhost:8080/",
          "height": 542
        },
        "id": "oyrd1-zzooB5",
        "outputId": "53ecf32d-08bc-4738-afe9-07172b81c6f1"
      },
      "execution_count": 78,
      "outputs": [
        {
          "output_type": "display_data",
          "data": {
            "text/html": [
              "<html>\n",
              "<head><meta charset=\"utf-8\" /></head>\n",
              "<body>\n",
              "    <div>            <script src=\"https://cdnjs.cloudflare.com/ajax/libs/mathjax/2.7.5/MathJax.js?config=TeX-AMS-MML_SVG\"></script><script type=\"text/javascript\">if (window.MathJax) {MathJax.Hub.Config({SVG: {font: \"STIX-Web\"}});}</script>                <script type=\"text/javascript\">window.PlotlyConfig = {MathJaxConfig: 'local'};</script>\n",
              "        <script src=\"https://cdn.plot.ly/plotly-2.8.3.min.js\"></script>                <div id=\"99e2426a-c593-4710-8a77-584cf12e95c7\" class=\"plotly-graph-div\" style=\"height:525px; width:100%;\"></div>            <script type=\"text/javascript\">                                    window.PLOTLYENV=window.PLOTLYENV || {};                                    if (document.getElementById(\"99e2426a-c593-4710-8a77-584cf12e95c7\")) {                    Plotly.newPlot(                        \"99e2426a-c593-4710-8a77-584cf12e95c7\",                        [{\"hovertemplate\":\"col_1=%{x}<br>col_2=%{y}<extra></extra>\",\"legendgroup\":\"\",\"marker\":{\"color\":\"blueviolet\",\"opacity\":0.3,\"symbol\":\"circle\"},\"mode\":\"markers\",\"name\":\"\",\"orientation\":\"v\",\"showlegend\":false,\"x\":[-0.054201234649925434,-0.5962805482158362,-1.256823267261178,0.5440646473915337,-1.9978250952204992,-1.224630082191763,0.2727296521436707,-0.16162627033433025,-1.5982831569804514,-0.3436616811120953,-0.167643841660163,0.9669927169471018,-1.0240904716822004,0.20749592310763598,1.164214323334253,0.31407046438055797,0.8031863721249088,-0.4743267424433944,1.4418594191381604,-0.7661515111237915,-0.3560699629813592,-1.194896481428393,0.6427077386307056,0.46701881986392646,-0.48353789814022385,0.8597936432302212,0.5971462193317372,-1.8647276851558678,1.2699773484481556,-0.7034567358799777,-1.0013570638144484,-1.2459321893896809,0.32969037484163277,1.8540721644874476,-0.18929507712977772,0.046709147448264154,-0.2580914002009243,0.23727833407171417,-0.1610218326359219,0.10073764198517565,1.4095538806699524,-0.17602040870945163,-0.8987094393781979,-0.3203074356375805,2.08768511303531,0.1351513044185035,-0.2894489637296903,1.7258334401940807,0.8588968888212892,0.4715508990411861],\"xaxis\":\"x\",\"y\":[-0.3617044440118261,-0.9355397793843873,-1.1684772581748653,0.2929796737871348,-1.761993282771177,-1.068914414034123,0.5876381964736614,-0.08898608230882384,-1.7497825475503792,-0.7155802832021179,0.237022837484772,0.9959643096587032,-0.9323344963814651,0.2662852178615434,1.294728839013532,0.4139409535847272,0.6180617006601383,-0.7488304998021752,1.468547930944406,-0.9479751500122057,0.006340107747851875,-1.2588207387597616,0.8682883200435214,-0.13114007593515814,-0.45586187694583635,0.7922608046029458,0.7016380094649034,-1.8221015266304326,1.3868612434068135,-0.3783725908981289,-1.1278639360581797,-1.1359983586517945,-0.23630345807817865,1.857642724858879,-0.007750767087546462,0.1277142119036353,-0.13625658692288506,0.41075092478530906,0.22326726649813777,-0.4067722649092736,1.314014431647191,-0.42131812821522496,-0.8678348812541175,0.04445896794785159,1.8973474487717512,0.09372830271931312,-0.0558748799690868,1.4975431709720273,1.0979455669114697,0.42741714619893234],\"yaxis\":\"y\",\"type\":\"scatter\"},{\"hovertemplate\":\"0=%{x}<br>1=%{y}<extra></extra>\",\"legendgroup\":\"\",\"marker\":{\"color\":\"orange\",\"opacity\":0.3,\"symbol\":\"circle\"},\"mode\":\"markers\",\"name\":\"\",\"orientation\":\"v\",\"showlegend\":false,\"x\":[1.255179271101703,0.5130185786542807,0.07236066751362354,0.23470831898649744,0.2810933622644612,0.025975624235659807,-1.04088037115751,-0.4378748085439792,1.765414747159306,2.2292651799389445,-0.577029938377871,-1.2032280226303838,0.6057886652102086,-0.1363720272372139,-1.2959981091863113,-0.4146822869049973,0.44344101373733463,1.765414747159306,-1.3191906308252934,0.8145213599610461,-0.7857626331287084,1.0000615330729015,-1.1800355009914016,1.92776239863218,0.2810933622644612,-0.4146822869049973,-0.8089551547676905,1.0232540547118834,-1.3191906308252934,-0.08998698395924994,0.837713881600028,0.768136316683082,1.2087942278237391,-1.6206934121320586,-0.11317950559823202,-0.2755271570711057,-0.6698000249337986,-0.34510472198805153,-1.017687849518528,1.5334895307694865,-0.9249177629626003,1.255179271101703,1.1392166629067932,-1.064072892796492,-1.2959981091863113,0.1651307540695514,-0.8785327196846363,-0.48425985182194314,-1.2032280226303838,-0.22914211379314176],\"xaxis\":\"x\",\"y\":[0.7907871584384722,1.118059587589894,1.4938168210600447,0.23321190877308726,1.2756352016257637,0.40290872388863924,-0.7364841776014954,0.8150295605978368,1.9907860653270184,0.4877571314464152,-1.5122410467011616,-0.6152721668046726,0.948362772474342,-0.7001205743624486,-1.3910290359043387,-0.675878172203084,-0.7486053786811777,0.948362772474342,-1.0637566067529172,1.5665440275381384,-0.26375733549388636,1.0210899789524357,-1.1970898186294223,1.0695747832711648,0.08775749581689984,-0.7486053786811777,-0.8334537862389537,0.9847263757133888,-1.3789078348246564,-0.14254532469706355,1.3847260113429043,1.0089687778727534,2.015028467486383,-1.5243622477808438,-0.6152721668046726,-0.2395149333345218,-0.14254532469706355,-0.7849689819202246,0.03927269149817071,1.3119988048648106,-1.0273930035138703,0.20896950661372268,0.3665451206495924,-0.6152721668046726,-1.487998644541797,-0.1789089279361104,-0.3122421398126155,-1.0879990089122817,-1.4273926391433855,-0.11830292253769897],\"yaxis\":\"y\",\"type\":\"scatter\"}],                        {\"template\":{\"data\":{\"bar\":[{\"error_x\":{\"color\":\"#2a3f5f\"},\"error_y\":{\"color\":\"#2a3f5f\"},\"marker\":{\"line\":{\"color\":\"#E5ECF6\",\"width\":0.5},\"pattern\":{\"fillmode\":\"overlay\",\"size\":10,\"solidity\":0.2}},\"type\":\"bar\"}],\"barpolar\":[{\"marker\":{\"line\":{\"color\":\"#E5ECF6\",\"width\":0.5},\"pattern\":{\"fillmode\":\"overlay\",\"size\":10,\"solidity\":0.2}},\"type\":\"barpolar\"}],\"carpet\":[{\"aaxis\":{\"endlinecolor\":\"#2a3f5f\",\"gridcolor\":\"white\",\"linecolor\":\"white\",\"minorgridcolor\":\"white\",\"startlinecolor\":\"#2a3f5f\"},\"baxis\":{\"endlinecolor\":\"#2a3f5f\",\"gridcolor\":\"white\",\"linecolor\":\"white\",\"minorgridcolor\":\"white\",\"startlinecolor\":\"#2a3f5f\"},\"type\":\"carpet\"}],\"choropleth\":[{\"colorbar\":{\"outlinewidth\":0,\"ticks\":\"\"},\"type\":\"choropleth\"}],\"contour\":[{\"colorbar\":{\"outlinewidth\":0,\"ticks\":\"\"},\"colorscale\":[[0.0,\"#0d0887\"],[0.1111111111111111,\"#46039f\"],[0.2222222222222222,\"#7201a8\"],[0.3333333333333333,\"#9c179e\"],[0.4444444444444444,\"#bd3786\"],[0.5555555555555556,\"#d8576b\"],[0.6666666666666666,\"#ed7953\"],[0.7777777777777778,\"#fb9f3a\"],[0.8888888888888888,\"#fdca26\"],[1.0,\"#f0f921\"]],\"type\":\"contour\"}],\"contourcarpet\":[{\"colorbar\":{\"outlinewidth\":0,\"ticks\":\"\"},\"type\":\"contourcarpet\"}],\"heatmap\":[{\"colorbar\":{\"outlinewidth\":0,\"ticks\":\"\"},\"colorscale\":[[0.0,\"#0d0887\"],[0.1111111111111111,\"#46039f\"],[0.2222222222222222,\"#7201a8\"],[0.3333333333333333,\"#9c179e\"],[0.4444444444444444,\"#bd3786\"],[0.5555555555555556,\"#d8576b\"],[0.6666666666666666,\"#ed7953\"],[0.7777777777777778,\"#fb9f3a\"],[0.8888888888888888,\"#fdca26\"],[1.0,\"#f0f921\"]],\"type\":\"heatmap\"}],\"heatmapgl\":[{\"colorbar\":{\"outlinewidth\":0,\"ticks\":\"\"},\"colorscale\":[[0.0,\"#0d0887\"],[0.1111111111111111,\"#46039f\"],[0.2222222222222222,\"#7201a8\"],[0.3333333333333333,\"#9c179e\"],[0.4444444444444444,\"#bd3786\"],[0.5555555555555556,\"#d8576b\"],[0.6666666666666666,\"#ed7953\"],[0.7777777777777778,\"#fb9f3a\"],[0.8888888888888888,\"#fdca26\"],[1.0,\"#f0f921\"]],\"type\":\"heatmapgl\"}],\"histogram\":[{\"marker\":{\"pattern\":{\"fillmode\":\"overlay\",\"size\":10,\"solidity\":0.2}},\"type\":\"histogram\"}],\"histogram2d\":[{\"colorbar\":{\"outlinewidth\":0,\"ticks\":\"\"},\"colorscale\":[[0.0,\"#0d0887\"],[0.1111111111111111,\"#46039f\"],[0.2222222222222222,\"#7201a8\"],[0.3333333333333333,\"#9c179e\"],[0.4444444444444444,\"#bd3786\"],[0.5555555555555556,\"#d8576b\"],[0.6666666666666666,\"#ed7953\"],[0.7777777777777778,\"#fb9f3a\"],[0.8888888888888888,\"#fdca26\"],[1.0,\"#f0f921\"]],\"type\":\"histogram2d\"}],\"histogram2dcontour\":[{\"colorbar\":{\"outlinewidth\":0,\"ticks\":\"\"},\"colorscale\":[[0.0,\"#0d0887\"],[0.1111111111111111,\"#46039f\"],[0.2222222222222222,\"#7201a8\"],[0.3333333333333333,\"#9c179e\"],[0.4444444444444444,\"#bd3786\"],[0.5555555555555556,\"#d8576b\"],[0.6666666666666666,\"#ed7953\"],[0.7777777777777778,\"#fb9f3a\"],[0.8888888888888888,\"#fdca26\"],[1.0,\"#f0f921\"]],\"type\":\"histogram2dcontour\"}],\"mesh3d\":[{\"colorbar\":{\"outlinewidth\":0,\"ticks\":\"\"},\"type\":\"mesh3d\"}],\"parcoords\":[{\"line\":{\"colorbar\":{\"outlinewidth\":0,\"ticks\":\"\"}},\"type\":\"parcoords\"}],\"pie\":[{\"automargin\":true,\"type\":\"pie\"}],\"scatter\":[{\"marker\":{\"colorbar\":{\"outlinewidth\":0,\"ticks\":\"\"}},\"type\":\"scatter\"}],\"scatter3d\":[{\"line\":{\"colorbar\":{\"outlinewidth\":0,\"ticks\":\"\"}},\"marker\":{\"colorbar\":{\"outlinewidth\":0,\"ticks\":\"\"}},\"type\":\"scatter3d\"}],\"scattercarpet\":[{\"marker\":{\"colorbar\":{\"outlinewidth\":0,\"ticks\":\"\"}},\"type\":\"scattercarpet\"}],\"scattergeo\":[{\"marker\":{\"colorbar\":{\"outlinewidth\":0,\"ticks\":\"\"}},\"type\":\"scattergeo\"}],\"scattergl\":[{\"marker\":{\"colorbar\":{\"outlinewidth\":0,\"ticks\":\"\"}},\"type\":\"scattergl\"}],\"scattermapbox\":[{\"marker\":{\"colorbar\":{\"outlinewidth\":0,\"ticks\":\"\"}},\"type\":\"scattermapbox\"}],\"scatterpolar\":[{\"marker\":{\"colorbar\":{\"outlinewidth\":0,\"ticks\":\"\"}},\"type\":\"scatterpolar\"}],\"scatterpolargl\":[{\"marker\":{\"colorbar\":{\"outlinewidth\":0,\"ticks\":\"\"}},\"type\":\"scatterpolargl\"}],\"scatterternary\":[{\"marker\":{\"colorbar\":{\"outlinewidth\":0,\"ticks\":\"\"}},\"type\":\"scatterternary\"}],\"surface\":[{\"colorbar\":{\"outlinewidth\":0,\"ticks\":\"\"},\"colorscale\":[[0.0,\"#0d0887\"],[0.1111111111111111,\"#46039f\"],[0.2222222222222222,\"#7201a8\"],[0.3333333333333333,\"#9c179e\"],[0.4444444444444444,\"#bd3786\"],[0.5555555555555556,\"#d8576b\"],[0.6666666666666666,\"#ed7953\"],[0.7777777777777778,\"#fb9f3a\"],[0.8888888888888888,\"#fdca26\"],[1.0,\"#f0f921\"]],\"type\":\"surface\"}],\"table\":[{\"cells\":{\"fill\":{\"color\":\"#EBF0F8\"},\"line\":{\"color\":\"white\"}},\"header\":{\"fill\":{\"color\":\"#C8D4E3\"},\"line\":{\"color\":\"white\"}},\"type\":\"table\"}]},\"layout\":{\"annotationdefaults\":{\"arrowcolor\":\"#2a3f5f\",\"arrowhead\":0,\"arrowwidth\":1},\"autotypenumbers\":\"strict\",\"coloraxis\":{\"colorbar\":{\"outlinewidth\":0,\"ticks\":\"\"}},\"colorscale\":{\"diverging\":[[0,\"#8e0152\"],[0.1,\"#c51b7d\"],[0.2,\"#de77ae\"],[0.3,\"#f1b6da\"],[0.4,\"#fde0ef\"],[0.5,\"#f7f7f7\"],[0.6,\"#e6f5d0\"],[0.7,\"#b8e186\"],[0.8,\"#7fbc41\"],[0.9,\"#4d9221\"],[1,\"#276419\"]],\"sequential\":[[0.0,\"#0d0887\"],[0.1111111111111111,\"#46039f\"],[0.2222222222222222,\"#7201a8\"],[0.3333333333333333,\"#9c179e\"],[0.4444444444444444,\"#bd3786\"],[0.5555555555555556,\"#d8576b\"],[0.6666666666666666,\"#ed7953\"],[0.7777777777777778,\"#fb9f3a\"],[0.8888888888888888,\"#fdca26\"],[1.0,\"#f0f921\"]],\"sequentialminus\":[[0.0,\"#0d0887\"],[0.1111111111111111,\"#46039f\"],[0.2222222222222222,\"#7201a8\"],[0.3333333333333333,\"#9c179e\"],[0.4444444444444444,\"#bd3786\"],[0.5555555555555556,\"#d8576b\"],[0.6666666666666666,\"#ed7953\"],[0.7777777777777778,\"#fb9f3a\"],[0.8888888888888888,\"#fdca26\"],[1.0,\"#f0f921\"]]},\"colorway\":[\"#636efa\",\"#EF553B\",\"#00cc96\",\"#ab63fa\",\"#FFA15A\",\"#19d3f3\",\"#FF6692\",\"#B6E880\",\"#FF97FF\",\"#FECB52\"],\"font\":{\"color\":\"#2a3f5f\"},\"geo\":{\"bgcolor\":\"white\",\"lakecolor\":\"white\",\"landcolor\":\"#E5ECF6\",\"showlakes\":true,\"showland\":true,\"subunitcolor\":\"white\"},\"hoverlabel\":{\"align\":\"left\"},\"hovermode\":\"closest\",\"mapbox\":{\"style\":\"light\"},\"paper_bgcolor\":\"white\",\"plot_bgcolor\":\"#E5ECF6\",\"polar\":{\"angularaxis\":{\"gridcolor\":\"white\",\"linecolor\":\"white\",\"ticks\":\"\"},\"bgcolor\":\"#E5ECF6\",\"radialaxis\":{\"gridcolor\":\"white\",\"linecolor\":\"white\",\"ticks\":\"\"}},\"scene\":{\"xaxis\":{\"backgroundcolor\":\"#E5ECF6\",\"gridcolor\":\"white\",\"gridwidth\":2,\"linecolor\":\"white\",\"showbackground\":true,\"ticks\":\"\",\"zerolinecolor\":\"white\"},\"yaxis\":{\"backgroundcolor\":\"#E5ECF6\",\"gridcolor\":\"white\",\"gridwidth\":2,\"linecolor\":\"white\",\"showbackground\":true,\"ticks\":\"\",\"zerolinecolor\":\"white\"},\"zaxis\":{\"backgroundcolor\":\"#E5ECF6\",\"gridcolor\":\"white\",\"gridwidth\":2,\"linecolor\":\"white\",\"showbackground\":true,\"ticks\":\"\",\"zerolinecolor\":\"white\"}},\"shapedefaults\":{\"line\":{\"color\":\"#2a3f5f\"}},\"ternary\":{\"aaxis\":{\"gridcolor\":\"white\",\"linecolor\":\"white\",\"ticks\":\"\"},\"baxis\":{\"gridcolor\":\"white\",\"linecolor\":\"white\",\"ticks\":\"\"},\"bgcolor\":\"#E5ECF6\",\"caxis\":{\"gridcolor\":\"white\",\"linecolor\":\"white\",\"ticks\":\"\"}},\"title\":{\"x\":0.05},\"xaxis\":{\"automargin\":true,\"gridcolor\":\"white\",\"linecolor\":\"white\",\"ticks\":\"\",\"title\":{\"standoff\":15},\"zerolinecolor\":\"white\",\"zerolinewidth\":2},\"yaxis\":{\"automargin\":true,\"gridcolor\":\"white\",\"linecolor\":\"white\",\"ticks\":\"\",\"title\":{\"standoff\":15},\"zerolinecolor\":\"white\",\"zerolinewidth\":2}}}},                        {\"responsive\": true}                    ).then(function(){\n",
              "                            \n",
              "var gd = document.getElementById('99e2426a-c593-4710-8a77-584cf12e95c7');\n",
              "var x = new MutationObserver(function (mutations, observer) {{\n",
              "        var display = window.getComputedStyle(gd).display;\n",
              "        if (!display || display === 'none') {{\n",
              "            console.log([gd, 'removed!']);\n",
              "            Plotly.purge(gd);\n",
              "            observer.disconnect();\n",
              "        }}\n",
              "}});\n",
              "\n",
              "// Listen for the removal of the full notebook cells\n",
              "var notebookContainer = gd.closest('#notebook-container');\n",
              "if (notebookContainer) {{\n",
              "    x.observe(notebookContainer, {childList: true});\n",
              "}}\n",
              "\n",
              "// Listen for the clearing of the current output cell\n",
              "var outputEl = gd.closest('.output');\n",
              "if (outputEl) {{\n",
              "    x.observe(outputEl, {childList: true});\n",
              "}}\n",
              "\n",
              "                        })                };                            </script>        </div>\n",
              "</body>\n",
              "</html>"
            ]
          },
          "metadata": {}
        }
      ]
    },
    {
      "cell_type": "markdown",
      "source": [
        "# Varianza explicada y varianza total\n",
        "Cada valor singular explica una parte de la varianza total:\n",
        "<center>\n",
        "$T = \\frac{\\sigma^2_{1} + \\sigma^2_{2} + \\sigma^2_{3} + \\sigma^2_{4}}{n - 1}$\n",
        "</center>\n",
        "* El 1er valor singular explica la parte $\\frac{\\sigma^2_{1}}{n - 1}$ de $T$, el 2do valor singular explica la parte de $\\frac{\\sigma^2_{2}}{n - 1}$ de $T$\n",
        "\n",
        "Y así sucesivamente si hubieran más valores singulares."
      ],
      "metadata": {
        "id": "2vecOhADrT0U"
      }
    },
    {
      "cell_type": "code",
      "source": [
        "pca.explained_variance_"
      ],
      "metadata": {
        "colab": {
          "base_uri": "https://localhost:8080/"
        },
        "id": "-5qxXcsFpElm",
        "outputId": "198d308b-390e-4c0c-ab53-5e150c3860a9"
      },
      "execution_count": 79,
      "outputs": [
        {
          "output_type": "execute_result",
          "data": {
            "text/plain": [
              "array([2.53085875, 1.00996444, 0.36383998, 0.17696948])"
            ]
          },
          "metadata": {},
          "execution_count": 79
        }
      ]
    },
    {
      "cell_type": "code",
      "source": [
        "varianza_explicada_1 = (S[0]*S[0]/(A.shape[0]-1)).round(4)\n",
        "varianza_explicada_2 = (S[1]*S[1]/(A.shape[0]-1)).round(4)\n",
        "varianza_explicada_3 = (S[2]*S[2]/(A.shape[0]-1)).round(4)\n",
        "varianza_explicada_4 = (S[3]*S[3]/(A.shape[0]-1)).round(4)\n",
        "print('varianza_explicada_1 = ',varianza_explicada_1)\n",
        "print('varianza_explicada_2 = ',varianza_explicada_2)\n",
        "print('varianza_explicada_3 = ',varianza_explicada_3)\n",
        "print('varianza_explicada_4 = ',varianza_explicada_4)"
      ],
      "metadata": {
        "colab": {
          "base_uri": "https://localhost:8080/"
        },
        "id": "CFe0RRPVsujX",
        "outputId": "a4cec013-01c1-4775-8e32-082e4aea401c"
      },
      "execution_count": 80,
      "outputs": [
        {
          "output_type": "stream",
          "name": "stdout",
          "text": [
            "varianza_explicada_1 =  2.5309\n",
            "varianza_explicada_2 =  1.01\n",
            "varianza_explicada_3 =  0.3638\n",
            "varianza_explicada_4 =  0.177\n"
          ]
        }
      ]
    },
    {
      "cell_type": "markdown",
      "source": [
        "# Radio de varianza explicada\n",
        "Para i = {1, 2, 3, 4}\n",
        "* radio_varianza_explicada_i = $\\frac{\\sigma^2_{i}}{\\sigma^2_{1} + \\sigma^2_{2} + \\sigma^2_{3} + \\sigma^2_{4}}$"
      ],
      "metadata": {
        "id": "VXWRl-qOsyXd"
      }
    },
    {
      "cell_type": "markdown",
      "source": [
        "Usando la librería:"
      ],
      "metadata": {
        "id": "n8wVvfad7cw6"
      }
    },
    {
      "cell_type": "code",
      "source": [
        "pca.explained_variance_ratio_ "
      ],
      "metadata": {
        "colab": {
          "base_uri": "https://localhost:8080/"
        },
        "id": "D9G0rXAotRf4",
        "outputId": "f06ba00d-b190-4b9b-f491-7e0ea3a72b60"
      },
      "execution_count": 81,
      "outputs": [
        {
          "output_type": "execute_result",
          "data": {
            "text/plain": [
              "array([0.62006039, 0.24744129, 0.0891408 , 0.04335752])"
            ]
          },
          "metadata": {},
          "execution_count": 81
        }
      ]
    },
    {
      "cell_type": "markdown",
      "source": [
        "Cálculo usando la fórmula:"
      ],
      "metadata": {
        "id": "H-ZYVumc7fUG"
      }
    },
    {
      "cell_type": "code",
      "source": [
        "radio_varianza_explicada_1 = (S[0]*S[0]/(S[0]*S[0]+S[1]*S[1]+S[2]*S[2]+S[3]*S[3])).round(4)\n",
        "radio_varianza_explicada_2 = (S[1]*S[1]/(S[0]*S[0]+S[1]*S[1]+S[2]*S[2]+S[3]*S[3])).round(4)\n",
        "radio_varianza_explicada_3 = (S[2]*S[2]/(S[0]*S[0]+S[1]*S[1]+S[2]*S[2]+S[3]*S[3])).round(4)\n",
        "radio_varianza_explicada_4 = (S[3]*S[3]/(S[0]*S[0]+S[1]*S[1]+S[2]*S[2]+S[3]*S[3])).round(4)\n",
        "print('radio_varianza_explicada_1 = ', radio_varianza_explicada_1)\n",
        "print('radio-varianza_explicada_2 = ', radio_varianza_explicada_2)\n",
        "print('radio_varianza_explicada_3 = ', radio_varianza_explicada_3)\n",
        "print('radio-varianza_explicada_4 = ', radio_varianza_explicada_4)"
      ],
      "metadata": {
        "colab": {
          "base_uri": "https://localhost:8080/"
        },
        "id": "36eMycUZtWGV",
        "outputId": "2af1b6cb-7651-4223-8f0c-77b148eea8b3"
      },
      "execution_count": 82,
      "outputs": [
        {
          "output_type": "stream",
          "name": "stdout",
          "text": [
            "radio_varianza_explicada_1 =  0.6201\n",
            "radio-varianza_explicada_2 =  0.2474\n",
            "radio_varianza_explicada_3 =  0.0891\n",
            "radio-varianza_explicada_4 =  0.0434\n"
          ]
        }
      ]
    },
    {
      "cell_type": "markdown",
      "source": [
        "**Conclusión:** Para este ejemplo podemos notar que la varianza observada en los datos puede ser explicada en su mayoría por los componentes 1 y 2, ya que estos explican la varianza de los datos en un 62% y 0.24% respectivamente."
      ],
      "metadata": {
        "id": "6GrMXXA46hls"
      }
    }
  ]
}