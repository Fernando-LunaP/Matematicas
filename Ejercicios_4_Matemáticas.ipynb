{
  "nbformat": 4,
  "nbformat_minor": 0,
  "metadata": {
    "colab": {
      "provenance": [],
      "collapsed_sections": [],
      "authorship_tag": "ABX9TyOVQDAd0BsdhTre62eo/QrS",
      "include_colab_link": true
    },
    "kernelspec": {
      "name": "python3",
      "display_name": "Python 3"
    },
    "language_info": {
      "name": "python"
    }
  },
  "cells": [
    {
      "cell_type": "markdown",
      "metadata": {
        "id": "view-in-github",
        "colab_type": "text"
      },
      "source": [
        "<a href=\"https://colab.research.google.com/github/Fernando-LunaP/Matematicas/blob/main/Ejercicios_4_Matem%C3%A1ticas.ipynb\" target=\"_parent\"><img src=\"https://colab.research.google.com/assets/colab-badge.svg\" alt=\"Open In Colab\"/></a>"
      ]
    },
    {
      "cell_type": "markdown",
      "source": [
        "# Ejercicios 4\n",
        "#Alumno: Fernando Luna Ponce"
      ],
      "metadata": {
        "id": "-N9zX7Bp4Ppo"
      }
    },
    {
      "cell_type": "markdown",
      "source": [
        "# Parte 1"
      ],
      "metadata": {
        "id": "V6HBk5rU9NrX"
      }
    },
    {
      "cell_type": "markdown",
      "source": [
        "Considera la matriz\n",
        "\n",
        "<center>\n",
        "$M = \\begin{equation}\n",
        "\\begin{pmatrix}\n",
        "1 & 1 & 2 & 1\\\\\n",
        "0 & 0 & 0 & 1\\\\\n",
        "1 & 2 & 2 & 1\n",
        "\\end{pmatrix}\n",
        "\\end{equation}$\n",
        "</center>\n",
        "\n"
      ],
      "metadata": {
        "id": "hE7qf8cp9TLz"
      }
    },
    {
      "cell_type": "markdown",
      "source": [
        "- Sea $A$ la matriz formada con las dos primeras columnas de $M$. Describe:\n",
        "  1. el dominio y el codominio de $A$ como transformación lineal.\n",
        "  2. el rango de $A$ y el kernel de $A$\n",
        "  3. el rango de $A^T$ y el kernel de $A^T$\n",
        "\n",
        "  Decide  si  la  transformación $A$ es sobre, uno-a-uno, o ninguna de las dos anteriores. Además, note que claramente la tercera columna de $M$ es una combinación lineal de las dos anteriores\n",
        "\n",
        "<center>\n",
        "$col_{3} = 2col_{1} + 0col_{2}$\n",
        "</center>\n",
        "\n",
        "Encuentra esa respuesta por medio de la pseudoinversa de $A$."
      ],
      "metadata": {
        "id": "w5T9l-Pa-eoE"
      }
    },
    {
      "cell_type": "markdown",
      "source": [
        "Tenemos que $A = \\begin{equation}\n",
        "\\begin{pmatrix}\n",
        "1 & 1\\\\\n",
        "0 & 0\\\\\n",
        "1 & 2\n",
        "\\end{pmatrix}\n",
        "\\end{equation}$"
      ],
      "metadata": {
        "id": "tgzeNyrd__nP"
      }
    },
    {
      "cell_type": "markdown",
      "source": [
        "1. $A : \\mathbb{R}^2 \\rightarrow \\mathbb{R}^3$\n",
        "\n",
        "2. Como las columnas de A son l.i. tenemos que  $Ran A = Span \\{(1,0,1)^T,(1,0,2)^T\\}$ y $Ker A = \\{o\\}$\n",
        "\n",
        "3. Tenemos $Ran A^T = Span\\{(1,1)^T, (1,2)^T\\}$ y $Ker A^T = {(0, -1, 0)^T}$"
      ],
      "metadata": {
        "id": "0vktHWuCHY5f"
      }
    },
    {
      "cell_type": "code",
      "source": [
        "import numpy as np\n",
        "from scipy.linalg import null_space"
      ],
      "metadata": {
        "id": "osGTBZcDVGoZ"
      },
      "execution_count": 1,
      "outputs": []
    },
    {
      "cell_type": "code",
      "source": [
        "At = np.array([[1, 0, 1], [1, 0, 2]])\n",
        "KerAt = null_space(At)\n",
        "KerAt"
      ],
      "metadata": {
        "colab": {
          "base_uri": "https://localhost:8080/"
        },
        "id": "4j-wiIlaVqmO",
        "outputId": "b4894ef4-4c61-4716-d8ba-8313640848bb"
      },
      "execution_count": 2,
      "outputs": [
        {
          "output_type": "execute_result",
          "data": {
            "text/plain": [
              "array([[ 0.],\n",
              "       [-1.],\n",
              "       [ 0.]])"
            ]
          },
          "metadata": {},
          "execution_count": 2
        }
      ]
    },
    {
      "cell_type": "markdown",
      "source": [
        "Tenemos que hay un mayor número de filas que de columnas y aparte $dim (Ker A) = 0$ por lo tanto la matriz A es una transformación uno-a-uno"
      ],
      "metadata": {
        "id": "iXJNFXypAloS"
      }
    },
    {
      "cell_type": "markdown",
      "source": [
        "Tenemos que A es full column rank por lo tanto para encontrar la respuesta utilizamos la siguiente fórmula $x^+ = A^+b = (A^TA)^{-1}A^Tb$"
      ],
      "metadata": {
        "id": "_9FZ8gwBW3Yg"
      }
    },
    {
      "cell_type": "code",
      "execution_count": 3,
      "metadata": {
        "colab": {
          "base_uri": "https://localhost:8080/"
        },
        "id": "zrA8f8e79GEX",
        "outputId": "c5255d59-0bc2-4d0f-eaf6-97dfb525b3aa"
      },
      "outputs": [
        {
          "output_type": "stream",
          "name": "stdout",
          "text": [
            "[[2.]\n",
            " [0.]]\n"
          ]
        }
      ],
      "source": [
        "A = np.array([[1, 1], [0, 0], [1, 2]])\n",
        "b = np.array([[2], [0], [2]])\n",
        "A_penrose = np.dot(np.linalg.inv(np.dot(A.transpose(), A)), A.transpose())\n",
        "x_penrose = A_penrose.dot(b)\n",
        "print(x_penrose)"
      ]
    },
    {
      "cell_type": "markdown",
      "source": [
        "por lo tanto $Col_{3} = 2Col_{1}+0Col_{2}$"
      ],
      "metadata": {
        "id": "oadNUEN3X7nz"
      }
    },
    {
      "cell_type": "markdown",
      "source": [
        "- Sea ahora $A$ la matriz formada con los dos primeros renglones de M. Describe:\n",
        "  1. el dominio y el codominio de $A$ como transformación lineal.\n",
        "  2. el rango de $A$ y el kernel de $A$\n",
        "  3. el rango de $A^T$ y el kernel de $A^T$\n",
        "\n",
        "  Decide si la transformación A es sobre, uno-a-uno, o ninguna de las dos anteriores. Describe al conjunto de soluciones de $Ax = b$ donde $b = (6, 0)^T$ . Puedes encontrar una solución específica $x^+$ por medio de la pseudoinversa? Hint: Las soluciones de $Ax = b$ es el conjunto:\n",
        "\n",
        "<center>\n",
        "  $x_{esp} + KerA = \\{x=x_{esp} + x_{null} : x_{null} \\in KerA\\}$\n",
        "</center>\n",
        "\n",
        "donde $x_{esp}$ es una solución específica de $Ax = b$. ¡Este conjunto es independiente de la solución específica que se use para la descripción!"
      ],
      "metadata": {
        "id": "z3bFh4caYNMv"
      }
    },
    {
      "cell_type": "markdown",
      "source": [
        "Tenemos que $A = \\begin{equation}\n",
        "\\begin{pmatrix}\n",
        "1 & 1 & 2 & 1\\\\\n",
        "0 & 0 & 0 & 1\n",
        "\\end{pmatrix}\n",
        "\\end{equation}$"
      ],
      "metadata": {
        "id": "Yg3IO_JxYdub"
      }
    },
    {
      "cell_type": "markdown",
      "source": [
        "1. $A : \\mathbb{R}^4 \\rightarrow \\mathbb{R}^2$\n",
        "\n",
        "2. Tenemos que $dim(RanA) = 2$ y $Ran A = Span \\{(1,0)^T,(1,1)^T\\}$ y $Ker A = \\{(-0.71, -0.42, 0.56, 0)^T, (-0.57, 0.81, -0.12, 0)^T\\}$\n",
        "\n",
        "3. Tenemos $Ran A^T = Span\\{(1,1,2,1)^T, (0,0,0,1)^T\\}$ y $Ker A^T = \\{o\\}$"
      ],
      "metadata": {
        "id": "D8iyQ6l6anQV"
      }
    },
    {
      "cell_type": "code",
      "source": [
        "A = np.array([[1, 1, 2, 1], [0, 0, 0, 1]])\n",
        "kerA = null_space(A)\n",
        "print(np.round(kerA, 2))"
      ],
      "metadata": {
        "colab": {
          "base_uri": "https://localhost:8080/"
        },
        "id": "UL6mM3NeJK6p",
        "outputId": "f754c24a-c873-4c6f-9b1a-fe064cf987dc"
      },
      "execution_count": 4,
      "outputs": [
        {
          "output_type": "stream",
          "name": "stdout",
          "text": [
            "[[-0.71 -0.57]\n",
            " [-0.42  0.81]\n",
            " [ 0.56 -0.12]\n",
            " [-0.    0.  ]]\n"
          ]
        }
      ]
    },
    {
      "cell_type": "markdown",
      "source": [
        "Como $A$ tiene más columnas que columnas que filas y $RanA \\subset \\mathbb{R}^2$ por lo tanto A es una transformación sobre"
      ],
      "metadata": {
        "id": "ouWBUMQPdxrW"
      }
    },
    {
      "cell_type": "markdown",
      "source": [
        "Tenemos que A es full row rank por lo tanto para encontrar la respuesta utilizamos la siguiente fórmula $x^+ = A^+b = A^T(AA^T)^{-1}b$"
      ],
      "metadata": {
        "id": "pZ4vgsYTXvkU"
      }
    },
    {
      "cell_type": "code",
      "source": [
        "A = np.array([[1, 1, 2, 1], [0, 0, 0, 1]])\n",
        "b = np.array([[6], [0]])\n",
        "A_penrose = np.dot(A.transpose(), np.linalg.inv(np.dot(A, A.transpose())))\n",
        "x_penrose = A_penrose.dot(b)\n",
        "print(x_penrose)"
      ],
      "metadata": {
        "colab": {
          "base_uri": "https://localhost:8080/"
        },
        "id": "mDgwFwsuYN2C",
        "outputId": "b835320b-3af4-4a6b-e5be-03596135356a"
      },
      "execution_count": 5,
      "outputs": [
        {
          "output_type": "stream",
          "name": "stdout",
          "text": [
            "[[1.]\n",
            " [1.]\n",
            " [2.]\n",
            " [0.]]\n"
          ]
        }
      ]
    },
    {
      "cell_type": "markdown",
      "source": [
        "# Parte 2"
      ],
      "metadata": {
        "id": "dOkUskvb4Lz5"
      }
    },
    {
      "cell_type": "markdown",
      "source": [
        "**Demuestra que $A$ es uno-a-uno si y sólo si $A^T$ es sobre.**"
      ],
      "metadata": {
        "id": "H0P57Ro930Ij"
      }
    },
    {
      "cell_type": "markdown",
      "source": [
        "Tenemos nuestra matriz $A_{nxm} = \\begin{equation}\n",
        "\\begin{pmatrix}\n",
        "a_{1,1} & a_{1,2} & \\cdots & a_{1,m} \\\\\n",
        "a_{2,1} & a_{2,2} & \\cdots & a_{2,m} \\\\\n",
        "a_{3,1} & a_{3,2} & \\cdots & a_{3,m} \\\\\n",
        "\\vdots & \\vdots   & \\ddots & \\vdots \\\\\n",
        "a_{n,1} & a_{n,2} & \\cdots & a_{n,m} \\\\\n",
        "\\end{pmatrix}\n",
        "\\end{equation}$ "
      ],
      "metadata": {
        "id": "LnYtJqny4Ccq"
      }
    },
    {
      "cell_type": "markdown",
      "source": [
        "Supongamos que $A$ es uno-a-uno entonces $n\\geq m$ y $dim (Ker A) = 0 \\Rightarrow Rank A = m$"
      ],
      "metadata": {
        "id": "sXa3wYzn7lFE"
      }
    },
    {
      "cell_type": "markdown",
      "source": [
        "Sea $A_{m,n}^T = \\begin{equation}\n",
        "\\begin{pmatrix}\n",
        "a_{1,1} & a_{1,2} & a_{1,3} &\\cdots & a_{1,n} \\\\\n",
        "a_{2,1} & a_{2,2} & a_{2,3} & \\cdots & a_{2,n} \\\\\n",
        "\\vdots & \\vdots   & \\vdots  & \\ddots & \\vdots \\\\\n",
        "a_{m,1} & a_{m,2} & a_{m,3} & \\cdots & a_{m,n} \\\\\n",
        "\\end{pmatrix}\n",
        "\\end{equation}$ "
      ],
      "metadata": {
        "id": "N-qsLVHXEBim"
      }
    },
    {
      "cell_type": "markdown",
      "source": [
        "Para $A^T$ tenemos que $n\\geq m$, sabemos que $Rank A = Rank A^T$, $A^T: \\mathbb{R}^n \\rightarrow \\mathbb{R}^m$ y $Rank A^T = m$ entonces $\n",
        "A^T$ es sobre"
      ],
      "metadata": {
        "id": "8DvDQQzs-tUj"
      }
    },
    {
      "cell_type": "markdown",
      "source": [
        "Supongamos que $A$ no es uno-a-uno $\\Rightarrow dim(Ker A) \\neq 0$ entonces $Rank$ $A < m$, por lo que $Rank$ $A^T \\neq m$, entonces $A^T$ no es sobre"
      ],
      "metadata": {
        "id": "ceKhBlLlHHNs"
      }
    },
    {
      "cell_type": "markdown",
      "source": [
        "Con esto demostramos que $A_{1-1} \\Longleftrightarrow A^T_{sobre}$"
      ],
      "metadata": {
        "id": "xnn8KfOUK-nm"
      }
    },
    {
      "cell_type": "markdown",
      "source": [
        "**Prueba en una línea que $Ran A$ es ortogonal a $Ker A^T$ en el sentido que cada vector en $Ran A$ es ortogonal a cada elemento del $Ker A^T$.**"
      ],
      "metadata": {
        "id": "vYU4HTXALjpP"
      }
    },
    {
      "cell_type": "markdown",
      "source": [
        "El producto punto de algún elemento del Kernel de $A^T$ con las columnas de A debe ser igual a cero, el producto punto de dos vectores ortogonales es igual a cero, por lo tanto $Ran A$ es ortogonal a $Ker A^T$."
      ],
      "metadata": {
        "id": "GmujwTEZMOUb"
      }
    },
    {
      "cell_type": "markdown",
      "source": [
        "**Prueba que si las columnas de una matriz $A$ forman un conjunto linealmente independiente entonces $A^TA$ es invertible.**"
      ],
      "metadata": {
        "id": "dEk_6DQyPqkA"
      }
    },
    {
      "cell_type": "markdown",
      "source": [
        "$A^TA$ es invertible si $dim(Ker A^TA) = 0$ es decir que sus columnas sean l.i. ya que entonces su determinante será 0, entonces necesitamos probar que $Ker(A^TA) = Ker A$  \n",
        "Asumimos que $Ax = 0$, entonces $x$ está en el espacio nulo de $A$ y las matrices $A^TA$ y $A$ comparten el espacio nulo de la siguiente manera\n",
        "<center>\n",
        "$(A^TA)x = A^T(Ax)$\n",
        "</center>\n",
        "<center>\n",
        "$ = A^T0$\n",
        "</center>\n",
        "<center>\n",
        "$= 0$\n",
        "</center>\n",
        "\n",
        "De $A^TAx = 0$ debemos probar que $Ax = 0$, como $A$ es una matriz rectangular, no tiene inversa, pero podemos multiplicar por $x^T$ a la izquierda.\n",
        "<center>\n",
        "$(A^TA)x = 0$  \n",
        "</center>\n",
        "<center>\n",
        "$x^T(A^TA)x = x^T0$  \n",
        "</center>\n",
        "<center>\n",
        "$(x^TA^T)(Ax) = 0$  \n",
        "</center>\n",
        "<center>\n",
        "$(Ax)^T(Ax) = 0$  \n",
        "</center>\n",
        "<center>\n",
        "$\\lVert Ax \\rVert^2 = 0$  \n",
        "</center>"
      ],
      "metadata": {
        "id": "v9hAp5OBsHXM"
      }
    },
    {
      "cell_type": "markdown",
      "source": [
        "Entonces $A^TA$ y $A$ comparten el mismo espacio nulo, entonces si $A$ tiene todas sus columnas independientes, también $A^TA$ las tendrá, en este caso $A^TA es invertible$"
      ],
      "metadata": {
        "id": "LGNK-0ZR3KoS"
      }
    },
    {
      "cell_type": "markdown",
      "source": [
        "**Sea $ω$ un vector en $\\mathbb{R}^n$ para algún $n$ y $b \\in \\mathbb{R}$. Considere el conjunto de todos $x$ tales que $\\langle \\omega, x \\rangle = b$, Da una descripción geométrica de este conjunto en términos de $\\omega$ y $b$.**"
      ],
      "metadata": {
        "id": "PuGffM7q8Jba"
      }
    },
    {
      "cell_type": "markdown",
      "source": [
        "Se genera un hiperplano, que representa el conjunto de soluciones $x$ de una ecuación de la forma $\\langle \\omega, x \\rangle = b$. Este hiperplano divide en dos mitades el espacio $\\mathbb{R}^n$. Un hiperplano en un espacio unidimensional corresponde a un punto que divide una recta en dos partes, en una plano bidimensional corresponde a una línea que separa al plano cartesiano en dos partes, en 3 dimensiones divide el espacio en dos partes, para un espacio n-dimensional con n>3 sería simplemente llamado hiperplano. Si $b=0$ tenemos un hiperplano que pasa por el origen."
      ],
      "metadata": {
        "id": "zN9BSjblcNWM"
      }
    },
    {
      "cell_type": "markdown",
      "source": [
        "**Verifica que $Rank \\; A = Rank \\; A^TA = Rank \\; AA^T$**"
      ],
      "metadata": {
        "id": "N3y9q97Q_gUM"
      }
    },
    {
      "cell_type": "markdown",
      "source": [
        "Partimos del hecho de que $Rank \\; A = Rank \\; A^T$ y además $Ker \\; A = Ker \\; A^TA \\Rightarrow Rank \\; A = Rank \\; A^TA$  \n",
        "Entonces tenemos que $Rank \\; A^T = Rank \\; AA^T$  \n",
        "$\\therefore Rank \\; A = Rank \\; A^TA = Rank \\; AA^T$\n"
      ],
      "metadata": {
        "id": "0AwLCe8-lsMR"
      }
    }
  ]
}